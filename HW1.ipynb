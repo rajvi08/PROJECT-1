{
  "cells": [
    {
      "cell_type": "markdown",
      "metadata": {
        "id": "view-in-github",
        "colab_type": "text"
      },
      "source": [
        "<a href=\"https://colab.research.google.com/github/rajvi08/PROJECT-1/blob/main/HW1.ipynb\" target=\"_parent\"><img src=\"https://colab.research.google.com/assets/colab-badge.svg\" alt=\"Open In Colab\"/></a>"
      ]
    },
    {
      "cell_type": "markdown",
      "metadata": {
        "id": "KbDGHTpUXV6X"
      },
      "source": [
        "## DESIGN 6197/4197 | AI & Design: Generative AI from MLPs to APIs\n",
        "## Homework 1 | Introduction to Artificial Neural Networks | 15 Points Total\n",
        "\n",
        "*Adapted from 4.453x Creative Machine Learning for Design @ MIT | Instructiors: Renaud Danhaive, Ous Abou Ras, Natasha Hirt, and Caitlin Mueller*\n",
        "\n",
        "In this notebook you will get some experience building simple MLP networks to perform regression (aka fitting a curve to some data points) and classification.\n",
        "\n",
        "For the regression task you will need to generate some data to train your model with, then for the classification task attempt to predict the value of a hand-written digit using the **[MNIST dataset](http://yann.lecun.com/exdb/mnist/)**, which is a canonical example in ML that was often used to benchmark machine learning algorithms until recently (now, it is often seen as too simple a problem). MNIST contains 60,000 training examples and 10,000 validation examples. Each example consists of 28-x28 black-and-white image and the digit the image represents. The task at hand is thus a multi-label **classification** problem where the model needs to predict the digit given an input image.\n",
        "\n",
        "Classification has equally important applications (cancer detection for example) as regression. In addition, it is used in generative adversarial networks, a type of neural network that is remarkably good at generating complex data, so it'll serve as an important foundation for later weeks.\n",
        "\n",
        "MNIST is such a well-known example that the dataset is usually easily downloadable in the right format. In the case of PyTorch, we can use the `torchvision` package, which contains useful datasets, model architectures, and utility functions for computer vision.\n",
        "\n",
        ">**Note:**\n",
        ">The mamba environments for the mac and windows versions of this homework are different. The windows version is set up to install a cuda compatible version of pytorch. Pytorch is the main library we will be using for building, training, and evaluating machine >learning models. The math behind machine learning involves a lot of matrix multiplication. GPUs are highly optimized to perform these operations but the instructions are different between windows and mac. If you have an nvidia gpu in your computer then you will >benefit greatly from having the cuda version of pytorch. The default version of pytorch will run on macs with M series processors. I have tested this notebook on an M3 MacBook Pro. If you run into issues, please share them in the Teams channel for this homework."
      ]
    },
    {
      "cell_type": "markdown",
      "metadata": {
        "id": "TifBuDsL91Jg"
      },
      "source": [
        "### Imports and Setup\n",
        "At the beginning of every notebook we will be importing some libraries. Pytorch is imported as `torch`, `numpy` and `matplotlib` you have seen before in HW0, tqdm is a library for creating loading bars and will be used occasionally for visualizing progress."
      ]
    },
    {
      "cell_type": "code",
      "execution_count": 1,
      "metadata": {
        "id": "UyQaYwK891Jh"
      },
      "outputs": [],
      "source": [
        "import numpy as np\n",
        "import torch\n",
        "from torch import nn\n",
        "from torch.utils.data import DataLoader, Dataset\n",
        "import torchvision\n",
        "import matplotlib.pyplot as plt\n",
        "from tqdm.notebook import tqdm"
      ]
    },
    {
      "cell_type": "markdown",
      "metadata": {
        "id": "q5eGRGXYXV6g"
      },
      "source": [
        "Here we will just detect if you have a GPU on your computer and set it as the device for evaluation later."
      ]
    },
    {
      "cell_type": "code",
      "execution_count": 2,
      "metadata": {
        "colab": {
          "base_uri": "https://localhost:8080/"
        },
        "id": "4VWOr8GdXV6h",
        "outputId": "bb9b19d0-b4a2-4a68-e2dc-ea78680b1810"
      },
      "outputs": [
        {
          "output_type": "stream",
          "name": "stdout",
          "text": [
            "Your computations will be done on cuda\n"
          ]
        }
      ],
      "source": [
        "if torch.cuda.is_available():\n",
        "    device = torch.device(\"cuda\")\n",
        "elif torch.backends.mps.is_available():\n",
        "    device = torch.device(\"mps\")\n",
        "else:\n",
        "    device = torch.device(\"cpu\")\n",
        "\n",
        "print(f\"Your computations will be done on {device}\")"
      ]
    },
    {
      "cell_type": "markdown",
      "metadata": {
        "id": "He5pd2LLXV6i"
      },
      "source": [
        "## Part 1: Regression with an MLP\n",
        "\n",
        "In this section you will use a MLP to fit a bunch of data points. Let's get right into it!"
      ]
    },
    {
      "cell_type": "markdown",
      "metadata": {
        "id": "UQwTM7LjXV6i"
      },
      "source": [
        "#### Generating your training data\n",
        "\n",
        "The first thing we need for training any machine learning model is data! Data can come from a variety of places. If it is something that you have gone out and collected (e.g. experimental observations, real photos of the world, etc.) then it is what is often called *wild data*. However, it is not always the case that you can get wild data for your problem, in fact for many applications where you are training your own models for design applications it is likely that wild data is either very poor quality or simply does not exist. In this case it is also possible to train a model using *synthetic data*. This is data which you have generated somehow. This might be from a parametric model that you have created, from a simulation tool (think FEA or CFD), or from some other workflow that you have developed to create a diverse set of samples to train your model on.\n",
        "\n",
        "In our case we will be generating our own synthetic data set to train on. This data set will be points along a sine curve that have been perturbed by some random noise. You should generate points (try 20,000) that range in the x direction from  $-3\\pi$ to $3\\pi$ and the y values should be the sine of the x values. (1 point)\n",
        "\n",
        ">Hint: Use the [np.linspace](https://numpy.org/doc/stable/reference/generated/numpy.linspace.html) and [np.sin](https://numpy.org/doc/stable/reference/generated/numpy.sin.html) functions."
      ]
    },
    {
      "cell_type": "code",
      "execution_count": 3,
      "metadata": {
        "colab": {
          "base_uri": "https://localhost:8080/"
        },
        "id": "LvTNeCraXV6j",
        "outputId": "11479127-2168-451c-8c54-c4d9f672fe1f"
      },
      "outputs": [
        {
          "output_type": "stream",
          "name": "stdout",
          "text": [
            "[-9.42477796 -9.42383544 -9.42289291 ...  9.42289291  9.42383544\n",
            "  9.42477796]\n",
            "[-3.67394040e-16 -9.42524783e-04 -1.88504873e-03 ...  1.88504873e-03\n",
            "  9.42524783e-04  3.67394040e-16]\n"
          ]
        }
      ],
      "source": [
        "x_start, x_end = -3*np.pi, 3*np.pi\n",
        "x = np.linspace(-3*np.pi, 3*np.pi , num=20000)\n",
        "print(x)\n",
        "y = np.sin(np.array((x)) )\n",
        "print(y)"
      ]
    },
    {
      "cell_type": "markdown",
      "metadata": {
        "id": "xNWBwmDHXV6k"
      },
      "source": [
        "Now plot these points to see that they make sense. (1 point)"
      ]
    },
    {
      "cell_type": "code",
      "execution_count": 4,
      "metadata": {
        "colab": {
          "base_uri": "https://localhost:8080/",
          "height": 449
        },
        "id": "LQNpevl7XV6l",
        "outputId": "bc3ab72b-7556-4701-b8ed-c225b5d8ef78"
      },
      "outputs": [
        {
          "output_type": "display_data",
          "data": {
            "text/plain": [
              "<Figure size 640x480 with 1 Axes>"
            ],
            "image/png": "[encoded data removed]"
          },
          "metadata": {}
        }
      ],
      "source": [
        "#use the plotting functions from matplotlib to plot your data points\n",
        "import matplotlib.pylab as plt\n",
        "x = np.linspace(-3*np.pi, 3*np.pi , num=20000)\n",
        "plt.plot(x, y)\n",
        "plt.xlabel('x direction')\n",
        "plt.ylabel('y direction(sin(x))')\n",
        "plt.axis('tight')\n",
        "plt.show()"
      ]
    },
    {
      "cell_type": "markdown",
      "metadata": {
        "id": "8U_mUOwaXV6l"
      },
      "source": [
        "Great! Now you have a bunch of data points to work with, however they are still very organized. We want to simulate some randomness in our data set to make it a little bit more interesting. To do this you can add a small random perturbation to each of the x and y points that you just generated. When generating synthetic data it is often a very good idea to introduce this kind of adjustment into your dataset as it will make your model more robust against small changes when you try evaluating it in the future. We will see in the future that is also useful to add random perturbations even when you have wild data in order to increase the size of your dataset. This is often referred to as *data augmentation* and you will see this term frequently when dealing with training data.\n",
        "\n",
        "For this specific problem you can think about this randomness like a measurement error. Perhaps you have a very fast way to take a lot of measurements, but those measurements aren't very accurate, they might be off by +/- 30% but you can make thousands of them in a second. To do this you should generate a list of small random values to add the the x and y positions of your points. Feel free to experiment with different amounts of randomness and see how your model performs as it increases. (1 point)\n",
        "\n",
        ">Hint: use [np.random.normal](https://numpy.org/doc/stable/reference/random/generated/numpy.random.normal.html) to generate your small random values."
      ]
    },
    {
      "cell_type": "code",
      "execution_count": 5,
      "metadata": {
        "colab": {
          "base_uri": "https://localhost:8080/"
        },
        "id": "szRvMRSUXV6m",
        "outputId": "959123d2-f521-4b35-930c-68a795565f6b"
      },
      "outputs": [
        {
          "output_type": "stream",
          "name": "stdout",
          "text": [
            "[-9.43086584 -9.32262441 -9.38994526 ...  9.5976993   9.45944421\n",
            "  9.43559424]\n",
            "[ 0.16047812  0.02757622 -0.01644542 ... -0.01878034 -0.01411203\n",
            " -0.00821182]\n"
          ]
        }
      ],
      "source": [
        "rand_x = np.random.normal(loc=x, scale=0.1, size=20000)\n",
        "print(rand_x)\n",
        "\n",
        "rand_y = np.random.normal(loc=y, scale=0.1, size=20000)\n",
        "print(rand_y)\n",
        "\n"
      ]
    },
    {
      "cell_type": "markdown",
      "metadata": {
        "id": "Z0risj9oXV6m"
      },
      "source": [
        "#### Data Scaling\n",
        "\n",
        "Scaling of your data is an important step in training your model. This may not seem like a big deal, but it can dramatically impact how well your training process goes. For these points we will standardize them so that the mean of the values is 0 and the standard deviation of the values is 1. Sometimes you will normalize your values instead, this decision is somewhat model and dataset dependent. (1 point)\n",
        "\n",
        ">Hint: use [`np.mean`](https://numpy.org/doc/stable/reference/generated/numpy.mean.html) and [`np.std`](https://numpy.org/doc/stable/reference/generated/numpy.std.html)"
      ]
    },
    {
      "cell_type": "code",
      "execution_count": 6,
      "metadata": {
        "id": "IkfQyJJGXV6n"
      },
      "outputs": [],
      "source": [
        "\n",
        "#Get the mean of the x values\n",
        "mean_x = np.mean(x,axis=None, dtype=None)\n",
        "\n",
        "#Get the standard deviation of the x values\n",
        "std_x = np.std(x, axis=None, dtype=None)\n",
        "\n",
        "#Get the mean of the y values\n",
        "mean_y = np.mean(y,axis=None, dtype=None)\n",
        "\n",
        "#Get the standard deviation of the y values\n",
        "std_y = np.std(x, axis=None, dtype=None)\n",
        "\n",
        "#Standardize the x values and y values\n",
        "rand_x = (rand_x - mean_x) / std_x\n",
        "rand_y = (rand_y - mean_y) / std_y\n",
        "\n",
        "norm_input = (x - mean_x) / std_x\n",
        "norm_output = (y - mean_y) / std_y\n",
        "\n",
        "#Get the min and max of the x values and y values to use later\n",
        "x_min, x_max = np.min(rand_x), np.max(rand_x)\n",
        "y_min, y_max = np.min(rand_y), np.max(rand_y)"
      ]
    },
    {
      "cell_type": "markdown",
      "metadata": {
        "id": "fbBbuT8TXV6n"
      },
      "source": [
        "Now you can plot your randomized and standardized points. This will be the dataset that you train your MLP on."
      ]
    },
    {
      "cell_type": "code",
      "execution_count": 7,
      "metadata": {
        "id": "h-Bw4eHBXV6o",
        "colab": {
          "base_uri": "https://localhost:8080/",
          "height": 447
        },
        "outputId": "bb14597a-6a21-4ecb-9bd6-175d3380f332"
      },
      "outputs": [
        {
          "output_type": "execute_result",
          "data": {
            "text/plain": [
              "[<matplotlib.lines.Line2D at 0x799e865cfdf0>]"
            ]
          },
          "metadata": {},
          "execution_count": 7
        },
        {
          "output_type": "display_data",
          "data": {
            "text/plain": [
              "<Figure size 640x480 with 1 Axes>"
            ],
            "image/png": "[encoded data removed]"
          },
          "metadata": {}
        }
      ],
      "source": [
        "#No need to write code here, just run this cell.\n",
        "plt.scatter(rand_x, rand_y, alpha=0.5, s=1)\n",
        "plt.plot(norm_input, norm_output, color='red')\n"
      ]
    },
    {
      "cell_type": "markdown",
      "metadata": {
        "id": "LHVCdfSIXV6o"
      },
      "source": [
        "#### Now it's time to split our dataset to prepare for training\n",
        "\n",
        "For this model we will be splitting the synthetic data from above into a training set and a test set. We will do this to leave part of the data unseen by the model during the training process so we can evaluate the performance of our model later. Pytorch has a way of storing data called a [`Datasets and Dataloaders`](https://pytorch.org/tutorials/beginner/basics/data_tutorial.html) that can be used to handle training and testing data in a more modular way. Here I have defined a custom dataset that inherits from the Pytorch Dataset. This dataset creator converts input data into [tensors](https://pytorch.org/tutorials/beginner/introyt/tensors_deeper_tutorial.html). If you are not familiar with the concept of a tensor then I suggest you take a look at the link. Tensors are multidimensional arrays that are used by pytorch and understanding how to manipulate them is essential when training machine learning models. One confusing thing about working with tensors is that you often need to convert back and forth between numpy arrays and tensors. You will usually get an error when you have not done this correctly. Dimension mismatch and conversion errors will happen all the time, you will learn to debug them as you work more with these models."
      ]
    },
    {
      "cell_type": "code",
      "execution_count": 8,
      "metadata": {
        "id": "rzd0j9baXV6o"
      },
      "outputs": [],
      "source": [
        "#No need to write code here, just run this cell.\n",
        "class simpleMLP_Dataset(Dataset):\n",
        "    def __init__(self, x, y):\n",
        "        self.x = torch.tensor(x, dtype=torch.float32).unsqueeze(1)\n",
        "        self.y = torch.tensor(y, dtype=torch.float32).unsqueeze(1)\n",
        "\n",
        "    def __len__(self):\n",
        "        return len(self.x)\n",
        "\n",
        "    def __getitem__(self, idx):\n",
        "        return self.x[idx], self.y[idx]"
      ]
    },
    {
      "cell_type": "markdown",
      "metadata": {
        "id": "2Kz-daGAXV6p"
      },
      "source": [
        "Now we that we have defined a custom dataset class, we can use this to convert our synthetic data from above into a Dataset so that we can more easily split it into testing and training batches using built in pytorch utilities. We will split the data, reserving 20% for evaluating the performance of the model."
      ]
    },
    {
      "cell_type": "code",
      "execution_count": 9,
      "metadata": {
        "id": "SYf9rlqwXV6p",
        "colab": {
          "base_uri": "https://localhost:8080/"
        },
        "outputId": "cdcb2cdb-f094-41c4-f694-4c28f8473e70"
      },
      "outputs": [
        {
          "output_type": "stream",
          "name": "stdout",
          "text": [
            "16000 4000\n"
          ]
        }
      ],
      "source": [
        "#No need to write code here, just run this cell.\n",
        "full_dataset = simpleMLP_Dataset(rand_x, rand_y)\n",
        "train_dataset, test_dataset = torch.utils.data.random_split(full_dataset, [0.8, 0.2])\n",
        "print(len(train_dataset), len(test_dataset))"
      ]
    },
    {
      "cell_type": "markdown",
      "metadata": {
        "id": "y3eRv1O-XV6q"
      },
      "source": [
        "Next we will use the DataLoader class to create an object that will shuffle and batch the data. The batch size here is pretty arbitrary and is also one of the hyperparameters of the model, feel free to play with this value to see how it affects your model output. By setting shuffle to true, the selections for each batch will be randomized each time a new batch is selected. This helps to prevent the model from learning about chunks of data points."
      ]
    },
    {
      "cell_type": "code",
      "execution_count": 10,
      "metadata": {
        "id": "TEG3X10yXV6q"
      },
      "outputs": [],
      "source": [
        "#No need to write code here, just run this cell.\n",
        "BATCH_SIZE = 128\n",
        "train_dataloader = DataLoader(train_dataset, batch_size=BATCH_SIZE, shuffle=True)\n",
        "test_dataloader = DataLoader(test_dataset, batch_size=BATCH_SIZE, shuffle=False)"
      ]
    },
    {
      "cell_type": "code",
      "execution_count": 11,
      "metadata": {
        "id": "IN4GsWeJXV6r",
        "colab": {
          "base_uri": "https://localhost:8080/"
        },
        "outputId": "2d8bbaf8-1a46-4f8a-d899-a72d005d516c"
      },
      "outputs": [
        {
          "output_type": "stream",
          "name": "stdout",
          "text": [
            "125 32\n"
          ]
        }
      ],
      "source": [
        "print(len(train_dataloader), len(test_dataloader))"
      ]
    },
    {
      "cell_type": "markdown",
      "metadata": {
        "id": "exVped10XV6r"
      },
      "source": [
        "Let's take a look at one of the batches in the training dataloader. This will contain a bunch of points. Batching data is also something that will be done frequently to promote stability during training. If you run the following cell a couple of times you will see that the points change each time."
      ]
    },
    {
      "cell_type": "code",
      "execution_count": 12,
      "metadata": {
        "id": "BLFjVZ0PXV6r",
        "colab": {
          "base_uri": "https://localhost:8080/",
          "height": 447
        },
        "outputId": "b2fe67a2-e9ad-4d42-b58f-c539d59e53fc"
      },
      "outputs": [
        {
          "output_type": "execute_result",
          "data": {
            "text/plain": [
              "<matplotlib.collections.PathCollection at 0x799e86529de0>"
            ]
          },
          "metadata": {},
          "execution_count": 12
        },
        {
          "output_type": "display_data",
          "data": {
            "text/plain": [
              "<Figure size 640x480 with 1 Axes>"
            ],
            "image/png": "[encoded data removed]"
          },
          "metadata": {}
        }
      ],
      "source": [
        "#No need to write code here, just run this cell.\n",
        "train_input, train_output = next(iter(train_dataloader))\n",
        "\n",
        "#You can uncomment the following lines to see the raw input and output tensors.\n",
        "\n",
        "#print(\"Here is a batch of inputs (x values):\\n\",train_input)\n",
        "#print(\"Here is a batch of outputs (y values): \\n\",train_output)\n",
        "\n",
        "plt.scatter(train_input, train_output)"
      ]
    },
    {
      "cell_type": "markdown",
      "metadata": {
        "id": "Zek5YK5RXV6s"
      },
      "source": [
        "Checking the dimensions of your inputs and outputs is an important thing to be able to do. You need to make sure your dimensions match up when piping data through your model. Print the shape of a single batch of the train_input and train_output. (1 point)"
      ]
    },
    {
      "cell_type": "code",
      "execution_count": 22,
      "metadata": {
        "id": "fa8X0MQEXV6s",
        "colab": {
          "base_uri": "https://localhost:8080/"
        },
        "outputId": "16709a38-b5f5-40b1-d311-9ee03342ed9a"
      },
      "outputs": [
        {
          "output_type": "stream",
          "name": "stdout",
          "text": [
            "torch.Size([128, 1])\n",
            "torch.Size([128, 1])\n"
          ]
        }
      ],
      "source": [
        "(print(train_input.size()))\n",
        "(print(train_output.size()))\n"
      ]
    },
    {
      "cell_type": "markdown",
      "metadata": {
        "id": "OUL4qEDTXV6t"
      },
      "source": [
        "Now that you have your data prepared, it's time to work on actually setting up and training your model."
      ]
    },
    {
      "cell_type": "markdown",
      "metadata": {
        "id": "k9ADE3oZXV6t"
      },
      "source": [
        "#### Set up your MLP\n",
        "\n",
        "Pytorch makes it very simple to set up models. Once you get used to the syntax you will come to find that building the model is the easy part. The harder part is generally dataset generation and adjusting hyperparameters for your model. The goal of this model is to take in a single value (in this case it will be an x value), and return a single value (the corresponding y value for that point). In the middle we will have some hidden layers with size 256. Ideally we should be able to learn a function that is able to explain well the underlying function that we used to generate the dataset. Lets take a look at what is needed to define a simple model. (1 point)"
      ]
    },
    {
      "cell_type": "code",
      "execution_count": 23,
      "metadata": {
        "id": "QT8E1b9sXV6t"
      },
      "outputs": [],
      "source": [
        "input_size = 1\n",
        "hidden_size = 256\n",
        "output_size = 1\n",
        "\n",
        "model = nn.Sequential(\n",
        "    nn.Linear(1, 256),\n",
        "    nn.ReLU(),\n",
        "    nn.Linear(256, 256),\n",
        "    nn.ReLU(),\n",
        "    nn.Linear(256, 1)\n",
        ").to(device)"
      ]
    },
    {
      "cell_type": "markdown",
      "metadata": {
        "id": "f_v3jqHGXV6t"
      },
      "source": [
        "That is all you need to do to define your model. This is definitely not how you would do it in a production setting, but for this test case it really is all you need. In part 2 you will see the more common way of setting up a model.\n",
        "\n",
        "For now, let's look a little more closely at what we did here:\n",
        "\n",
        "We set a few variables for the width of the input, the width of the hidden layers, and the width of the output. The input and output sizes are both 1 due since we are inputting one number and expecting to get back one number, but the hidden size is somewhat arbitrary. You can also play with this value and see the effect on the model performance.\n",
        "\n",
        "[`nn.Sequential`](https://pytorch.org/docs/stable/generated/torch.nn.Sequential.html) allows you to define a model where the layers inside it are assembled in the order that they are listed within the ( )\n",
        "\n",
        "Inside of `nn.Sequential` we see the first layer of the network which is called [`nn.Linear`](https://pytorch.org/docs/stable/generated/torch.nn.Linear.html#torch.nn.Linear). This function takes two parameters, the first parameter is the size of the input and the second is the size of the output. The input is just our initial x value, but the output has a width of 100. This width is just an arbitrary selection on my part. Feel free to experiment with this value to see how it affects the prediction quality of your network. This is where the weights and biases live.\n",
        "\n",
        "Next we have a [`nn.ReLU()`](https://pytorch.org/docs/stable/generated/torch.nn.ReLU.html) non-linearity. This function applies $ReLU(x) = max(0,x)$ element-wise to the outputs of the linear layer.\n",
        "\n",
        "Then we have another `nn.Linear` layer with 100 input features and 100 output features, followed by another `nn.ReLU()` activation, and then finally another `nn.Linear`layer with 100 inputs and 1 output. This is the final layer of our network and hopefully will return us the correct, corresponding y value."
      ]
    },
    {
      "cell_type": "markdown",
      "metadata": {
        "id": "XNTde7NEXV6u"
      },
      "source": [
        "Let's print some information about our model."
      ]
    },
    {
      "cell_type": "code",
      "execution_count": 24,
      "metadata": {
        "id": "-Js-GL4zXV6u",
        "colab": {
          "base_uri": "https://localhost:8080/"
        },
        "outputId": "42afe30e-ed92-46b8-c7df-ffc059fc869f"
      },
      "outputs": [
        {
          "output_type": "stream",
          "name": "stdout",
          "text": [
            "Sequential(\n",
            "  (0): Linear(in_features=1, out_features=256, bias=True)\n",
            "  (1): ReLU()\n",
            "  (2): Linear(in_features=256, out_features=256, bias=True)\n",
            "  (3): ReLU()\n",
            "  (4): Linear(in_features=256, out_features=1, bias=True)\n",
            ")\n",
            "This model has 66561 parameters.\n"
          ]
        }
      ],
      "source": [
        "#No need to write code here, just run this cell.\n",
        "print(model)\n",
        "params = list(model.parameters())\n",
        "param_count = sum(p.numel() for p in model.parameters())\n",
        "print(f\"This model has {param_count} parameters.\")"
      ]
    },
    {
      "cell_type": "markdown",
      "metadata": {
        "id": "4wuZ9SOMXV6v"
      },
      "source": [
        "#### Next we will define our loss function and optimizer.\n",
        "\n",
        "We will be using the [`nn.MSELoss`](https://pytorch.org/docs/stable/generated/torch.nn.MSELoss.html). This is a standard loss function and will simply measure the distance between the predicted point and the actual point and use this as the error term during the optimization. We will also be using the Adam optimizer. There are a number of different algorithms you can use, but this one is generally robust.\n",
        "\n"
      ]
    },
    {
      "cell_type": "code",
      "execution_count": 25,
      "metadata": {
        "id": "Fsw6ffYDXV6v"
      },
      "outputs": [],
      "source": [
        "#No need to write code here, just run this cell.\n",
        "loss_fn = nn.MSELoss()\n",
        "optimizer = torch.optim.Adam(model.parameters(), lr=0.0001)"
      ]
    },
    {
      "cell_type": "markdown",
      "metadata": {
        "id": "Ogx7VGVAXV6v"
      },
      "source": [
        "#### Training Time\n",
        "\n",
        "Finally, it is time to train your model. Below is the loop for doing the training itself. You will see that there is a variable defined for a number of epochs, losses, best loss, and best model. The epochs are the number of times the dataloader will be called. Remember, each time the dataloader is called it returns an entire batch of values.\n",
        "\n",
        "tqdm just provides a loading bar UI element.\n",
        "\n",
        "Inside this double for loop is the meat of the optimization."
      ]
    },
    {
      "cell_type": "code",
      "execution_count": 26,
      "metadata": {
        "id": "J-b9yCL_XV6v",
        "colab": {
          "base_uri": "https://localhost:8080/",
          "height": 49,
          "referenced_widgets": [
            "452bfd56592b49979ea1a695a38d2e98",
            "a6aa9bab1f72454bafb81522ad824f97",
            "2fb81bb47ae046f1bc06b481d5b41bde",
            "1e41004528b04f24be5bcab4fd2301d0",
            "20eb1570249e42c59a3c67891d4d0f5a",
            "0c132529b0f44c80842a0d223212bb67",
            "cc86137a12de4904952ed6374d0409dd",
            "8cae08b79e644c24a64449fbffc420f8",
            "63deb81e7e38417888638d96278daed1",
            "805d59b2f04843ce98b706db2a7d0a93",
            "95c3c1d90f1344728d25514395807a78"
          ]
        },
        "outputId": "1d248031-6770-48a9-c8a2-19fed0b6c8e1"
      },
      "outputs": [
        {
          "output_type": "display_data",
          "data": {
            "text/plain": [
              "  0%|          | 0/50 [00:00<?, ?it/s]"
            ],
            "application/vnd.jupyter.widget-view+json": {
              "version_major": 2,
              "version_minor": 0,
              "model_id": "452bfd56592b49979ea1a695a38d2e98"
            }
          },
          "metadata": {}
        }
      ],
      "source": [
        "#Number of times the dataloader will be called\n",
        "epochs = 50\n",
        "\n",
        "#An empty list for tracking the model loss over time\n",
        "losses = []\n",
        "test_performance = []\n",
        "\n",
        "#The best loss so far\n",
        "best_loss = np.inf\n",
        "\n",
        "#The best model so far\n",
        "best_model = None\n",
        "\n",
        "#Here is where the training of the model happens\n",
        "for epoch in tqdm(range(epochs)):\n",
        "    #Evaluate the model on the test dataset without calculating gradients\n",
        "    epoch_test_performance = 0\n",
        "    epoch_train_performance = 0\n",
        "\n",
        "\n",
        "    #Check the model's performance on the test dataset before training step\n",
        "    for x_batch, y_batch in test_dataloader:\n",
        "        x_batch, y_batch = x_batch.to(device), y_batch.to(device)\n",
        "        y_pred = model(x_batch)\n",
        "        test_loss = loss_fn(y_pred, y_batch)\n",
        "        epoch_test_performance += test_loss.item()\n",
        "\n",
        "    #Call the dataloader and get the training data input and output in batches\n",
        "    for x_batch, y_batch in train_dataloader:\n",
        "        #Move the data to the device (GPU or CPU)\n",
        "        x_batch, y_batch = x_batch.to(device), y_batch.to(device)\n",
        "\n",
        "        #Zero out the gradients\n",
        "        optimizer.zero_grad()\n",
        "\n",
        "        #Get the model's prediction\n",
        "        y_pred = model(x_batch)\n",
        "\n",
        "        #Calculate the loss\n",
        "        loss = loss_fn(y_pred, y_batch)\n",
        "\n",
        "        #Backpropagate the loss\n",
        "        loss.backward()\n",
        "\n",
        "        #Update the model's parameters\n",
        "        optimizer.step()\n",
        "\n",
        "        #Append the loss to the losses list\n",
        "        epoch_train_performance += loss.item()\n",
        "\n",
        "        #If the loss is the best so far, save the model's state_dict\n",
        "        if loss.item() < best_loss:\n",
        "            best_loss = loss.item()\n",
        "            best_model = model.state_dict()\n",
        "\n",
        "    losses.append(epoch_train_performance / len(train_dataloader))\n",
        "    test_performance.append(epoch_test_performance / len(test_dataloader))\n"
      ]
    },
    {
      "cell_type": "markdown",
      "metadata": {
        "id": "HKgVObfQXV6w"
      },
      "source": [
        "Now that the model is trained lets plot the loss values and test performance values over time. Ideally they should be going down over time. That means that the difference between the predictions and the actual values is becoming smaller. Over time you will develop a sense for what a good loss curve looks like. Here you need to plot the losses and the test_performance on the same plot. You should also create a legend to indicate which curve is which. (1 point)\n",
        "\n",
        ">Hint: use plt.legend for creating the key and do some searching around to learn how to plot multiple curves on the same graph."
      ]
    },
    {
      "cell_type": "code",
      "execution_count": 27,
      "metadata": {
        "id": "5qQc9orfXV6w",
        "colab": {
          "base_uri": "https://localhost:8080/",
          "height": 472
        },
        "outputId": "59e7395d-74d4-4863-ef57-f5219d9c10cc"
      },
      "outputs": [
        {
          "output_type": "display_data",
          "data": {
            "text/plain": [
              "<Figure size 640x480 with 2 Axes>"
            ],
            "image/png": "[encoded data removed]"
          },
          "metadata": {}
        }
      ],
      "source": [
        "import matplotlib.pyplot as plt\n",
        "\n",
        "\n",
        "# Create a range for epochs based on the number of epochs\n",
        "epochs = range(1, len(losses) + 1)\n",
        "\n",
        "# Create a figure and a set of subplots\n",
        "fig, ax1 = plt.subplots()\n",
        "\n",
        "# Plot training loss\n",
        "ax1.plot(epochs, losses, 'b-', label='Train Loss')\n",
        "ax1.set_xlabel('Epochs')\n",
        "ax1.set_ylabel('Train Loss', color='b')\n",
        "ax1.tick_params(axis='y', labelcolor='b')\n",
        "ax1.legend(loc='upper left')\n",
        "\n",
        "# Create a second y-axis for test performance (test loss)\n",
        "ax2 = ax1.twinx()\n",
        "ax2.plot(epochs, test_performance, 'r-', label='Test Loss')\n",
        "ax2.set_ylabel('Test Loss', color='r')\n",
        "ax2.tick_params(axis='y', labelcolor='r')\n",
        "ax2.legend(loc='upper right')\n",
        "\n",
        "plt.title('Training and Test Loss over Epochs')\n",
        "plt.show()\n"
      ]
    },
    {
      "cell_type": "markdown",
      "metadata": {
        "id": "NL_FnzMYXV6-"
      },
      "source": [
        "This looks like a decent loss curve, let's take a look at how our model is doing on some new values. I have computed the values for you here, but you need to plot them in an overlaid way where you can read each set of values. Look at how you can adjust the opacity and size of different objects in a plot using the matplotlib library. Plotting legible figures is also a big component of working with these models. Lists of numbers are pretty hard to evaluate, but a graph can tell you a ton of information. (1 point)"
      ]
    },
    {
      "cell_type": "code",
      "execution_count": 28,
      "metadata": {
        "id": "mAKskHw1XV6_",
        "colab": {
          "base_uri": "https://localhost:8080/",
          "height": 472
        },
        "outputId": "4869c5e9-fd75-434c-a4a1-a6635722f627"
      },
      "outputs": [
        {
          "output_type": "display_data",
          "data": {
            "text/plain": [
              "<Figure size 640x480 with 1 Axes>"
            ],
            "image/png": "[encoded data removed]"
          },
          "metadata": {}
        }
      ],
      "source": [
        "#Here we load the best model and evaluate it on some new points.\n",
        "with torch.no_grad():\n",
        "    model.load_state_dict(best_model)\n",
        "    x_vals = torch.linspace(x_min, x_max, 500).unsqueeze(1).to(device)\n",
        "    y_pred = model(x_vals).cpu().detach().numpy()\n",
        "\n",
        "x_vals_cpu = x_vals.cpu().numpy()\n",
        "\n",
        "\n",
        "#Now lets plot a few things to see how the model did.\n",
        "\n",
        "\n",
        "#add a scatter plot of the random data points after standardization\n",
        "#add a line plot of the standardized inital x and y values, check above, these have already been computed\n",
        "plt.scatter(rand_x, rand_y, alpha=0.5, s=1, label='Standardized Random Data')\n",
        "plt.plot(norm_input, norm_output, color='red',label='Standardized Initial Values',linewidth=3)\n",
        "\n",
        "#finally add a line plot of the model output for the x values you just created\n",
        "#make sure to add a legend to the plot\n",
        "\n",
        "\n",
        "plt.plot( x_vals_cpu,y_pred, color='yellow',label='Model output',linewidth=1)\n",
        "# Adding labels and title\n",
        "plt.xlabel('X Values')\n",
        "plt.ylabel('Y Values')\n",
        "plt.title('Model Performance')\n",
        "\n",
        "# Adding a legend\n",
        "plt.legend()\n",
        "\n",
        "# Display the plot\n",
        "plt.show()"
      ]
    },
    {
      "cell_type": "markdown",
      "metadata": {
        "id": "KrS-5Id5XV7A"
      },
      "source": []
    },
    {
      "cell_type": "markdown",
      "metadata": {
        "id": "qQIoSJEEXV7A"
      },
      "source": [
        "Great, if all went well then you should see a pretty decent approximation. The initial data, model output, and training data have been overlaid in this plot so you can see the deviations."
      ]
    },
    {
      "cell_type": "markdown",
      "metadata": {
        "id": "lVhz7pgOXV7B"
      },
      "source": [
        "## Part 2: MNIST\n",
        "\n",
        "In this section of the homework you will be training another small MLP to classify images of handwritten digits. You will need to fill out a bit more of the code in this section, but the concepts are very similar to the regression example above. The data will be downloaded so you need to make sure you are connected to the internet when you run this section."
      ]
    },
    {
      "cell_type": "markdown",
      "metadata": {
        "id": "-nwo0twj91Jh"
      },
      "source": [
        "#### Load data"
      ]
    },
    {
      "cell_type": "code",
      "execution_count": 29,
      "metadata": {
        "id": "iWJ4dwoP91Ji",
        "colab": {
          "base_uri": "https://localhost:8080/"
        },
        "outputId": "17d73b3a-b6ea-4e20-b466-e99f9f0c38a9"
      },
      "outputs": [
        {
          "output_type": "stream",
          "name": "stdout",
          "text": [
            "Downloading http://yann.lecun.com/exdb/mnist/train-images-idx3-ubyte.gz\n",
            "Failed to download (trying next):\n",
            "HTTP Error 403: Forbidden\n",
            "\n",
            "Downloading https://ossci-datasets.s3.amazonaws.com/mnist/train-images-idx3-ubyte.gz\n",
            "Downloading https://ossci-datasets.s3.amazonaws.com/mnist/train-images-idx3-ubyte.gz to data/MNIST/raw/train-images-idx3-ubyte.gz\n"
          ]
        },
        {
          "output_type": "stream",
          "name": "stderr",
          "text": [
            "100%|██████████| 9912422/9912422 [00:00<00:00, 17746034.47it/s]\n"
          ]
        },
        {
          "output_type": "stream",
          "name": "stdout",
          "text": [
            "Extracting data/MNIST/raw/train-images-idx3-ubyte.gz to data/MNIST/raw\n",
            "\n",
            "Downloading http://yann.lecun.com/exdb/mnist/train-labels-idx1-ubyte.gz\n",
            "Failed to download (trying next):\n",
            "HTTP Error 403: Forbidden\n",
            "\n",
            "Downloading https://ossci-datasets.s3.amazonaws.com/mnist/train-labels-idx1-ubyte.gz\n",
            "Downloading https://ossci-datasets.s3.amazonaws.com/mnist/train-labels-idx1-ubyte.gz to data/MNIST/raw/train-labels-idx1-ubyte.gz\n"
          ]
        },
        {
          "output_type": "stream",
          "name": "stderr",
          "text": [
            "100%|██████████| 28881/28881 [00:00<00:00, 485977.38it/s]\n"
          ]
        },
        {
          "output_type": "stream",
          "name": "stdout",
          "text": [
            "Extracting data/MNIST/raw/train-labels-idx1-ubyte.gz to data/MNIST/raw\n",
            "\n",
            "Downloading http://yann.lecun.com/exdb/mnist/t10k-images-idx3-ubyte.gz\n",
            "Failed to download (trying next):\n",
            "HTTP Error 403: Forbidden\n",
            "\n",
            "Downloading https://ossci-datasets.s3.amazonaws.com/mnist/t10k-images-idx3-ubyte.gz\n",
            "Downloading https://ossci-datasets.s3.amazonaws.com/mnist/t10k-images-idx3-ubyte.gz to data/MNIST/raw/t10k-images-idx3-ubyte.gz\n"
          ]
        },
        {
          "output_type": "stream",
          "name": "stderr",
          "text": [
            "100%|██████████| 1648877/1648877 [00:00<00:00, 4419975.46it/s]\n"
          ]
        },
        {
          "output_type": "stream",
          "name": "stdout",
          "text": [
            "Extracting data/MNIST/raw/t10k-images-idx3-ubyte.gz to data/MNIST/raw\n",
            "\n",
            "Downloading http://yann.lecun.com/exdb/mnist/t10k-labels-idx1-ubyte.gz\n",
            "Failed to download (trying next):\n",
            "HTTP Error 403: Forbidden\n",
            "\n",
            "Downloading https://ossci-datasets.s3.amazonaws.com/mnist/t10k-labels-idx1-ubyte.gz\n",
            "Downloading https://ossci-datasets.s3.amazonaws.com/mnist/t10k-labels-idx1-ubyte.gz to data/MNIST/raw/t10k-labels-idx1-ubyte.gz\n"
          ]
        },
        {
          "output_type": "stream",
          "name": "stderr",
          "text": [
            "100%|██████████| 4542/4542 [00:00<00:00, 2932203.90it/s]"
          ]
        },
        {
          "output_type": "stream",
          "name": "stdout",
          "text": [
            "Extracting data/MNIST/raw/t10k-labels-idx1-ubyte.gz to data/MNIST/raw\n",
            "\n"
          ]
        },
        {
          "output_type": "stream",
          "name": "stderr",
          "text": [
            "\n"
          ]
        }
      ],
      "source": [
        "mnist_training_set = torchvision.datasets.MNIST(\n",
        "    \"data\", train=True, download=True, transform=torchvision.transforms.ToTensor()\n",
        ")\n",
        "mnist_validation_set = torchvision.datasets.MNIST(\n",
        "    \"data\", train=False, download=True, transform=torchvision.transforms.ToTensor()\n",
        ")"
      ]
    },
    {
      "cell_type": "code",
      "execution_count": 30,
      "metadata": {
        "id": "eAzpaHDs91Ji",
        "colab": {
          "base_uri": "https://localhost:8080/"
        },
        "outputId": "43d35792-6e9f-4b36-8b9c-fdc26aa6d283"
      },
      "outputs": [
        {
          "output_type": "stream",
          "name": "stdout",
          "text": [
            "Dataset MNIST\n",
            "    Number of datapoints: 60000\n",
            "    Root location: data\n",
            "    Split: Train\n",
            "    StandardTransform\n",
            "Transform: ToTensor()\n",
            "Dataset MNIST\n",
            "    Number of datapoints: 10000\n",
            "    Root location: data\n",
            "    Split: Test\n",
            "    StandardTransform\n",
            "Transform: ToTensor()\n"
          ]
        }
      ],
      "source": [
        "print(mnist_training_set)\n",
        "print(mnist_validation_set)"
      ]
    },
    {
      "cell_type": "markdown",
      "metadata": {
        "id": "bss0hbL091Jj"
      },
      "source": [
        "We again have two datasets: one for training and one for validation. And again to actually load the data as we go we can use a nice abstraction offered by PyTorch: data loaders. With data loaders, we can specify the amount of data (i.e. the number of examples) that we will load as we iterate through the data loader and also instruct the data loader to shuffle the data every time it is iterated through. As a result, data loaders are thus very convenient for training neural networks. (1 point)"
      ]
    },
    {
      "cell_type": "code",
      "execution_count": 31,
      "metadata": {
        "id": "tbig6kDS91Jk"
      },
      "outputs": [],
      "source": [
        "\n",
        "training_dataloader = DataLoader(mnist_training_set, batch_size=32, shuffle=True)\n",
        "\n",
        "validation_dataloader = DataLoader(mnist_validation_set, batch_size=32, shuffle=True)"
      ]
    },
    {
      "cell_type": "markdown",
      "metadata": {
        "id": "nSiRxM7N91Jk"
      },
      "source": [
        "Let's look at one item from the training data loader."
      ]
    },
    {
      "cell_type": "code",
      "execution_count": 32,
      "metadata": {
        "id": "S52panen91Jl",
        "colab": {
          "base_uri": "https://localhost:8080/"
        },
        "outputId": "85c3cd32-1eba-4a60-f87e-77cbfe67c021"
      },
      "outputs": [
        {
          "output_type": "stream",
          "name": "stdout",
          "text": [
            "torch.Size([32, 1, 28, 28])\n",
            "torch.Size([32])\n"
          ]
        }
      ],
      "source": [
        "sample = next(iter(training_dataloader))\n",
        "print(sample[0].shape)\n",
        "print(sample[1].shape)"
      ]
    },
    {
      "cell_type": "markdown",
      "metadata": {
        "id": "7THSqaj_91Jl"
      },
      "source": [
        "As expected, we are getting two arrays (input and target) with a batch size of 32.\n",
        "\n",
        "Let's plot a single example."
      ]
    },
    {
      "cell_type": "code",
      "execution_count": 33,
      "metadata": {
        "id": "fY1Fcscu91Jm",
        "colab": {
          "base_uri": "https://localhost:8080/",
          "height": 423
        },
        "outputId": "2a5d8add-0f92-4497-b7bf-3487e25e5158"
      },
      "outputs": [
        {
          "output_type": "stream",
          "name": "stdout",
          "text": [
            "This digit is 6\n"
          ]
        },
        {
          "output_type": "display_data",
          "data": {
            "text/plain": [
              "<Figure size 640x480 with 1 Axes>"
            ],
            "image/png": "[encoded data removed]"
          },
          "metadata": {}
        }
      ],
      "source": [
        "plt.imshow(sample[0][0, 0], cmap=\"gray\")\n",
        "plt.axis(\"off\")\n",
        "print(f\"This digit is {sample[1][0]}\")"
      ]
    },
    {
      "cell_type": "markdown",
      "metadata": {
        "id": "KPiZcRZE91Jn"
      },
      "source": [
        "And let's plot a bunch!"
      ]
    },
    {
      "cell_type": "code",
      "execution_count": 34,
      "metadata": {
        "id": "YPTaPtp_91Jn",
        "colab": {
          "base_uri": "https://localhost:8080/",
          "height": 507
        },
        "outputId": "b4dfebfd-bc98-4a42-eaae-0a1f927a5c3f"
      },
      "outputs": [
        {
          "output_type": "display_data",
          "data": {
            "text/plain": [
              "<Figure size 500x500 with 100 Axes>"
            ],
            "image/png": "[encoded data removed]"
          },
          "metadata": {}
        }
      ],
      "source": [
        "figs, axs = plt.subplots(10, 10, figsize=(5, 5))\n",
        "\n",
        "for row in axs:\n",
        "    for ax in row:\n",
        "        sample = next(iter(training_dataloader))\n",
        "        ax.imshow(sample[0][0, 0], cmap=\"gray\")\n",
        "        ax.axis(\"off\")\n",
        "plt.tight_layout()"
      ]
    },
    {
      "cell_type": "markdown",
      "metadata": {
        "id": "3qKAk3Cm91Jn"
      },
      "source": [
        "This is a multi-label classification problem, and we will train a neural network to predict the probabilities that an input image is a given digit, i.e. the neural network will output 10 values between 0 and 1 and summing to 1.\n",
        "\n",
        "It will not try to directly predict the digit as a continuous value because it is not a regression problem and the order of the digits in number space is not related at all to what they look like, for example 3 looks closer to 8 than it does to 4."
      ]
    },
    {
      "cell_type": "markdown",
      "metadata": {
        "id": "Ste_Mxpv91Jn"
      },
      "source": [
        "#### Build and train neural network\n",
        "We're going to reuse our good old multi-layer perceptron architecture, which is actually not a great architecture for this task. MLPs do not take into account the structure of images, and we'll actually have to flatten the input data into a long vector as we feed to the network.\n",
        "\n",
        "A convolutional neural network would make a lot more sense for this task, but that will be for a later week.\n",
        "\n",
        "In any case, we only need to slighly modify our MLP implementation. As already mentioned, we need to add a flattening layer at the top. We also need to make sure we output 10 probability values. To do so, we set the last layer's output size to 10 with a log-Softmax activation function. The softmax activation function $\\sigma(x_i) = \\dfrac{e^{x_i}}{\\sum^K_{j=1}{e^{x_j}}}$ is such that the output values are all between 0 and 1 and sum to 1 (making them valid probabilities. We then take the log of these probabilities because we'll use the negative log-likelihood loss. $Loss(F(x_i), y_i)) = -\\log(p_{j=y_i})$ where $F(x_i)=[p_0, p_1, ..., p_9]$.\n",
        "\n",
        "PyTorch has that loss function built in: we just need to provide it with the predicted log-probabilities and the actual class of the example.\n",
        "\n",
        "The negative log-likelihood loss is really common for classification problems, and it's therefore useful to understand how/why it works. Imagine that for a given digit example with an observed value 9, the model predicts a log-probability $x$ (which could range from 0 to 1) for that class. Then, the loss function evolves as follows for different values of $x$:"
      ]
    },
    {
      "cell_type": "code",
      "execution_count": 35,
      "metadata": {
        "id": "meRBr5nT91Jo",
        "colab": {
          "base_uri": "https://localhost:8080/",
          "height": 470
        },
        "outputId": "0c8c4e51-cac1-4766-cbdb-cae48d8e0cac"
      },
      "outputs": [
        {
          "output_type": "stream",
          "name": "stderr",
          "text": [
            "<ipython-input-35-5be46349be60>:2: RuntimeWarning: divide by zero encountered in log\n",
            "  y = -np.log(x)\n"
          ]
        },
        {
          "output_type": "display_data",
          "data": {
            "text/plain": [
              "<Figure size 640x480 with 1 Axes>"
            ],
            "image/png": "[encoded data removed]"
          },
          "metadata": {}
        }
      ],
      "source": [
        "x = np.linspace(0, 1, 200)  # possible range of probability values\n",
        "y = -np.log(x)\n",
        "plt.plot(x, y)\n",
        "plt.xlim(0, 1)\n",
        "plt.ylim(0, 5)\n",
        "plt.show()"
      ]
    },
    {
      "cell_type": "markdown",
      "metadata": {
        "id": "j4LYwBGc91Jo"
      },
      "source": [
        "The graph of the negative log-likelihood shows that the loss goes to zero if the model does predict a value of 1 (thus predicting the correct class) for the observed class, whereas if we predict a probability of zero (thus being as far off from the ground truth as possible), the loss shoots up to infinity.\n",
        "\n",
        "In other words, the loss penalizes the model more as its gets further from the ground truth, which is exactly what we want of course."
      ]
    },
    {
      "cell_type": "code",
      "source": [
        "class mnist_mlp(nn.Module):\n",
        "    def __init__(self, n_hidden_layers=6, n_hidden_neurons=32,):\n",
        "        super(mnist_mlp, self).__init__()\n",
        "\n",
        "        #Create a chunk of operations that will be used to process the input\n",
        "        #Flatten will take the input image and turn it into a 1D tensor\n",
        "        #This will then feed into the linear layer, the output of the linear layer should be the size of n_hidden_neurons.\n",
        "        #Replace all of the None values with the correct value or variable name\n",
        "\n",
        "        #Hint: Take a look at the shape of the input image\n",
        "        input_size = 28 * 28  # Flattened size\n",
        "        output_size = 10\n",
        "\n",
        "\n",
        "        self.layer_in = nn.Sequential(nn.Flatten(),\n",
        "                                      nn.Linear(input_size, n_hidden_neurons),\n",
        "                                      nn.Tanh())\n",
        "\n",
        "        #Create a list to hold the hidden layers\n",
        "        hidden_layers = []\n",
        "        #Add the hidden layers to the list with activation functions between them\n",
        "        for _ in range(n_hidden_layers):\n",
        "            hidden_layers.append(nn.Linear(n_hidden_neurons, n_hidden_neurons))\n",
        "            hidden_layers.append(nn.Tanh())\n",
        "\n",
        "        #Create a chunk of operations that will be used in the middle of the model\n",
        "        self.layers_mid = nn.Sequential(*hidden_layers)\n",
        "\n",
        "        #Create a chunk of operations that will be used to process the output\n",
        "        #The output layer should have an output for each digit.\n",
        "        #The LogSoftmax function is used to convert the output to a probability distribution\n",
        "        self.layer_out = nn.Sequential(nn.Linear(n_hidden_neurons, output_size),\n",
        "                                       nn.LogSoftmax(dim=-1))\n",
        "\n",
        "    def forward(self, x):\n",
        "\n",
        "\n",
        "        x = self.layer_in(x)\n",
        "\n",
        "\n",
        "        x = self.layers_mid(x)\n",
        "\n",
        "\n",
        "        x = self.layer_out(x)\n",
        "\n",
        "\n",
        "        return x\n"
      ],
      "metadata": {
        "id": "ABlx-GibYNIf"
      },
      "execution_count": 36,
      "outputs": []
    },
    {
      "cell_type": "markdown",
      "metadata": {
        "id": "JHp1BqPlXV7K"
      },
      "source": [
        "Here we will use the more common way of defining a network in Pytorch. In this example we will define a class, here called mnist_mlp which inherits from nn.Module. Inside of this class are two required functions, init and forward. In init there are a few larger chunks of a network that are being defined; a layer in chunk, middle layers, and an output layer chunk. This provides a nice abstraction for building up more complex models. Then in forward this is where the data is actually passed through the network each time the model is evaluated. In this class you need to replace all of the `None` entries with the correct number or variable name. Look back at section 1 if you need hints on how the dimensions should match up. (3 points)"
      ]
    },
    {
      "cell_type": "markdown",
      "metadata": {
        "id": "oOxkAg41XV7M"
      },
      "source": [
        "Create the model and pass it to your device. (1 point)"
      ]
    },
    {
      "cell_type": "code",
      "execution_count": 37,
      "metadata": {
        "id": "_F0NfnQOXV7N"
      },
      "outputs": [],
      "source": [
        "model = mnist_mlp().to(device)"
      ]
    },
    {
      "cell_type": "markdown",
      "metadata": {
        "id": "MSDpQihJ91Jp"
      },
      "source": [
        "#### Training\n",
        "We have our model, so let's train. As we did with the regression example we will iterate for a number of epochs, and during each of these, we'll iterate through the entire dataset once (using the data loaders)."
      ]
    },
    {
      "cell_type": "markdown",
      "metadata": {
        "id": "rFZdSkDE91Jp"
      },
      "source": [
        "Let's define the optimizer. You can use the same learning rate as before. (1 point)"
      ]
    },
    {
      "cell_type": "code",
      "execution_count": 38,
      "metadata": {
        "id": "uaB7yBxV91Jp"
      },
      "outputs": [],
      "source": [
        "optimizer = torch.optim.Adam(model.parameters(), lr=0.0001)"
      ]
    },
    {
      "cell_type": "markdown",
      "metadata": {
        "id": "IvaTRCMm91Jp"
      },
      "source": [
        "And now, let's actually train the thing! We'll print out the training and validations losses and accuracies as training progresses. Initially, we would expect the average accuracy to be around 10% since the neural network basically makes random choices before it gets trained."
      ]
    },
    {
      "cell_type": "code",
      "execution_count": 39,
      "metadata": {
        "id": "mEOf27_R91Jq",
        "colab": {
          "base_uri": "https://localhost:8080/",
          "height": 890,
          "referenced_widgets": [
            "f4610f380d224cd9b5bb4103eab3f220",
            "e715729674944b73832dbdbe652afe32",
            "3bb7c356e3a34941963d0ef509e9d507",
            "36651807e7a547e3a2735acc0c24760b",
            "ca2389010f0b44b5941ae7aa35a70543",
            "64c40bb050ab42c09e2c228f6cab3780",
            "494726bbe9834fa8ac7a0fa49079d805",
            "df66a6bbfe164e669adcb543c45ef2f3",
            "9cfdf9f2b4fd4d23abfe151eb58e76d8",
            "8753b582521b4923bfbbf9b374a58cd1",
            "411181467d614f80b617f001894c1fa0",
            "ced6ae0c1bb747e2b2ec7f93a9980eb1",
            "90784e2c82e34fc5acbf589eea9199b6",
            "a9162ee1ff00435fbf063dbb69b124c0",
            "a0fc2ee006b243efbd70426b86bba10e",
            "2e194dd15bf04262993da0471588cbf5",
            "565aa351f61a486b9d3ab492924d12f4",
            "dff7ebc5c4bd49819d4a7d27b7c66f8e",
            "16e9cb64e9b84a798c884cb6a56a30ee",
            "bbf0caa7aa9040a1afab14c9443d4a7b",
            "4485bb30a6254019b62c6a863a87d6d0",
            "9dff280de38541bd97d1ed58797edf06",
            "adeebf862dfd45e0833a3ce4e3685b15",
            "afa11975556c415eb8ba51c79092333f",
            "37fe00ee1c44489fb8ae95c1a2349384",
            "0332665344d24baabc9dc79e3a4968c5",
            "2450e9821e354227b081109b76168ee5",
            "44a2ed86da5c4491a4a81f62472d66aa",
            "f810adff0e1c416482cfcf5eb919511f",
            "87530a1febf3416997705808df9e6a98",
            "2c689b13b2b44ae9a5e5303213dd691d",
            "d9121b94056a495c8b96114132abb477",
            "22c1383c2ee44c73bd1653c96466f997",
            "641ba6c3584844b8a94ba811bc04fbca",
            "6c150601ea074af9a99f13483c87b37e",
            "bcdf70dae3b04464b96040676b681b94",
            "3163a67640434607a0498f2ec9a25e9c",
            "72e66613caa048edbc8844554d8cf278",
            "4a11a38b07834186927e937af403fcf5",
            "a53169e7b84040529e478b7a56ca6973",
            "15e700517471432483bbebac47831cdb",
            "93cdfcb8568f4d89bbb44116faa5ef26",
            "f2dc8319b5d44a3daf27c4a9f74957f8",
            "f5c92639ffaa49e29b0b6980cf6753a6",
            "b2c172f9e17c41dfb9fd58f2a99c0833",
            "7f6ee123ef1b4e9ab67b3d095b435ffe",
            "7386f6e4e2d1483b8a819fcf581a7078",
            "ff1ca66678ff4c48a8dd13dbdf2d526c",
            "977d6eb258124502bbd8b6f7c7cb7ab6",
            "35a64853e4a84ab29f514b02e8f7480b",
            "7d482dcccc214c73bf0c6b693927b622",
            "b9336ea3cd244220bc0c94859e854c97",
            "991904b70d5d4e6187bae75b0ef105e9",
            "7bfa0f02c404470c84141c73dce0270a",
            "f31b2c795eed4d73a590a48a1249c69b",
            "b1655c2cf8854f3a81ec49820d365707",
            "8637a2d68cfb454abb656accd096ad6b",
            "c681fc67f074492fa6c08df43da9a4bd",
            "137c9e8041f04d7482ab3c5d04505f1b",
            "c9e8d791436b412caf923edcffbae98f",
            "8875b8092257453697fc19a6b2bc28d2",
            "da1b9577e1a44e16b62e5000fbb0e59f",
            "40770809b8c54764aa3598b7e4f1d2ec",
            "71e69cc887cb4eeca2d91f4f3017fddb",
            "f8c2119557744fef8f2bbb877581f5b2",
            "632e51203a8e4ff2a3d8ba191009d247",
            "97ffe793fc1e4692b6fc7581373a40a2",
            "b726ad94f31b4aa8a35b33b0faf4ae13",
            "383a1b1efd244d73a327b9f6d9fbb907",
            "2c5fd969e40b454bbc17d7b7a9fe68c0",
            "917f22e6fdd64e8486c5e75d115a70ad",
            "2088b07b67bd4c43b773b184b154ac24",
            "99af9929515540b48eb4a57f5133a05a",
            "cf28708d55a9444e82bb80ab1064eb21",
            "dac8eaca943b43edaa99f98cb9bed36f",
            "93a4c2b127dd4fefa6f5f1c9096daab9",
            "ead84c5b15bb43fd876ca6a7e130f2a1",
            "801a89ec3fa2476f88f3f41f337c4a10",
            "891fc7aa416848be8fae8f4f2ae5a81a",
            "aaab406a299e4d3aa58a9fe761119157",
            "ed4015409ae54e7cb133645d5c3780cb",
            "569a82eaef534899b9ec9d5ca61b15d4",
            "d8a1966c772d47faba8c2f77a4725875",
            "cd20b2faff0c4cba8820ab1c3235247a",
            "9c6da6f95ee9403c89e32500636907c1",
            "54516cd81b194422923f81528049c71f",
            "c62bcc3e72f54989831dcf8f83aa1c3b",
            "786ba224a16e4891a2ce704da8bd314b",
            "131540bf4de7460e98eda3d3432720b2",
            "bc214d0672a04993a216f00609fc5c1a",
            "eeabbf83e94a4e29a94588187b6656e3",
            "fb7940d795e84dd7be756afd79eaf23a",
            "2c129b32f85a47d782f5f47176d687c6",
            "eaba319923964826a88299b3b1f0a519",
            "03b006701f254467b0a8b8ca020c9153",
            "470ff9d136ed45d5aedb5ca709b0680b",
            "ed2d4eae8c9d432398541bac85efc4db",
            "b88f099ddffb4c0ba65c20db7dc1f335",
            "654fb639d4b84442b514ebbf14bd3d81",
            "e139aed2330b44d488d42298f9e24a4c",
            "4d20cfaa83f74b6eb0f05a0467818a66",
            "9adb6a5652f44132897f306725610b19",
            "6f3aa1ca721245bd97c9398de71c4358",
            "cb1102c62d85437697fef427d51e3e2b",
            "fbe7586ffb2047cdb2dbea7e61b272b4",
            "6de9740aaa8c4bcba31afbf73afb26eb",
            "5fd0c8da1f2c4cad970039a214db22c9",
            "b33c7bc6f67646e8a507e047c1777cdf",
            "650fdc4555dd404f9b51400dec47db19",
            "156751d86ac14b75b7ac9c9551f5500f",
            "f4544804e4374e8f80011c80b3def725",
            "87fdd42df87d4ff8883e1ae8bcd52a29",
            "af05a9f2aadc42b2b0bd7ae3dd814c6c",
            "6fa829ad5666412c85cc0455198b7b8c",
            "19345c06bfe84b36b78fcccb28e3718c",
            "0f8653a562924d65a86188abbe5e55ee",
            "a6aa9e69b238403393bf5ef91dc349a3",
            "9dd6b1b801be4d85933b4aa381a7c01e",
            "1917fd7c99374ad497d92d018c434ee2",
            "c43c0e32c88e429f835687c6ad93459b",
            "83b3903a40f64777b59ade400c064d16"
          ]
        },
        "outputId": "532f747e-bb02-4c11-a9da-c5705b478cca"
      },
      "outputs": [
        {
          "output_type": "display_data",
          "data": {
            "text/plain": [
              "  0%|          | 0/10 [00:00<?, ?it/s]"
            ],
            "application/vnd.jupyter.widget-view+json": {
              "version_major": 2,
              "version_minor": 0,
              "model_id": "f4610f380d224cd9b5bb4103eab3f220"
            }
          },
          "metadata": {}
        },
        {
          "output_type": "stream",
          "name": "stdout",
          "text": [
            "----- Epoch 0 -----\n"
          ]
        },
        {
          "output_type": "display_data",
          "data": {
            "text/plain": [
              "  0%|          | 0/1875 [00:00<?, ?it/s]"
            ],
            "application/vnd.jupyter.widget-view+json": {
              "version_major": 2,
              "version_minor": 0,
              "model_id": "ced6ae0c1bb747e2b2ec7f93a9980eb1"
            }
          },
          "metadata": {}
        },
        {
          "output_type": "stream",
          "name": "stdout",
          "text": [
            "Training - Mean loss: 1.4412277936935425 | Accuracy: 53%\n",
            "Validation at epoch start - Mean loss: 2.310361385345459 | Accuracy: 10%\n",
            "----- Epoch 1 -----\n"
          ]
        },
        {
          "output_type": "display_data",
          "data": {
            "text/plain": [
              "  0%|          | 0/1875 [00:00<?, ?it/s]"
            ],
            "application/vnd.jupyter.widget-view+json": {
              "version_major": 2,
              "version_minor": 0,
              "model_id": "adeebf862dfd45e0833a3ce4e3685b15"
            }
          },
          "metadata": {}
        },
        {
          "output_type": "stream",
          "name": "stdout",
          "text": [
            "Training - Mean loss: 0.8133636713027954 | Accuracy: 77%\n",
            "Validation at epoch start - Mean loss: 1.0101420879364014 | Accuracy: 71%\n",
            "----- Epoch 2 -----\n"
          ]
        },
        {
          "output_type": "display_data",
          "data": {
            "text/plain": [
              "  0%|          | 0/1875 [00:00<?, ?it/s]"
            ],
            "application/vnd.jupyter.widget-view+json": {
              "version_major": 2,
              "version_minor": 0,
              "model_id": "641ba6c3584844b8a94ba811bc04fbca"
            }
          },
          "metadata": {}
        },
        {
          "output_type": "stream",
          "name": "stdout",
          "text": [
            "Training - Mean loss: 0.5446178317070007 | Accuracy: 85%\n",
            "Validation at epoch start - Mean loss: 0.6381165981292725 | Accuracy: 83%\n",
            "----- Epoch 3 -----\n"
          ]
        },
        {
          "output_type": "display_data",
          "data": {
            "text/plain": [
              "  0%|          | 0/1875 [00:00<?, ?it/s]"
            ],
            "application/vnd.jupyter.widget-view+json": {
              "version_major": 2,
              "version_minor": 0,
              "model_id": "b2c172f9e17c41dfb9fd58f2a99c0833"
            }
          },
          "metadata": {}
        },
        {
          "output_type": "stream",
          "name": "stdout",
          "text": [
            "Training - Mean loss: 0.42382118105888367 | Accuracy: 88%\n",
            "Validation at epoch start - Mean loss: 0.46566540002822876 | Accuracy: 87%\n",
            "----- Epoch 4 -----\n"
          ]
        },
        {
          "output_type": "display_data",
          "data": {
            "text/plain": [
              "  0%|          | 0/1875 [00:00<?, ?it/s]"
            ],
            "application/vnd.jupyter.widget-view+json": {
              "version_major": 2,
              "version_minor": 0,
              "model_id": "b1655c2cf8854f3a81ec49820d365707"
            }
          },
          "metadata": {}
        },
        {
          "output_type": "stream",
          "name": "stdout",
          "text": [
            "Training - Mean loss: 0.36002835631370544 | Accuracy: 90%\n",
            "Validation at epoch start - Mean loss: 0.3947589695453644 | Accuracy: 89%\n",
            "----- Epoch 5 -----\n"
          ]
        },
        {
          "output_type": "display_data",
          "data": {
            "text/plain": [
              "  0%|          | 0/1875 [00:00<?, ?it/s]"
            ],
            "application/vnd.jupyter.widget-view+json": {
              "version_major": 2,
              "version_minor": 0,
              "model_id": "97ffe793fc1e4692b6fc7581373a40a2"
            }
          },
          "metadata": {}
        },
        {
          "output_type": "stream",
          "name": "stdout",
          "text": [
            "Training - Mean loss: 0.3154637813568115 | Accuracy: 91%\n",
            "Validation at epoch start - Mean loss: 0.3558720350265503 | Accuracy: 90%\n",
            "----- Epoch 6 -----\n"
          ]
        },
        {
          "output_type": "display_data",
          "data": {
            "text/plain": [
              "  0%|          | 0/1875 [00:00<?, ?it/s]"
            ],
            "application/vnd.jupyter.widget-view+json": {
              "version_major": 2,
              "version_minor": 0,
              "model_id": "801a89ec3fa2476f88f3f41f337c4a10"
            }
          },
          "metadata": {}
        },
        {
          "output_type": "stream",
          "name": "stdout",
          "text": [
            "Training - Mean loss: 0.28036680817604065 | Accuracy: 92%\n",
            "Validation at epoch start - Mean loss: 0.31075817346572876 | Accuracy: 91%\n",
            "----- Epoch 7 -----\n"
          ]
        },
        {
          "output_type": "display_data",
          "data": {
            "text/plain": [
              "  0%|          | 0/1875 [00:00<?, ?it/s]"
            ],
            "application/vnd.jupyter.widget-view+json": {
              "version_major": 2,
              "version_minor": 0,
              "model_id": "131540bf4de7460e98eda3d3432720b2"
            }
          },
          "metadata": {}
        },
        {
          "output_type": "stream",
          "name": "stdout",
          "text": [
            "Training - Mean loss: 0.2503351867198944 | Accuracy: 93%\n",
            "Validation at epoch start - Mean loss: 0.2823527753353119 | Accuracy: 92%\n",
            "----- Epoch 8 -----\n"
          ]
        },
        {
          "output_type": "display_data",
          "data": {
            "text/plain": [
              "  0%|          | 0/1875 [00:00<?, ?it/s]"
            ],
            "application/vnd.jupyter.widget-view+json": {
              "version_major": 2,
              "version_minor": 0,
              "model_id": "e139aed2330b44d488d42298f9e24a4c"
            }
          },
          "metadata": {}
        },
        {
          "output_type": "stream",
          "name": "stdout",
          "text": [
            "Training - Mean loss: 0.226986363530159 | Accuracy: 93%\n",
            "Validation at epoch start - Mean loss: 0.2615131437778473 | Accuracy: 92%\n",
            "----- Epoch 9 -----\n"
          ]
        },
        {
          "output_type": "display_data",
          "data": {
            "text/plain": [
              "  0%|          | 0/1875 [00:00<?, ?it/s]"
            ],
            "application/vnd.jupyter.widget-view+json": {
              "version_major": 2,
              "version_minor": 0,
              "model_id": "f4544804e4374e8f80011c80b3def725"
            }
          },
          "metadata": {}
        },
        {
          "output_type": "stream",
          "name": "stdout",
          "text": [
            "Training - Mean loss: 0.20851245522499084 | Accuracy: 94%\n",
            "Validation at epoch start - Mean loss: 0.24473239481449127 | Accuracy: 93%\n"
          ]
        }
      ],
      "source": [
        "n_epochs = 10\n",
        "\n",
        "train_loss_history = []\n",
        "train_accuracy_history = []\n",
        "\n",
        "validation_loss_history = []\n",
        "validation_accuracy_history = []\n",
        "\n",
        "n_train_examples = len(training_dataloader)  # number of training batches\n",
        "n_validation_examples = len(validation_dataloader)  # number of validation batches\n",
        "\n",
        "for i in tqdm(range(n_epochs)):\n",
        "    print(f\"----- Epoch {i} -----\")\n",
        "\n",
        "    # --- VALIDATION ---\n",
        "    validation_loss = 0\n",
        "    validation_accuracy = 0\n",
        "\n",
        "    for sample in validation_dataloader:\n",
        "        image, target_class = sample\n",
        "\n",
        "        # model predictions\n",
        "        log_probabilities = model(image.to(device))\n",
        "\n",
        "        # compute loss\n",
        "        validation_loss += (\n",
        "            nn.NLLLoss()(\n",
        "                log_probabilities,\n",
        "                target_class.to(device),\n",
        "            )\n",
        "            / n_validation_examples\n",
        "        )\n",
        "        batch_size=32\n",
        "\n",
        "        # compute accuracy\n",
        "        class_predictions = torch.argmax(log_probabilities, axis=1)\n",
        "        validation_accuracy += (\n",
        "            torch.count_nonzero(class_predictions == target_class.to(device))\n",
        "            / batch_size\n",
        "            / n_validation_examples\n",
        "        )\n",
        "\n",
        "    validation_loss_history.append(validation_loss.item())\n",
        "    validation_accuracy_history.append(validation_accuracy.item())\n",
        "\n",
        "    # --- TRAINING ---\n",
        "    loss = 0\n",
        "    accuracy = 0\n",
        "\n",
        "    for sample in tqdm(training_dataloader):\n",
        "        image, target_class = sample\n",
        "\n",
        "        # model predictions\n",
        "        log_probabilities = model(image.to(device))\n",
        "\n",
        "        batch_loss = nn.NLLLoss()(\n",
        "            log_probabilities,\n",
        "            target_class.to(device),\n",
        "        )\n",
        "\n",
        "        # backprop + gradient descent step\n",
        "        optimizer.zero_grad()\n",
        "        batch_loss.backward()\n",
        "        optimizer.step()\n",
        "\n",
        "        # compute loss\n",
        "        loss += batch_loss / n_train_examples\n",
        "\n",
        "        # compute accuracy\n",
        "        class_predictions = torch.argmax(log_probabilities, axis=1)\n",
        "        accuracy += (\n",
        "            torch.count_nonzero(class_predictions == target_class.to(device))\n",
        "            / batch_size\n",
        "            / n_train_examples\n",
        "        )\n",
        "\n",
        "    train_loss_history.append(loss.item())\n",
        "    train_accuracy_history.append(accuracy.item())\n",
        "\n",
        "    print(f\"Training - Mean loss: {loss} | Accuracy: {int(accuracy*100)}%\")\n",
        "    print(\n",
        "        f\"Validation at epoch start - Mean loss: {validation_loss} | Accuracy: {int(validation_accuracy*100)}%\"\n",
        "    )"
      ]
    },
    {
      "cell_type": "code",
      "execution_count": 40,
      "metadata": {
        "id": "keKZ_sY191Jq",
        "colab": {
          "base_uri": "https://localhost:8080/",
          "height": 843
        },
        "outputId": "396815f8-e6d9-44b5-92d3-92ae464bc4c0"
      },
      "outputs": [
        {
          "output_type": "display_data",
          "data": {
            "text/plain": [
              "<Figure size 640x480 with 1 Axes>"
            ],
            "image/png": "[encoded data removed]"
          },
          "metadata": {}
        },
        {
          "output_type": "display_data",
          "data": {
            "text/plain": [
              "<Figure size 640x480 with 1 Axes>"
            ],
            "image/png": "[encoded data removed]"
          },
          "metadata": {}
        }
      ],
      "source": [
        "plt.plot(train_loss_history, label=\"Training loss\")\n",
        "plt.plot(validation_loss_history, linestyle=\"--\", label=\"Validation loss\")\n",
        "plt.legend()\n",
        "plt.show()\n",
        "plt.plot(train_accuracy_history, label=\"Training accuracy\")\n",
        "plt.plot(validation_accuracy_history, linestyle=\"--\", label=\"Validation accuracy\")\n",
        "plt.legend()\n",
        "plt.show()"
      ]
    },
    {
      "cell_type": "markdown",
      "metadata": {
        "id": "oAg-EuBvXV7R"
      },
      "source": [
        "Do you think that this model is doing a good job or a bad job? Justify your answer and answer in the markdown cell below. (1 point)"
      ]
    },
    {
      "cell_type": "markdown",
      "metadata": {
        "id": "knA9yKWaXV7R"
      },
      "source": [
        "If we visualize the results the model is doing a good job. But if we look at the graphs given above, then the training loss is less than the validation loss which is overfitting, I am not sure wether or not overfitting is good, because even if it is orking good on the seen data, the result it gives for the unseen data is uncertain, maybe less accurate."
      ]
    },
    {
      "cell_type": "markdown",
      "metadata": {
        "id": "w9DJRWfV91Jq"
      },
      "source": [
        "#### Visualize results\n",
        "\n",
        "Now that our model is trained, let's check how it performs on examples in the validation set. Let's predict for one batch at a time, visualize the digit, and what the model prediction is."
      ]
    },
    {
      "cell_type": "code",
      "execution_count": 41,
      "metadata": {
        "id": "DQ-Qz0Am91Jq"
      },
      "outputs": [],
      "source": [
        "images, observations = next(iter(validation_dataloader))\n",
        "predicted = torch.argmax(model(images.to(device)), axis=-1)"
      ]
    },
    {
      "cell_type": "code",
      "execution_count": 42,
      "metadata": {
        "id": "BTFyzqkj91Jr",
        "colab": {
          "base_uri": "https://localhost:8080/",
          "height": 1000
        },
        "outputId": "639f0181-36b2-4f19-bf9f-20d99afd7191"
      },
      "outputs": [
        {
          "output_type": "display_data",
          "data": {
            "text/plain": [
              "<Figure size 640x480 with 1 Axes>"
            ],
            "image/png": "[encoded data removed]"
          },
          "metadata": {}
        },
        {
          "output_type": "stream",
          "name": "stdout",
          "text": [
            "The actual digit is 4.\n",
            "The predicted digit is 4.\n"
          ]
        },
        {
          "output_type": "display_data",
          "data": {
            "text/plain": [
              "<Figure size 640x480 with 1 Axes>"
            ],
            "image/png": "[encoded data removed]"
          },
          "metadata": {}
        },
        {
          "output_type": "stream",
          "name": "stdout",
          "text": [
            "The actual digit is 4.\n",
            "The predicted digit is 4.\n"
          ]
        },
        {
          "output_type": "display_data",
          "data": {
            "text/plain": [
              "<Figure size 640x480 with 1 Axes>"
            ],
            "image/png": "[encoded data removed]"
          },
          "metadata": {}
        },
        {
          "output_type": "stream",
          "name": "stdout",
          "text": [
            "The actual digit is 9.\n",
            "The predicted digit is 9.\n"
          ]
        },
        {
          "output_type": "display_data",
          "data": {
            "text/plain": [
              "<Figure size 640x480 with 1 Axes>"
            ],
            "image/png": "[encoded data removed]"
          },
          "metadata": {}
        },
        {
          "output_type": "stream",
          "name": "stdout",
          "text": [
            "The actual digit is 0.\n",
            "The predicted digit is 0.\n"
          ]
        },
        {
          "output_type": "display_data",
          "data": {
            "text/plain": [
              "<Figure size 640x480 with 1 Axes>"
            ],
            "image/png": "[encoded data removed]"
          },
          "metadata": {}
        },
        {
          "output_type": "stream",
          "name": "stdout",
          "text": [
            "The actual digit is 8.\n",
            "The predicted digit is 8.\n"
          ]
        },
        {
          "output_type": "display_data",
          "data": {
            "text/plain": [
              "<Figure size 640x480 with 1 Axes>"
            ],
            "image/png": "[encoded data removed]"
          },
          "metadata": {}
        },
        {
          "output_type": "stream",
          "name": "stdout",
          "text": [
            "The actual digit is 0.\n",
            "The predicted digit is 0.\n"
          ]
        },
        {
          "output_type": "display_data",
          "data": {
            "text/plain": [
              "<Figure size 640x480 with 1 Axes>"
            ],
            "image/png": "[encoded data removed]"
          },
          "metadata": {}
        },
        {
          "output_type": "stream",
          "name": "stdout",
          "text": [
            "The actual digit is 7.\n",
            "The predicted digit is 7.\n"
          ]
        }
      ],
      "source": [
        "for i, (img, digit, pred) in enumerate(zip(images, observations, predicted)):\n",
        "    plt.imshow(img[0], cmap=\"gray\")\n",
        "    plt.grid(False)\n",
        "    plt.show()\n",
        "    print(f\"The actual digit is {int(digit)}.\")\n",
        "    print(f\"The predicted digit is {int(pred)}.\")\n",
        "    if i > 5:\n",
        "        break"
      ]
    },
    {
      "cell_type": "markdown",
      "metadata": {
        "id": "cBDcz7s_91Jr"
      },
      "source": [
        "Let's visualize a little better the performance of our model. Of course, we can compute the accuracy, i.e. the percentage of times the model gets its predictions right, but it may be interesting to know what digit if misidentifies for another one in general. For example, we might expect the model might have more difficulty discerning ones and fours than says ones and zeros.\n",
        "\n",
        "To shed light on this, a confusion matrix cam be really useful. Entry *ij* of the confusion matrix is the proportion of times the model produced class $j$ when the observed class was $i$. If the model is perfect, the confusion matrix is the identity matrix. Let's compute the matrix and visualize it."
      ]
    },
    {
      "cell_type": "code",
      "execution_count": 43,
      "metadata": {
        "id": "QlHl30uh91Jr"
      },
      "outputs": [],
      "source": [
        "confusion_matrix = torch.zeros((10, 10))\n",
        "digit_counts = torch.zeros(10)\n",
        "\n",
        "for sample in validation_dataloader:\n",
        "    image, target_class = sample\n",
        "\n",
        "    # model predictions\n",
        "    log_probabilities = model(image.to(device))\n",
        "\n",
        "    # compute accuracy\n",
        "    class_predictions = torch.argmax(log_probabilities, axis=1)\n",
        "\n",
        "    for i, j in zip(target_class, class_predictions):\n",
        "        confusion_matrix[i, j] += 1\n",
        "        digit_counts[i] += 1  # count number of occurrences of each digit\n",
        "\n",
        "confusion_matrix = confusion_matrix / digit_counts.reshape(-1, 1) * 100"
      ]
    },
    {
      "cell_type": "code",
      "execution_count": 44,
      "metadata": {
        "id": "66Q6kVzj91Jr",
        "colab": {
          "base_uri": "https://localhost:8080/",
          "height": 549
        },
        "outputId": "7b1e8195-7fed-4211-e8f1-6ac60c4e815d"
      },
      "outputs": [
        {
          "output_type": "display_data",
          "data": {
            "text/plain": [
              "<Figure size 600x600 with 1 Axes>"
            ],
            "image/png": "[encoded data removed]"
          },
          "metadata": {}
        }
      ],
      "source": [
        "fig, ax = plt.subplots(figsize=(6, 6),)\n",
        "plt.title(\"Confusion matrix for validation set\")\n",
        "# Using matshow here just because it sets the ticks up nicely. imshow is faster.\n",
        "ax.matshow(confusion_matrix, cmap=\"plasma\")\n",
        "\n",
        "for (i, j), z in np.ndenumerate(confusion_matrix):\n",
        "    ax.text(j, i, \"{:0.2f}\".format(z), ha=\"center\", va=\"center\")\n",
        "\n",
        "\n",
        "ax.xaxis.set_ticks(range(10))\n",
        "ax.yaxis.set_ticks(range(10))\n",
        "\n",
        "plt.grid(False)\n",
        "plt.show()"
      ]
    },
    {
      "cell_type": "markdown",
      "metadata": {
        "id": "hRnXzVLp91Jr"
      },
      "source": [
        "The confusion matrix shows that the model does an especially good job with 1s and not as good a job with 5s. There aren't particularly mind-blowing patterms there, but for example, it shows that when 0s are misclassified, they're most often misclassified as 6s, which makes sense."
      ]
    },
    {
      "cell_type": "markdown",
      "metadata": {
        "id": "YJUJQ0Ij91Jr"
      },
      "source": [
        "### Conclusion\n",
        "First we trained a simple MLP to fit an underlying sine wave. There are definitely other techniques you could use to do this particular task, however, the MLP is a more general tool than some of the more classical techniques you might use for this curve fitting task. With very few changes we were able to train a simple MLP to recognize digits from raw images (flattened as vectors). The reality is that this is also not the best type of neural network for this task, and a simple convolutional neural network (CNN) would easily outperform this model. In addition, this model would not deal very well with translations and rotations because it does not actually recognize shape features, it only deals with pixels on an individual basis.\n",
        "\n",
        "To demonstrate this, we could simply consistently reorder pixels (making the digits undiscernible to a human) and train a MLP that would acheive the same performance.\n",
        "\n",
        "We'll return to the MNIST dataset multiple times in later weeks, and we will actually train a CNN on this exact task.\n",
        "\n",
        "Congratulations on finishing HW1. Please make sure you run all your cells and then commit and push your notebook to github. Also please zip the entire HW1 folder that this notebook is in and submit the zip folder on canvas. You do not need to export a pdf/html file this time around."
      ]
    }
  ],
  "metadata": {
    "accelerator": "GPU",
    "colab": {
      "provenance": [],
      "gpuType": "T4",
      "include_colab_link": true
    },
    "kernelspec": {
      "display_name": "Python 3",
      "name": "python3"
    },
    "language_info": {
      "codemirror_mode": {
        "name": "ipython",
        "version": 3
      },
      "file_extension": ".py",
      "mimetype": "text/x-python",
      "name": "python",
      "nbconvert_exporter": "python",
      "pygments_lexer": "ipython3",
      "version": "3.9.10"
    },
    "widgets": {
      "application/vnd.jupyter.widget-state+json": {
        "452bfd56592b49979ea1a695a38d2e98": {
          "model_module": "@jupyter-widgets/controls",
          "model_name": "HBoxModel",
          "model_module_version": "1.5.0",
          "state": {
            "_dom_classes": [],
            "_model_module": "@jupyter-widgets/controls",
            "_model_module_version": "1.5.0",
            "_model_name": "HBoxModel",
            "_view_count": null,
            "_view_module": "@jupyter-widgets/controls",
            "_view_module_version": "1.5.0",
            "_view_name": "HBoxView",
            "box_style": "",
            "children": [
              "IPY_MODEL_a6aa9bab1f72454bafb81522ad824f97",
              "IPY_MODEL_2fb81bb47ae046f1bc06b481d5b41bde",
              "IPY_MODEL_1e41004528b04f24be5bcab4fd2301d0"
            ],
            "layout": "IPY_MODEL_20eb1570249e42c59a3c67891d4d0f5a"
          }
        },
        "a6aa9bab1f72454bafb81522ad824f97": {
          "model_module": "@jupyter-widgets/controls",
          "model_name": "HTMLModel",
          "model_module_version": "1.5.0",
          "state": {
            "_dom_classes": [],
            "_model_module": "@jupyter-widgets/controls",
            "_model_module_version": "1.5.0",
            "_model_name": "HTMLModel",
            "_view_count": null,
            "_view_module": "@jupyter-widgets/controls",
            "_view_module_version": "1.5.0",
            "_view_name": "HTMLView",
            "description": "",
            "description_tooltip": null,
            "layout": "IPY_MODEL_0c132529b0f44c80842a0d223212bb67",
            "placeholder": "​",
            "style": "IPY_MODEL_cc86137a12de4904952ed6374d0409dd",
            "value": "100%"
          }
        },
        "2fb81bb47ae046f1bc06b481d5b41bde": {
          "model_module": "@jupyter-widgets/controls",
          "model_name": "FloatProgressModel",
          "model_module_version": "1.5.0",
          "state": {
            "_dom_classes": [],
            "_model_module": "@jupyter-widgets/controls",
            "_model_module_version": "1.5.0",
            "_model_name": "FloatProgressModel",
            "_view_count": null,
            "_view_module": "@jupyter-widgets/controls",
            "_view_module_version": "1.5.0",
            "_view_name": "ProgressView",
            "bar_style": "success",
            "description": "",
            "description_tooltip": null,
            "layout": "IPY_MODEL_8cae08b79e644c24a64449fbffc420f8",
            "max": 50,
            "min": 0,
            "orientation": "horizontal",
            "style": "IPY_MODEL_63deb81e7e38417888638d96278daed1",
            "value": 50
          }
        },
        "1e41004528b04f24be5bcab4fd2301d0": {
          "model_module": "@jupyter-widgets/controls",
          "model_name": "HTMLModel",
          "model_module_version": "1.5.0",
          "state": {
            "_dom_classes": [],
            "_model_module": "@jupyter-widgets/controls",
            "_model_module_version": "1.5.0",
            "_model_name": "HTMLModel",
            "_view_count": null,
            "_view_module": "@jupyter-widgets/controls",
            "_view_module_version": "1.5.0",
            "_view_name": "HTMLView",
            "description": "",
            "description_tooltip": null,
            "layout": "IPY_MODEL_805d59b2f04843ce98b706db2a7d0a93",
            "placeholder": "​",
            "style": "IPY_MODEL_95c3c1d90f1344728d25514395807a78",
            "value": " 50/50 [00:20&lt;00:00,  2.76it/s]"
          }
        },
        "20eb1570249e42c59a3c67891d4d0f5a": {
          "model_module": "@jupyter-widgets/base",
          "model_name": "LayoutModel",
          "model_module_version": "1.2.0",
          "state": {
            "_model_module": "@jupyter-widgets/base",
            "_model_module_version": "1.2.0",
            "_model_name": "LayoutModel",
            "_view_count": null,
            "_view_module": "@jupyter-widgets/base",
            "_view_module_version": "1.2.0",
            "_view_name": "LayoutView",
            "align_content": null,
            "align_items": null,
            "align_self": null,
            "border": null,
            "bottom": null,
            "display": null,
            "flex": null,
            "flex_flow": null,
            "grid_area": null,
            "grid_auto_columns": null,
            "grid_auto_flow": null,
            "grid_auto_rows": null,
            "grid_column": null,
            "grid_gap": null,
            "grid_row": null,
            "grid_template_areas": null,
            "grid_template_columns": null,
            "grid_template_rows": null,
            "height": null,
            "justify_content": null,
            "justify_items": null,
            "left": null,
            "margin": null,
            "max_height": null,
            "max_width": null,
            "min_height": null,
            "min_width": null,
            "object_fit": null,
            "object_position": null,
            "order": null,
            "overflow": null,
            "overflow_x": null,
            "overflow_y": null,
            "padding": null,
            "right": null,
            "top": null,
            "visibility": null,
            "width": null
          }
        },
        "0c132529b0f44c80842a0d223212bb67": {
          "model_module": "@jupyter-widgets/base",
          "model_name": "LayoutModel",
          "model_module_version": "1.2.0",
          "state": {
            "_model_module": "@jupyter-widgets/base",
            "_model_module_version": "1.2.0",
            "_model_name": "LayoutModel",
            "_view_count": null,
            "_view_module": "@jupyter-widgets/base",
            "_view_module_version": "1.2.0",
            "_view_name": "LayoutView",
            "align_content": null,
            "align_items": null,
            "align_self": null,
            "border": null,
            "bottom": null,
            "display": null,
            "flex": null,
            "flex_flow": null,
            "grid_area": null,
            "grid_auto_columns": null,
            "grid_auto_flow": null,
            "grid_auto_rows": null,
            "grid_column": null,
            "grid_gap": null,
            "grid_row": null,
            "grid_template_areas": null,
            "grid_template_columns": null,
            "grid_template_rows": null,
            "height": null,
            "justify_content": null,
            "justify_items": null,
            "left": null,
            "margin": null,
            "max_height": null,
            "max_width": null,
            "min_height": null,
            "min_width": null,
            "object_fit": null,
            "object_position": null,
            "order": null,
            "overflow": null,
            "overflow_x": null,
            "overflow_y": null,
            "padding": null,
            "right": null,
            "top": null,
            "visibility": null,
            "width": null
          }
        },
        "cc86137a12de4904952ed6374d0409dd": {
          "model_module": "@jupyter-widgets/controls",
          "model_name": "DescriptionStyleModel",
          "model_module_version": "1.5.0",
          "state": {
            "_model_module": "@jupyter-widgets/controls",
            "_model_module_version": "1.5.0",
            "_model_name": "DescriptionStyleModel",
            "_view_count": null,
            "_view_module": "@jupyter-widgets/base",
            "_view_module_version": "1.2.0",
            "_view_name": "StyleView",
            "description_width": ""
          }
        },
        "8cae08b79e644c24a64449fbffc420f8": {
          "model_module": "@jupyter-widgets/base",
          "model_name": "LayoutModel",
          "model_module_version": "1.2.0",
          "state": {
            "_model_module": "@jupyter-widgets/base",
            "_model_module_version": "1.2.0",
            "_model_name": "LayoutModel",
            "_view_count": null,
            "_view_module": "@jupyter-widgets/base",
            "_view_module_version": "1.2.0",
            "_view_name": "LayoutView",
            "align_content": null,
            "align_items": null,
            "align_self": null,
            "border": null,
            "bottom": null,
            "display": null,
            "flex": null,
            "flex_flow": null,
            "grid_area": null,
            "grid_auto_columns": null,
            "grid_auto_flow": null,
            "grid_auto_rows": null,
            "grid_column": null,
            "grid_gap": null,
            "grid_row": null,
            "grid_template_areas": null,
            "grid_template_columns": null,
            "grid_template_rows": null,
            "height": null,
            "justify_content": null,
            "justify_items": null,
            "left": null,
            "margin": null,
            "max_height": null,
            "max_width": null,
            "min_height": null,
            "min_width": null,
            "object_fit": null,
            "object_position": null,
            "order": null,
            "overflow": null,
            "overflow_x": null,
            "overflow_y": null,
            "padding": null,
            "right": null,
            "top": null,
            "visibility": null,
            "width": null
          }
        },
        "63deb81e7e38417888638d96278daed1": {
          "model_module": "@jupyter-widgets/controls",
          "model_name": "ProgressStyleModel",
          "model_module_version": "1.5.0",
          "state": {
            "_model_module": "@jupyter-widgets/controls",
            "_model_module_version": "1.5.0",
            "_model_name": "ProgressStyleModel",
            "_view_count": null,
            "_view_module": "@jupyter-widgets/base",
            "_view_module_version": "1.2.0",
            "_view_name": "StyleView",
            "bar_color": null,
            "description_width": ""
          }
        },
        "805d59b2f04843ce98b706db2a7d0a93": {
          "model_module": "@jupyter-widgets/base",
          "model_name": "LayoutModel",
          "model_module_version": "1.2.0",
          "state": {
            "_model_module": "@jupyter-widgets/base",
            "_model_module_version": "1.2.0",
            "_model_name": "LayoutModel",
            "_view_count": null,
            "_view_module": "@jupyter-widgets/base",
            "_view_module_version": "1.2.0",
            "_view_name": "LayoutView",
            "align_content": null,
            "align_items": null,
            "align_self": null,
            "border": null,
            "bottom": null,
            "display": null,
            "flex": null,
            "flex_flow": null,
            "grid_area": null,
            "grid_auto_columns": null,
            "grid_auto_flow": null,
            "grid_auto_rows": null,
            "grid_column": null,
            "grid_gap": null,
            "grid_row": null,
            "grid_template_areas": null,
            "grid_template_columns": null,
            "grid_template_rows": null,
            "height": null,
            "justify_content": null,
            "justify_items": null,
            "left": null,
            "margin": null,
            "max_height": null,
            "max_width": null,
            "min_height": null,
            "min_width": null,
            "object_fit": null,
            "object_position": null,
            "order": null,
            "overflow": null,
            "overflow_x": null,
            "overflow_y": null,
            "padding": null,
            "right": null,
            "top": null,
            "visibility": null,
            "width": null
          }
        },
        "95c3c1d90f1344728d25514395807a78": {
          "model_module": "@jupyter-widgets/controls",
          "model_name": "DescriptionStyleModel",
          "model_module_version": "1.5.0",
          "state": {
            "_model_module": "@jupyter-widgets/controls",
            "_model_module_version": "1.5.0",
            "_model_name": "DescriptionStyleModel",
            "_view_count": null,
            "_view_module": "@jupyter-widgets/base",
            "_view_module_version": "1.2.0",
            "_view_name": "StyleView",
            "description_width": ""
          }
        },
        "f4610f380d224cd9b5bb4103eab3f220": {
          "model_module": "@jupyter-widgets/controls",
          "model_name": "HBoxModel",
          "model_module_version": "1.5.0",
          "state": {
            "_dom_classes": [],
            "_model_module": "@jupyter-widgets/controls",
            "_model_module_version": "1.5.0",
            "_model_name": "HBoxModel",
            "_view_count": null,
            "_view_module": "@jupyter-widgets/controls",
            "_view_module_version": "1.5.0",
            "_view_name": "HBoxView",
            "box_style": "",
            "children": [
              "IPY_MODEL_e715729674944b73832dbdbe652afe32",
              "IPY_MODEL_3bb7c356e3a34941963d0ef509e9d507",
              "IPY_MODEL_36651807e7a547e3a2735acc0c24760b"
            ],
            "layout": "IPY_MODEL_ca2389010f0b44b5941ae7aa35a70543"
          }
        },
        "e715729674944b73832dbdbe652afe32": {
          "model_module": "@jupyter-widgets/controls",
          "model_name": "HTMLModel",
          "model_module_version": "1.5.0",
          "state": {
            "_dom_classes": [],
            "_model_module": "@jupyter-widgets/controls",
            "_model_module_version": "1.5.0",
            "_model_name": "HTMLModel",
            "_view_count": null,
            "_view_module": "@jupyter-widgets/controls",
            "_view_module_version": "1.5.0",
            "_view_name": "HTMLView",
            "description": "",
            "description_tooltip": null,
            "layout": "IPY_MODEL_64c40bb050ab42c09e2c228f6cab3780",
            "placeholder": "​",
            "style": "IPY_MODEL_494726bbe9834fa8ac7a0fa49079d805",
            "value": "100%"
          }
        },
        "3bb7c356e3a34941963d0ef509e9d507": {
          "model_module": "@jupyter-widgets/controls",
          "model_name": "FloatProgressModel",
          "model_module_version": "1.5.0",
          "state": {
            "_dom_classes": [],
            "_model_module": "@jupyter-widgets/controls",
            "_model_module_version": "1.5.0",
            "_model_name": "FloatProgressModel",
            "_view_count": null,
            "_view_module": "@jupyter-widgets/controls",
            "_view_module_version": "1.5.0",
            "_view_name": "ProgressView",
            "bar_style": "success",
            "description": "",
            "description_tooltip": null,
            "layout": "IPY_MODEL_df66a6bbfe164e669adcb543c45ef2f3",
            "max": 10,
            "min": 0,
            "orientation": "horizontal",
            "style": "IPY_MODEL_9cfdf9f2b4fd4d23abfe151eb58e76d8",
            "value": 10
          }
        },
        "36651807e7a547e3a2735acc0c24760b": {
          "model_module": "@jupyter-widgets/controls",
          "model_name": "HTMLModel",
          "model_module_version": "1.5.0",
          "state": {
            "_dom_classes": [],
            "_model_module": "@jupyter-widgets/controls",
            "_model_module_version": "1.5.0",
            "_model_name": "HTMLModel",
            "_view_count": null,
            "_view_module": "@jupyter-widgets/controls",
            "_view_module_version": "1.5.0",
            "_view_name": "HTMLView",
            "description": "",
            "description_tooltip": null,
            "layout": "IPY_MODEL_8753b582521b4923bfbbf9b374a58cd1",
            "placeholder": "​",
            "style": "IPY_MODEL_411181467d614f80b617f001894c1fa0",
            "value": " 10/10 [02:33&lt;00:00, 15.38s/it]"
          }
        },
        "ca2389010f0b44b5941ae7aa35a70543": {
          "model_module": "@jupyter-widgets/base",
          "model_name": "LayoutModel",
          "model_module_version": "1.2.0",
          "state": {
            "_model_module": "@jupyter-widgets/base",
            "_model_module_version": "1.2.0",
            "_model_name": "LayoutModel",
            "_view_count": null,
            "_view_module": "@jupyter-widgets/base",
            "_view_module_version": "1.2.0",
            "_view_name": "LayoutView",
            "align_content": null,
            "align_items": null,
            "align_self": null,
            "border": null,
            "bottom": null,
            "display": null,
            "flex": null,
            "flex_flow": null,
            "grid_area": null,
            "grid_auto_columns": null,
            "grid_auto_flow": null,
            "grid_auto_rows": null,
            "grid_column": null,
            "grid_gap": null,
            "grid_row": null,
            "grid_template_areas": null,
            "grid_template_columns": null,
            "grid_template_rows": null,
            "height": null,
            "justify_content": null,
            "justify_items": null,
            "left": null,
            "margin": null,
            "max_height": null,
            "max_width": null,
            "min_height": null,
            "min_width": null,
            "object_fit": null,
            "object_position": null,
            "order": null,
            "overflow": null,
            "overflow_x": null,
            "overflow_y": null,
            "padding": null,
            "right": null,
            "top": null,
            "visibility": null,
            "width": null
          }
        },
        "64c40bb050ab42c09e2c228f6cab3780": {
          "model_module": "@jupyter-widgets/base",
          "model_name": "LayoutModel",
          "model_module_version": "1.2.0",
          "state": {
            "_model_module": "@jupyter-widgets/base",
            "_model_module_version": "1.2.0",
            "_model_name": "LayoutModel",
            "_view_count": null,
            "_view_module": "@jupyter-widgets/base",
            "_view_module_version": "1.2.0",
            "_view_name": "LayoutView",
            "align_content": null,
            "align_items": null,
            "align_self": null,
            "border": null,
            "bottom": null,
            "display": null,
            "flex": null,
            "flex_flow": null,
            "grid_area": null,
            "grid_auto_columns": null,
            "grid_auto_flow": null,
            "grid_auto_rows": null,
            "grid_column": null,
            "grid_gap": null,
            "grid_row": null,
            "grid_template_areas": null,
            "grid_template_columns": null,
            "grid_template_rows": null,
            "height": null,
            "justify_content": null,
            "justify_items": null,
            "left": null,
            "margin": null,
            "max_height": null,
            "max_width": null,
            "min_height": null,
            "min_width": null,
            "object_fit": null,
            "object_position": null,
            "order": null,
            "overflow": null,
            "overflow_x": null,
            "overflow_y": null,
            "padding": null,
            "right": null,
            "top": null,
            "visibility": null,
            "width": null
          }
        },
        "494726bbe9834fa8ac7a0fa49079d805": {
          "model_module": "@jupyter-widgets/controls",
          "model_name": "DescriptionStyleModel",
          "model_module_version": "1.5.0",
          "state": {
            "_model_module": "@jupyter-widgets/controls",
            "_model_module_version": "1.5.0",
            "_model_name": "DescriptionStyleModel",
            "_view_count": null,
            "_view_module": "@jupyter-widgets/base",
            "_view_module_version": "1.2.0",
            "_view_name": "StyleView",
            "description_width": ""
          }
        },
        "df66a6bbfe164e669adcb543c45ef2f3": {
          "model_module": "@jupyter-widgets/base",
          "model_name": "LayoutModel",
          "model_module_version": "1.2.0",
          "state": {
            "_model_module": "@jupyter-widgets/base",
            "_model_module_version": "1.2.0",
            "_model_name": "LayoutModel",
            "_view_count": null,
            "_view_module": "@jupyter-widgets/base",
            "_view_module_version": "1.2.0",
            "_view_name": "LayoutView",
            "align_content": null,
            "align_items": null,
            "align_self": null,
            "border": null,
            "bottom": null,
            "display": null,
            "flex": null,
            "flex_flow": null,
            "grid_area": null,
            "grid_auto_columns": null,
            "grid_auto_flow": null,
            "grid_auto_rows": null,
            "grid_column": null,
            "grid_gap": null,
            "grid_row": null,
            "grid_template_areas": null,
            "grid_template_columns": null,
            "grid_template_rows": null,
            "height": null,
            "justify_content": null,
            "justify_items": null,
            "left": null,
            "margin": null,
            "max_height": null,
            "max_width": null,
            "min_height": null,
            "min_width": null,
            "object_fit": null,
            "object_position": null,
            "order": null,
            "overflow": null,
            "overflow_x": null,
            "overflow_y": null,
            "padding": null,
            "right": null,
            "top": null,
            "visibility": null,
            "width": null
          }
        },
        "9cfdf9f2b4fd4d23abfe151eb58e76d8": {
          "model_module": "@jupyter-widgets/controls",
          "model_name": "ProgressStyleModel",
          "model_module_version": "1.5.0",
          "state": {
            "_model_module": "@jupyter-widgets/controls",
            "_model_module_version": "1.5.0",
            "_model_name": "ProgressStyleModel",
            "_view_count": null,
            "_view_module": "@jupyter-widgets/base",
            "_view_module_version": "1.2.0",
            "_view_name": "StyleView",
            "bar_color": null,
            "description_width": ""
          }
        },
        "8753b582521b4923bfbbf9b374a58cd1": {
          "model_module": "@jupyter-widgets/base",
          "model_name": "LayoutModel",
          "model_module_version": "1.2.0",
          "state": {
            "_model_module": "@jupyter-widgets/base",
            "_model_module_version": "1.2.0",
            "_model_name": "LayoutModel",
            "_view_count": null,
            "_view_module": "@jupyter-widgets/base",
            "_view_module_version": "1.2.0",
            "_view_name": "LayoutView",
            "align_content": null,
            "align_items": null,
            "align_self": null,
            "border": null,
            "bottom": null,
            "display": null,
            "flex": null,
            "flex_flow": null,
            "grid_area": null,
            "grid_auto_columns": null,
            "grid_auto_flow": null,
            "grid_auto_rows": null,
            "grid_column": null,
            "grid_gap": null,
            "grid_row": null,
            "grid_template_areas": null,
            "grid_template_columns": null,
            "grid_template_rows": null,
            "height": null,
            "justify_content": null,
            "justify_items": null,
            "left": null,
            "margin": null,
            "max_height": null,
            "max_width": null,
            "min_height": null,
            "min_width": null,
            "object_fit": null,
            "object_position": null,
            "order": null,
            "overflow": null,
            "overflow_x": null,
            "overflow_y": null,
            "padding": null,
            "right": null,
            "top": null,
            "visibility": null,
            "width": null
          }
        },
        "411181467d614f80b617f001894c1fa0": {
          "model_module": "@jupyter-widgets/controls",
          "model_name": "DescriptionStyleModel",
          "model_module_version": "1.5.0",
          "state": {
            "_model_module": "@jupyter-widgets/controls",
            "_model_module_version": "1.5.0",
            "_model_name": "DescriptionStyleModel",
            "_view_count": null,
            "_view_module": "@jupyter-widgets/base",
            "_view_module_version": "1.2.0",
            "_view_name": "StyleView",
            "description_width": ""
          }
        },
        "ced6ae0c1bb747e2b2ec7f93a9980eb1": {
          "model_module": "@jupyter-widgets/controls",
          "model_name": "HBoxModel",
          "model_module_version": "1.5.0",
          "state": {
            "_dom_classes": [],
            "_model_module": "@jupyter-widgets/controls",
            "_model_module_version": "1.5.0",
            "_model_name": "HBoxModel",
            "_view_count": null,
            "_view_module": "@jupyter-widgets/controls",
            "_view_module_version": "1.5.0",
            "_view_name": "HBoxView",
            "box_style": "",
            "children": [
              "IPY_MODEL_90784e2c82e34fc5acbf589eea9199b6",
              "IPY_MODEL_a9162ee1ff00435fbf063dbb69b124c0",
              "IPY_MODEL_a0fc2ee006b243efbd70426b86bba10e"
            ],
            "layout": "IPY_MODEL_2e194dd15bf04262993da0471588cbf5"
          }
        },
        "90784e2c82e34fc5acbf589eea9199b6": {
          "model_module": "@jupyter-widgets/controls",
          "model_name": "HTMLModel",
          "model_module_version": "1.5.0",
          "state": {
            "_dom_classes": [],
            "_model_module": "@jupyter-widgets/controls",
            "_model_module_version": "1.5.0",
            "_model_name": "HTMLModel",
            "_view_count": null,
            "_view_module": "@jupyter-widgets/controls",
            "_view_module_version": "1.5.0",
            "_view_name": "HTMLView",
            "description": "",
            "description_tooltip": null,
            "layout": "IPY_MODEL_565aa351f61a486b9d3ab492924d12f4",
            "placeholder": "​",
            "style": "IPY_MODEL_dff7ebc5c4bd49819d4a7d27b7c66f8e",
            "value": "100%"
          }
        },
        "a9162ee1ff00435fbf063dbb69b124c0": {
          "model_module": "@jupyter-widgets/controls",
          "model_name": "FloatProgressModel",
          "model_module_version": "1.5.0",
          "state": {
            "_dom_classes": [],
            "_model_module": "@jupyter-widgets/controls",
            "_model_module_version": "1.5.0",
            "_model_name": "FloatProgressModel",
            "_view_count": null,
            "_view_module": "@jupyter-widgets/controls",
            "_view_module_version": "1.5.0",
            "_view_name": "ProgressView",
            "bar_style": "success",
            "description": "",
            "description_tooltip": null,
            "layout": "IPY_MODEL_16e9cb64e9b84a798c884cb6a56a30ee",
            "max": 1875,
            "min": 0,
            "orientation": "horizontal",
            "style": "IPY_MODEL_bbf0caa7aa9040a1afab14c9443d4a7b",
            "value": 1875
          }
        },
        "a0fc2ee006b243efbd70426b86bba10e": {
          "model_module": "@jupyter-widgets/controls",
          "model_name": "HTMLModel",
          "model_module_version": "1.5.0",
          "state": {
            "_dom_classes": [],
            "_model_module": "@jupyter-widgets/controls",
            "_model_module_version": "1.5.0",
            "_model_name": "HTMLModel",
            "_view_count": null,
            "_view_module": "@jupyter-widgets/controls",
            "_view_module_version": "1.5.0",
            "_view_name": "HTMLView",
            "description": "",
            "description_tooltip": null,
            "layout": "IPY_MODEL_4485bb30a6254019b62c6a863a87d6d0",
            "placeholder": "​",
            "style": "IPY_MODEL_9dff280de38541bd97d1ed58797edf06",
            "value": " 1875/1875 [00:13&lt;00:00, 109.54it/s]"
          }
        },
        "2e194dd15bf04262993da0471588cbf5": {
          "model_module": "@jupyter-widgets/base",
          "model_name": "LayoutModel",
          "model_module_version": "1.2.0",
          "state": {
            "_model_module": "@jupyter-widgets/base",
            "_model_module_version": "1.2.0",
            "_model_name": "LayoutModel",
            "_view_count": null,
            "_view_module": "@jupyter-widgets/base",
            "_view_module_version": "1.2.0",
            "_view_name": "LayoutView",
            "align_content": null,
            "align_items": null,
            "align_self": null,
            "border": null,
            "bottom": null,
            "display": null,
            "flex": null,
            "flex_flow": null,
            "grid_area": null,
            "grid_auto_columns": null,
            "grid_auto_flow": null,
            "grid_auto_rows": null,
            "grid_column": null,
            "grid_gap": null,
            "grid_row": null,
            "grid_template_areas": null,
            "grid_template_columns": null,
            "grid_template_rows": null,
            "height": null,
            "justify_content": null,
            "justify_items": null,
            "left": null,
            "margin": null,
            "max_height": null,
            "max_width": null,
            "min_height": null,
            "min_width": null,
            "object_fit": null,
            "object_position": null,
            "order": null,
            "overflow": null,
            "overflow_x": null,
            "overflow_y": null,
            "padding": null,
            "right": null,
            "top": null,
            "visibility": null,
            "width": null
          }
        },
        "565aa351f61a486b9d3ab492924d12f4": {
          "model_module": "@jupyter-widgets/base",
          "model_name": "LayoutModel",
          "model_module_version": "1.2.0",
          "state": {
            "_model_module": "@jupyter-widgets/base",
            "_model_module_version": "1.2.0",
            "_model_name": "LayoutModel",
            "_view_count": null,
            "_view_module": "@jupyter-widgets/base",
            "_view_module_version": "1.2.0",
            "_view_name": "LayoutView",
            "align_content": null,
            "align_items": null,
            "align_self": null,
            "border": null,
            "bottom": null,
            "display": null,
            "flex": null,
            "flex_flow": null,
            "grid_area": null,
            "grid_auto_columns": null,
            "grid_auto_flow": null,
            "grid_auto_rows": null,
            "grid_column": null,
            "grid_gap": null,
            "grid_row": null,
            "grid_template_areas": null,
            "grid_template_columns": null,
            "grid_template_rows": null,
            "height": null,
            "justify_content": null,
            "justify_items": null,
            "left": null,
            "margin": null,
            "max_height": null,
            "max_width": null,
            "min_height": null,
            "min_width": null,
            "object_fit": null,
            "object_position": null,
            "order": null,
            "overflow": null,
            "overflow_x": null,
            "overflow_y": null,
            "padding": null,
            "right": null,
            "top": null,
            "visibility": null,
            "width": null
          }
        },
        "dff7ebc5c4bd49819d4a7d27b7c66f8e": {
          "model_module": "@jupyter-widgets/controls",
          "model_name": "DescriptionStyleModel",
          "model_module_version": "1.5.0",
          "state": {
            "_model_module": "@jupyter-widgets/controls",
            "_model_module_version": "1.5.0",
            "_model_name": "DescriptionStyleModel",
            "_view_count": null,
            "_view_module": "@jupyter-widgets/base",
            "_view_module_version": "1.2.0",
            "_view_name": "StyleView",
            "description_width": ""
          }
        },
        "16e9cb64e9b84a798c884cb6a56a30ee": {
          "model_module": "@jupyter-widgets/base",
          "model_name": "LayoutModel",
          "model_module_version": "1.2.0",
          "state": {
            "_model_module": "@jupyter-widgets/base",
            "_model_module_version": "1.2.0",
            "_model_name": "LayoutModel",
            "_view_count": null,
            "_view_module": "@jupyter-widgets/base",
            "_view_module_version": "1.2.0",
            "_view_name": "LayoutView",
            "align_content": null,
            "align_items": null,
            "align_self": null,
            "border": null,
            "bottom": null,
            "display": null,
            "flex": null,
            "flex_flow": null,
            "grid_area": null,
            "grid_auto_columns": null,
            "grid_auto_flow": null,
            "grid_auto_rows": null,
            "grid_column": null,
            "grid_gap": null,
            "grid_row": null,
            "grid_template_areas": null,
            "grid_template_columns": null,
            "grid_template_rows": null,
            "height": null,
            "justify_content": null,
            "justify_items": null,
            "left": null,
            "margin": null,
            "max_height": null,
            "max_width": null,
            "min_height": null,
            "min_width": null,
            "object_fit": null,
            "object_position": null,
            "order": null,
            "overflow": null,
            "overflow_x": null,
            "overflow_y": null,
            "padding": null,
            "right": null,
            "top": null,
            "visibility": null,
            "width": null
          }
        },
        "bbf0caa7aa9040a1afab14c9443d4a7b": {
          "model_module": "@jupyter-widgets/controls",
          "model_name": "ProgressStyleModel",
          "model_module_version": "1.5.0",
          "state": {
            "_model_module": "@jupyter-widgets/controls",
            "_model_module_version": "1.5.0",
            "_model_name": "ProgressStyleModel",
            "_view_count": null,
            "_view_module": "@jupyter-widgets/base",
            "_view_module_version": "1.2.0",
            "_view_name": "StyleView",
            "bar_color": null,
            "description_width": ""
          }
        },
        "4485bb30a6254019b62c6a863a87d6d0": {
          "model_module": "@jupyter-widgets/base",
          "model_name": "LayoutModel",
          "model_module_version": "1.2.0",
          "state": {
            "_model_module": "@jupyter-widgets/base",
            "_model_module_version": "1.2.0",
            "_model_name": "LayoutModel",
            "_view_count": null,
            "_view_module": "@jupyter-widgets/base",
            "_view_module_version": "1.2.0",
            "_view_name": "LayoutView",
            "align_content": null,
            "align_items": null,
            "align_self": null,
            "border": null,
            "bottom": null,
            "display": null,
            "flex": null,
            "flex_flow": null,
            "grid_area": null,
            "grid_auto_columns": null,
            "grid_auto_flow": null,
            "grid_auto_rows": null,
            "grid_column": null,
            "grid_gap": null,
            "grid_row": null,
            "grid_template_areas": null,
            "grid_template_columns": null,
            "grid_template_rows": null,
            "height": null,
            "justify_content": null,
            "justify_items": null,
            "left": null,
            "margin": null,
            "max_height": null,
            "max_width": null,
            "min_height": null,
            "min_width": null,
            "object_fit": null,
            "object_position": null,
            "order": null,
            "overflow": null,
            "overflow_x": null,
            "overflow_y": null,
            "padding": null,
            "right": null,
            "top": null,
            "visibility": null,
            "width": null
          }
        },
        "9dff280de38541bd97d1ed58797edf06": {
          "model_module": "@jupyter-widgets/controls",
          "model_name": "DescriptionStyleModel",
          "model_module_version": "1.5.0",
          "state": {
            "_model_module": "@jupyter-widgets/controls",
            "_model_module_version": "1.5.0",
            "_model_name": "DescriptionStyleModel",
            "_view_count": null,
            "_view_module": "@jupyter-widgets/base",
            "_view_module_version": "1.2.0",
            "_view_name": "StyleView",
            "description_width": ""
          }
        },
        "adeebf862dfd45e0833a3ce4e3685b15": {
          "model_module": "@jupyter-widgets/controls",
          "model_name": "HBoxModel",
          "model_module_version": "1.5.0",
          "state": {
            "_dom_classes": [],
            "_model_module": "@jupyter-widgets/controls",
            "_model_module_version": "1.5.0",
            "_model_name": "HBoxModel",
            "_view_count": null,
            "_view_module": "@jupyter-widgets/controls",
            "_view_module_version": "1.5.0",
            "_view_name": "HBoxView",
            "box_style": "",
            "children": [
              "IPY_MODEL_afa11975556c415eb8ba51c79092333f",
              "IPY_MODEL_37fe00ee1c44489fb8ae95c1a2349384",
              "IPY_MODEL_0332665344d24baabc9dc79e3a4968c5"
            ],
            "layout": "IPY_MODEL_2450e9821e354227b081109b76168ee5"
          }
        },
        "afa11975556c415eb8ba51c79092333f": {
          "model_module": "@jupyter-widgets/controls",
          "model_name": "HTMLModel",
          "model_module_version": "1.5.0",
          "state": {
            "_dom_classes": [],
            "_model_module": "@jupyter-widgets/controls",
            "_model_module_version": "1.5.0",
            "_model_name": "HTMLModel",
            "_view_count": null,
            "_view_module": "@jupyter-widgets/controls",
            "_view_module_version": "1.5.0",
            "_view_name": "HTMLView",
            "description": "",
            "description_tooltip": null,
            "layout": "IPY_MODEL_44a2ed86da5c4491a4a81f62472d66aa",
            "placeholder": "​",
            "style": "IPY_MODEL_f810adff0e1c416482cfcf5eb919511f",
            "value": "100%"
          }
        },
        "37fe00ee1c44489fb8ae95c1a2349384": {
          "model_module": "@jupyter-widgets/controls",
          "model_name": "FloatProgressModel",
          "model_module_version": "1.5.0",
          "state": {
            "_dom_classes": [],
            "_model_module": "@jupyter-widgets/controls",
            "_model_module_version": "1.5.0",
            "_model_name": "FloatProgressModel",
            "_view_count": null,
            "_view_module": "@jupyter-widgets/controls",
            "_view_module_version": "1.5.0",
            "_view_name": "ProgressView",
            "bar_style": "success",
            "description": "",
            "description_tooltip": null,
            "layout": "IPY_MODEL_87530a1febf3416997705808df9e6a98",
            "max": 1875,
            "min": 0,
            "orientation": "horizontal",
            "style": "IPY_MODEL_2c689b13b2b44ae9a5e5303213dd691d",
            "value": 1875
          }
        },
        "0332665344d24baabc9dc79e3a4968c5": {
          "model_module": "@jupyter-widgets/controls",
          "model_name": "HTMLModel",
          "model_module_version": "1.5.0",
          "state": {
            "_dom_classes": [],
            "_model_module": "@jupyter-widgets/controls",
            "_model_module_version": "1.5.0",
            "_model_name": "HTMLModel",
            "_view_count": null,
            "_view_module": "@jupyter-widgets/controls",
            "_view_module_version": "1.5.0",
            "_view_name": "HTMLView",
            "description": "",
            "description_tooltip": null,
            "layout": "IPY_MODEL_d9121b94056a495c8b96114132abb477",
            "placeholder": "​",
            "style": "IPY_MODEL_22c1383c2ee44c73bd1653c96466f997",
            "value": " 1875/1875 [00:13&lt;00:00, 141.43it/s]"
          }
        },
        "2450e9821e354227b081109b76168ee5": {
          "model_module": "@jupyter-widgets/base",
          "model_name": "LayoutModel",
          "model_module_version": "1.2.0",
          "state": {
            "_model_module": "@jupyter-widgets/base",
            "_model_module_version": "1.2.0",
            "_model_name": "LayoutModel",
            "_view_count": null,
            "_view_module": "@jupyter-widgets/base",
            "_view_module_version": "1.2.0",
            "_view_name": "LayoutView",
            "align_content": null,
            "align_items": null,
            "align_self": null,
            "border": null,
            "bottom": null,
            "display": null,
            "flex": null,
            "flex_flow": null,
            "grid_area": null,
            "grid_auto_columns": null,
            "grid_auto_flow": null,
            "grid_auto_rows": null,
            "grid_column": null,
            "grid_gap": null,
            "grid_row": null,
            "grid_template_areas": null,
            "grid_template_columns": null,
            "grid_template_rows": null,
            "height": null,
            "justify_content": null,
            "justify_items": null,
            "left": null,
            "margin": null,
            "max_height": null,
            "max_width": null,
            "min_height": null,
            "min_width": null,
            "object_fit": null,
            "object_position": null,
            "order": null,
            "overflow": null,
            "overflow_x": null,
            "overflow_y": null,
            "padding": null,
            "right": null,
            "top": null,
            "visibility": null,
            "width": null
          }
        },
        "44a2ed86da5c4491a4a81f62472d66aa": {
          "model_module": "@jupyter-widgets/base",
          "model_name": "LayoutModel",
          "model_module_version": "1.2.0",
          "state": {
            "_model_module": "@jupyter-widgets/base",
            "_model_module_version": "1.2.0",
            "_model_name": "LayoutModel",
            "_view_count": null,
            "_view_module": "@jupyter-widgets/base",
            "_view_module_version": "1.2.0",
            "_view_name": "LayoutView",
            "align_content": null,
            "align_items": null,
            "align_self": null,
            "border": null,
            "bottom": null,
            "display": null,
            "flex": null,
            "flex_flow": null,
            "grid_area": null,
            "grid_auto_columns": null,
            "grid_auto_flow": null,
            "grid_auto_rows": null,
            "grid_column": null,
            "grid_gap": null,
            "grid_row": null,
            "grid_template_areas": null,
            "grid_template_columns": null,
            "grid_template_rows": null,
            "height": null,
            "justify_content": null,
            "justify_items": null,
            "left": null,
            "margin": null,
            "max_height": null,
            "max_width": null,
            "min_height": null,
            "min_width": null,
            "object_fit": null,
            "object_position": null,
            "order": null,
            "overflow": null,
            "overflow_x": null,
            "overflow_y": null,
            "padding": null,
            "right": null,
            "top": null,
            "visibility": null,
            "width": null
          }
        },
        "f810adff0e1c416482cfcf5eb919511f": {
          "model_module": "@jupyter-widgets/controls",
          "model_name": "DescriptionStyleModel",
          "model_module_version": "1.5.0",
          "state": {
            "_model_module": "@jupyter-widgets/controls",
            "_model_module_version": "1.5.0",
            "_model_name": "DescriptionStyleModel",
            "_view_count": null,
            "_view_module": "@jupyter-widgets/base",
            "_view_module_version": "1.2.0",
            "_view_name": "StyleView",
            "description_width": ""
          }
        },
        "87530a1febf3416997705808df9e6a98": {
          "model_module": "@jupyter-widgets/base",
          "model_name": "LayoutModel",
          "model_module_version": "1.2.0",
          "state": {
            "_model_module": "@jupyter-widgets/base",
            "_model_module_version": "1.2.0",
            "_model_name": "LayoutModel",
            "_view_count": null,
            "_view_module": "@jupyter-widgets/base",
            "_view_module_version": "1.2.0",
            "_view_name": "LayoutView",
            "align_content": null,
            "align_items": null,
            "align_self": null,
            "border": null,
            "bottom": null,
            "display": null,
            "flex": null,
            "flex_flow": null,
            "grid_area": null,
            "grid_auto_columns": null,
            "grid_auto_flow": null,
            "grid_auto_rows": null,
            "grid_column": null,
            "grid_gap": null,
            "grid_row": null,
            "grid_template_areas": null,
            "grid_template_columns": null,
            "grid_template_rows": null,
            "height": null,
            "justify_content": null,
            "justify_items": null,
            "left": null,
            "margin": null,
            "max_height": null,
            "max_width": null,
            "min_height": null,
            "min_width": null,
            "object_fit": null,
            "object_position": null,
            "order": null,
            "overflow": null,
            "overflow_x": null,
            "overflow_y": null,
            "padding": null,
            "right": null,
            "top": null,
            "visibility": null,
            "width": null
          }
        },
        "2c689b13b2b44ae9a5e5303213dd691d": {
          "model_module": "@jupyter-widgets/controls",
          "model_name": "ProgressStyleModel",
          "model_module_version": "1.5.0",
          "state": {
            "_model_module": "@jupyter-widgets/controls",
            "_model_module_version": "1.5.0",
            "_model_name": "ProgressStyleModel",
            "_view_count": null,
            "_view_module": "@jupyter-widgets/base",
            "_view_module_version": "1.2.0",
            "_view_name": "StyleView",
            "bar_color": null,
            "description_width": ""
          }
        },
        "d9121b94056a495c8b96114132abb477": {
          "model_module": "@jupyter-widgets/base",
          "model_name": "LayoutModel",
          "model_module_version": "1.2.0",
          "state": {
            "_model_module": "@jupyter-widgets/base",
            "_model_module_version": "1.2.0",
            "_model_name": "LayoutModel",
            "_view_count": null,
            "_view_module": "@jupyter-widgets/base",
            "_view_module_version": "1.2.0",
            "_view_name": "LayoutView",
            "align_content": null,
            "align_items": null,
            "align_self": null,
            "border": null,
            "bottom": null,
            "display": null,
            "flex": null,
            "flex_flow": null,
            "grid_area": null,
            "grid_auto_columns": null,
            "grid_auto_flow": null,
            "grid_auto_rows": null,
            "grid_column": null,
            "grid_gap": null,
            "grid_row": null,
            "grid_template_areas": null,
            "grid_template_columns": null,
            "grid_template_rows": null,
            "height": null,
            "justify_content": null,
            "justify_items": null,
            "left": null,
            "margin": null,
            "max_height": null,
            "max_width": null,
            "min_height": null,
            "min_width": null,
            "object_fit": null,
            "object_position": null,
            "order": null,
            "overflow": null,
            "overflow_x": null,
            "overflow_y": null,
            "padding": null,
            "right": null,
            "top": null,
            "visibility": null,
            "width": null
          }
        },
        "22c1383c2ee44c73bd1653c96466f997": {
          "model_module": "@jupyter-widgets/controls",
          "model_name": "DescriptionStyleModel",
          "model_module_version": "1.5.0",
          "state": {
            "_model_module": "@jupyter-widgets/controls",
            "_model_module_version": "1.5.0",
            "_model_name": "DescriptionStyleModel",
            "_view_count": null,
            "_view_module": "@jupyter-widgets/base",
            "_view_module_version": "1.2.0",
            "_view_name": "StyleView",
            "description_width": ""
          }
        },
        "641ba6c3584844b8a94ba811bc04fbca": {
          "model_module": "@jupyter-widgets/controls",
          "model_name": "HBoxModel",
          "model_module_version": "1.5.0",
          "state": {
            "_dom_classes": [],
            "_model_module": "@jupyter-widgets/controls",
            "_model_module_version": "1.5.0",
            "_model_name": "HBoxModel",
            "_view_count": null,
            "_view_module": "@jupyter-widgets/controls",
            "_view_module_version": "1.5.0",
            "_view_name": "HBoxView",
            "box_style": "",
            "children": [
              "IPY_MODEL_6c150601ea074af9a99f13483c87b37e",
              "IPY_MODEL_bcdf70dae3b04464b96040676b681b94",
              "IPY_MODEL_3163a67640434607a0498f2ec9a25e9c"
            ],
            "layout": "IPY_MODEL_72e66613caa048edbc8844554d8cf278"
          }
        },
        "6c150601ea074af9a99f13483c87b37e": {
          "model_module": "@jupyter-widgets/controls",
          "model_name": "HTMLModel",
          "model_module_version": "1.5.0",
          "state": {
            "_dom_classes": [],
            "_model_module": "@jupyter-widgets/controls",
            "_model_module_version": "1.5.0",
            "_model_name": "HTMLModel",
            "_view_count": null,
            "_view_module": "@jupyter-widgets/controls",
            "_view_module_version": "1.5.0",
            "_view_name": "HTMLView",
            "description": "",
            "description_tooltip": null,
            "layout": "IPY_MODEL_4a11a38b07834186927e937af403fcf5",
            "placeholder": "​",
            "style": "IPY_MODEL_a53169e7b84040529e478b7a56ca6973",
            "value": "100%"
          }
        },
        "bcdf70dae3b04464b96040676b681b94": {
          "model_module": "@jupyter-widgets/controls",
          "model_name": "FloatProgressModel",
          "model_module_version": "1.5.0",
          "state": {
            "_dom_classes": [],
            "_model_module": "@jupyter-widgets/controls",
            "_model_module_version": "1.5.0",
            "_model_name": "FloatProgressModel",
            "_view_count": null,
            "_view_module": "@jupyter-widgets/controls",
            "_view_module_version": "1.5.0",
            "_view_name": "ProgressView",
            "bar_style": "success",
            "description": "",
            "description_tooltip": null,
            "layout": "IPY_MODEL_15e700517471432483bbebac47831cdb",
            "max": 1875,
            "min": 0,
            "orientation": "horizontal",
            "style": "IPY_MODEL_93cdfcb8568f4d89bbb44116faa5ef26",
            "value": 1875
          }
        },
        "3163a67640434607a0498f2ec9a25e9c": {
          "model_module": "@jupyter-widgets/controls",
          "model_name": "HTMLModel",
          "model_module_version": "1.5.0",
          "state": {
            "_dom_classes": [],
            "_model_module": "@jupyter-widgets/controls",
            "_model_module_version": "1.5.0",
            "_model_name": "HTMLModel",
            "_view_count": null,
            "_view_module": "@jupyter-widgets/controls",
            "_view_module_version": "1.5.0",
            "_view_name": "HTMLView",
            "description": "",
            "description_tooltip": null,
            "layout": "IPY_MODEL_f2dc8319b5d44a3daf27c4a9f74957f8",
            "placeholder": "​",
            "style": "IPY_MODEL_f5c92639ffaa49e29b0b6980cf6753a6",
            "value": " 1875/1875 [00:13&lt;00:00, 147.50it/s]"
          }
        },
        "72e66613caa048edbc8844554d8cf278": {
          "model_module": "@jupyter-widgets/base",
          "model_name": "LayoutModel",
          "model_module_version": "1.2.0",
          "state": {
            "_model_module": "@jupyter-widgets/base",
            "_model_module_version": "1.2.0",
            "_model_name": "LayoutModel",
            "_view_count": null,
            "_view_module": "@jupyter-widgets/base",
            "_view_module_version": "1.2.0",
            "_view_name": "LayoutView",
            "align_content": null,
            "align_items": null,
            "align_self": null,
            "border": null,
            "bottom": null,
            "display": null,
            "flex": null,
            "flex_flow": null,
            "grid_area": null,
            "grid_auto_columns": null,
            "grid_auto_flow": null,
            "grid_auto_rows": null,
            "grid_column": null,
            "grid_gap": null,
            "grid_row": null,
            "grid_template_areas": null,
            "grid_template_columns": null,
            "grid_template_rows": null,
            "height": null,
            "justify_content": null,
            "justify_items": null,
            "left": null,
            "margin": null,
            "max_height": null,
            "max_width": null,
            "min_height": null,
            "min_width": null,
            "object_fit": null,
            "object_position": null,
            "order": null,
            "overflow": null,
            "overflow_x": null,
            "overflow_y": null,
            "padding": null,
            "right": null,
            "top": null,
            "visibility": null,
            "width": null
          }
        },
        "4a11a38b07834186927e937af403fcf5": {
          "model_module": "@jupyter-widgets/base",
          "model_name": "LayoutModel",
          "model_module_version": "1.2.0",
          "state": {
            "_model_module": "@jupyter-widgets/base",
            "_model_module_version": "1.2.0",
            "_model_name": "LayoutModel",
            "_view_count": null,
            "_view_module": "@jupyter-widgets/base",
            "_view_module_version": "1.2.0",
            "_view_name": "LayoutView",
            "align_content": null,
            "align_items": null,
            "align_self": null,
            "border": null,
            "bottom": null,
            "display": null,
            "flex": null,
            "flex_flow": null,
            "grid_area": null,
            "grid_auto_columns": null,
            "grid_auto_flow": null,
            "grid_auto_rows": null,
            "grid_column": null,
            "grid_gap": null,
            "grid_row": null,
            "grid_template_areas": null,
            "grid_template_columns": null,
            "grid_template_rows": null,
            "height": null,
            "justify_content": null,
            "justify_items": null,
            "left": null,
            "margin": null,
            "max_height": null,
            "max_width": null,
            "min_height": null,
            "min_width": null,
            "object_fit": null,
            "object_position": null,
            "order": null,
            "overflow": null,
            "overflow_x": null,
            "overflow_y": null,
            "padding": null,
            "right": null,
            "top": null,
            "visibility": null,
            "width": null
          }
        },
        "a53169e7b84040529e478b7a56ca6973": {
          "model_module": "@jupyter-widgets/controls",
          "model_name": "DescriptionStyleModel",
          "model_module_version": "1.5.0",
          "state": {
            "_model_module": "@jupyter-widgets/controls",
            "_model_module_version": "1.5.0",
            "_model_name": "DescriptionStyleModel",
            "_view_count": null,
            "_view_module": "@jupyter-widgets/base",
            "_view_module_version": "1.2.0",
            "_view_name": "StyleView",
            "description_width": ""
          }
        },
        "15e700517471432483bbebac47831cdb": {
          "model_module": "@jupyter-widgets/base",
          "model_name": "LayoutModel",
          "model_module_version": "1.2.0",
          "state": {
            "_model_module": "@jupyter-widgets/base",
            "_model_module_version": "1.2.0",
            "_model_name": "LayoutModel",
            "_view_count": null,
            "_view_module": "@jupyter-widgets/base",
            "_view_module_version": "1.2.0",
            "_view_name": "LayoutView",
            "align_content": null,
            "align_items": null,
            "align_self": null,
            "border": null,
            "bottom": null,
            "display": null,
            "flex": null,
            "flex_flow": null,
            "grid_area": null,
            "grid_auto_columns": null,
            "grid_auto_flow": null,
            "grid_auto_rows": null,
            "grid_column": null,
            "grid_gap": null,
            "grid_row": null,
            "grid_template_areas": null,
            "grid_template_columns": null,
            "grid_template_rows": null,
            "height": null,
            "justify_content": null,
            "justify_items": null,
            "left": null,
            "margin": null,
            "max_height": null,
            "max_width": null,
            "min_height": null,
            "min_width": null,
            "object_fit": null,
            "object_position": null,
            "order": null,
            "overflow": null,
            "overflow_x": null,
            "overflow_y": null,
            "padding": null,
            "right": null,
            "top": null,
            "visibility": null,
            "width": null
          }
        },
        "93cdfcb8568f4d89bbb44116faa5ef26": {
          "model_module": "@jupyter-widgets/controls",
          "model_name": "ProgressStyleModel",
          "model_module_version": "1.5.0",
          "state": {
            "_model_module": "@jupyter-widgets/controls",
            "_model_module_version": "1.5.0",
            "_model_name": "ProgressStyleModel",
            "_view_count": null,
            "_view_module": "@jupyter-widgets/base",
            "_view_module_version": "1.2.0",
            "_view_name": "StyleView",
            "bar_color": null,
            "description_width": ""
          }
        },
        "f2dc8319b5d44a3daf27c4a9f74957f8": {
          "model_module": "@jupyter-widgets/base",
          "model_name": "LayoutModel",
          "model_module_version": "1.2.0",
          "state": {
            "_model_module": "@jupyter-widgets/base",
            "_model_module_version": "1.2.0",
            "_model_name": "LayoutModel",
            "_view_count": null,
            "_view_module": "@jupyter-widgets/base",
            "_view_module_version": "1.2.0",
            "_view_name": "LayoutView",
            "align_content": null,
            "align_items": null,
            "align_self": null,
            "border": null,
            "bottom": null,
            "display": null,
            "flex": null,
            "flex_flow": null,
            "grid_area": null,
            "grid_auto_columns": null,
            "grid_auto_flow": null,
            "grid_auto_rows": null,
            "grid_column": null,
            "grid_gap": null,
            "grid_row": null,
            "grid_template_areas": null,
            "grid_template_columns": null,
            "grid_template_rows": null,
            "height": null,
            "justify_content": null,
            "justify_items": null,
            "left": null,
            "margin": null,
            "max_height": null,
            "max_width": null,
            "min_height": null,
            "min_width": null,
            "object_fit": null,
            "object_position": null,
            "order": null,
            "overflow": null,
            "overflow_x": null,
            "overflow_y": null,
            "padding": null,
            "right": null,
            "top": null,
            "visibility": null,
            "width": null
          }
        },
        "f5c92639ffaa49e29b0b6980cf6753a6": {
          "model_module": "@jupyter-widgets/controls",
          "model_name": "DescriptionStyleModel",
          "model_module_version": "1.5.0",
          "state": {
            "_model_module": "@jupyter-widgets/controls",
            "_model_module_version": "1.5.0",
            "_model_name": "DescriptionStyleModel",
            "_view_count": null,
            "_view_module": "@jupyter-widgets/base",
            "_view_module_version": "1.2.0",
            "_view_name": "StyleView",
            "description_width": ""
          }
        },
        "b2c172f9e17c41dfb9fd58f2a99c0833": {
          "model_module": "@jupyter-widgets/controls",
          "model_name": "HBoxModel",
          "model_module_version": "1.5.0",
          "state": {
            "_dom_classes": [],
            "_model_module": "@jupyter-widgets/controls",
            "_model_module_version": "1.5.0",
            "_model_name": "HBoxModel",
            "_view_count": null,
            "_view_module": "@jupyter-widgets/controls",
            "_view_module_version": "1.5.0",
            "_view_name": "HBoxView",
            "box_style": "",
            "children": [
              "IPY_MODEL_7f6ee123ef1b4e9ab67b3d095b435ffe",
              "IPY_MODEL_7386f6e4e2d1483b8a819fcf581a7078",
              "IPY_MODEL_ff1ca66678ff4c48a8dd13dbdf2d526c"
            ],
            "layout": "IPY_MODEL_977d6eb258124502bbd8b6f7c7cb7ab6"
          }
        },
        "7f6ee123ef1b4e9ab67b3d095b435ffe": {
          "model_module": "@jupyter-widgets/controls",
          "model_name": "HTMLModel",
          "model_module_version": "1.5.0",
          "state": {
            "_dom_classes": [],
            "_model_module": "@jupyter-widgets/controls",
            "_model_module_version": "1.5.0",
            "_model_name": "HTMLModel",
            "_view_count": null,
            "_view_module": "@jupyter-widgets/controls",
            "_view_module_version": "1.5.0",
            "_view_name": "HTMLView",
            "description": "",
            "description_tooltip": null,
            "layout": "IPY_MODEL_35a64853e4a84ab29f514b02e8f7480b",
            "placeholder": "​",
            "style": "IPY_MODEL_7d482dcccc214c73bf0c6b693927b622",
            "value": "100%"
          }
        },
        "7386f6e4e2d1483b8a819fcf581a7078": {
          "model_module": "@jupyter-widgets/controls",
          "model_name": "FloatProgressModel",
          "model_module_version": "1.5.0",
          "state": {
            "_dom_classes": [],
            "_model_module": "@jupyter-widgets/controls",
            "_model_module_version": "1.5.0",
            "_model_name": "FloatProgressModel",
            "_view_count": null,
            "_view_module": "@jupyter-widgets/controls",
            "_view_module_version": "1.5.0",
            "_view_name": "ProgressView",
            "bar_style": "success",
            "description": "",
            "description_tooltip": null,
            "layout": "IPY_MODEL_b9336ea3cd244220bc0c94859e854c97",
            "max": 1875,
            "min": 0,
            "orientation": "horizontal",
            "style": "IPY_MODEL_991904b70d5d4e6187bae75b0ef105e9",
            "value": 1875
          }
        },
        "ff1ca66678ff4c48a8dd13dbdf2d526c": {
          "model_module": "@jupyter-widgets/controls",
          "model_name": "HTMLModel",
          "model_module_version": "1.5.0",
          "state": {
            "_dom_classes": [],
            "_model_module": "@jupyter-widgets/controls",
            "_model_module_version": "1.5.0",
            "_model_name": "HTMLModel",
            "_view_count": null,
            "_view_module": "@jupyter-widgets/controls",
            "_view_module_version": "1.5.0",
            "_view_name": "HTMLView",
            "description": "",
            "description_tooltip": null,
            "layout": "IPY_MODEL_7bfa0f02c404470c84141c73dce0270a",
            "placeholder": "​",
            "style": "IPY_MODEL_f31b2c795eed4d73a590a48a1249c69b",
            "value": " 1875/1875 [00:14&lt;00:00, 79.51it/s]"
          }
        },
        "977d6eb258124502bbd8b6f7c7cb7ab6": {
          "model_module": "@jupyter-widgets/base",
          "model_name": "LayoutModel",
          "model_module_version": "1.2.0",
          "state": {
            "_model_module": "@jupyter-widgets/base",
            "_model_module_version": "1.2.0",
            "_model_name": "LayoutModel",
            "_view_count": null,
            "_view_module": "@jupyter-widgets/base",
            "_view_module_version": "1.2.0",
            "_view_name": "LayoutView",
            "align_content": null,
            "align_items": null,
            "align_self": null,
            "border": null,
            "bottom": null,
            "display": null,
            "flex": null,
            "flex_flow": null,
            "grid_area": null,
            "grid_auto_columns": null,
            "grid_auto_flow": null,
            "grid_auto_rows": null,
            "grid_column": null,
            "grid_gap": null,
            "grid_row": null,
            "grid_template_areas": null,
            "grid_template_columns": null,
            "grid_template_rows": null,
            "height": null,
            "justify_content": null,
            "justify_items": null,
            "left": null,
            "margin": null,
            "max_height": null,
            "max_width": null,
            "min_height": null,
            "min_width": null,
            "object_fit": null,
            "object_position": null,
            "order": null,
            "overflow": null,
            "overflow_x": null,
            "overflow_y": null,
            "padding": null,
            "right": null,
            "top": null,
            "visibility": null,
            "width": null
          }
        },
        "35a64853e4a84ab29f514b02e8f7480b": {
          "model_module": "@jupyter-widgets/base",
          "model_name": "LayoutModel",
          "model_module_version": "1.2.0",
          "state": {
            "_model_module": "@jupyter-widgets/base",
            "_model_module_version": "1.2.0",
            "_model_name": "LayoutModel",
            "_view_count": null,
            "_view_module": "@jupyter-widgets/base",
            "_view_module_version": "1.2.0",
            "_view_name": "LayoutView",
            "align_content": null,
            "align_items": null,
            "align_self": null,
            "border": null,
            "bottom": null,
            "display": null,
            "flex": null,
            "flex_flow": null,
            "grid_area": null,
            "grid_auto_columns": null,
            "grid_auto_flow": null,
            "grid_auto_rows": null,
            "grid_column": null,
            "grid_gap": null,
            "grid_row": null,
            "grid_template_areas": null,
            "grid_template_columns": null,
            "grid_template_rows": null,
            "height": null,
            "justify_content": null,
            "justify_items": null,
            "left": null,
            "margin": null,
            "max_height": null,
            "max_width": null,
            "min_height": null,
            "min_width": null,
            "object_fit": null,
            "object_position": null,
            "order": null,
            "overflow": null,
            "overflow_x": null,
            "overflow_y": null,
            "padding": null,
            "right": null,
            "top": null,
            "visibility": null,
            "width": null
          }
        },
        "7d482dcccc214c73bf0c6b693927b622": {
          "model_module": "@jupyter-widgets/controls",
          "model_name": "DescriptionStyleModel",
          "model_module_version": "1.5.0",
          "state": {
            "_model_module": "@jupyter-widgets/controls",
            "_model_module_version": "1.5.0",
            "_model_name": "DescriptionStyleModel",
            "_view_count": null,
            "_view_module": "@jupyter-widgets/base",
            "_view_module_version": "1.2.0",
            "_view_name": "StyleView",
            "description_width": ""
          }
        },
        "b9336ea3cd244220bc0c94859e854c97": {
          "model_module": "@jupyter-widgets/base",
          "model_name": "LayoutModel",
          "model_module_version": "1.2.0",
          "state": {
            "_model_module": "@jupyter-widgets/base",
            "_model_module_version": "1.2.0",
            "_model_name": "LayoutModel",
            "_view_count": null,
            "_view_module": "@jupyter-widgets/base",
            "_view_module_version": "1.2.0",
            "_view_name": "LayoutView",
            "align_content": null,
            "align_items": null,
            "align_self": null,
            "border": null,
            "bottom": null,
            "display": null,
            "flex": null,
            "flex_flow": null,
            "grid_area": null,
            "grid_auto_columns": null,
            "grid_auto_flow": null,
            "grid_auto_rows": null,
            "grid_column": null,
            "grid_gap": null,
            "grid_row": null,
            "grid_template_areas": null,
            "grid_template_columns": null,
            "grid_template_rows": null,
            "height": null,
            "justify_content": null,
            "justify_items": null,
            "left": null,
            "margin": null,
            "max_height": null,
            "max_width": null,
            "min_height": null,
            "min_width": null,
            "object_fit": null,
            "object_position": null,
            "order": null,
            "overflow": null,
            "overflow_x": null,
            "overflow_y": null,
            "padding": null,
            "right": null,
            "top": null,
            "visibility": null,
            "width": null
          }
        },
        "991904b70d5d4e6187bae75b0ef105e9": {
          "model_module": "@jupyter-widgets/controls",
          "model_name": "ProgressStyleModel",
          "model_module_version": "1.5.0",
          "state": {
            "_model_module": "@jupyter-widgets/controls",
            "_model_module_version": "1.5.0",
            "_model_name": "ProgressStyleModel",
            "_view_count": null,
            "_view_module": "@jupyter-widgets/base",
            "_view_module_version": "1.2.0",
            "_view_name": "StyleView",
            "bar_color": null,
            "description_width": ""
          }
        },
        "7bfa0f02c404470c84141c73dce0270a": {
          "model_module": "@jupyter-widgets/base",
          "model_name": "LayoutModel",
          "model_module_version": "1.2.0",
          "state": {
            "_model_module": "@jupyter-widgets/base",
            "_model_module_version": "1.2.0",
            "_model_name": "LayoutModel",
            "_view_count": null,
            "_view_module": "@jupyter-widgets/base",
            "_view_module_version": "1.2.0",
            "_view_name": "LayoutView",
            "align_content": null,
            "align_items": null,
            "align_self": null,
            "border": null,
            "bottom": null,
            "display": null,
            "flex": null,
            "flex_flow": null,
            "grid_area": null,
            "grid_auto_columns": null,
            "grid_auto_flow": null,
            "grid_auto_rows": null,
            "grid_column": null,
            "grid_gap": null,
            "grid_row": null,
            "grid_template_areas": null,
            "grid_template_columns": null,
            "grid_template_rows": null,
            "height": null,
            "justify_content": null,
            "justify_items": null,
            "left": null,
            "margin": null,
            "max_height": null,
            "max_width": null,
            "min_height": null,
            "min_width": null,
            "object_fit": null,
            "object_position": null,
            "order": null,
            "overflow": null,
            "overflow_x": null,
            "overflow_y": null,
            "padding": null,
            "right": null,
            "top": null,
            "visibility": null,
            "width": null
          }
        },
        "f31b2c795eed4d73a590a48a1249c69b": {
          "model_module": "@jupyter-widgets/controls",
          "model_name": "DescriptionStyleModel",
          "model_module_version": "1.5.0",
          "state": {
            "_model_module": "@jupyter-widgets/controls",
            "_model_module_version": "1.5.0",
            "_model_name": "DescriptionStyleModel",
            "_view_count": null,
            "_view_module": "@jupyter-widgets/base",
            "_view_module_version": "1.2.0",
            "_view_name": "StyleView",
            "description_width": ""
          }
        },
        "b1655c2cf8854f3a81ec49820d365707": {
          "model_module": "@jupyter-widgets/controls",
          "model_name": "HBoxModel",
          "model_module_version": "1.5.0",
          "state": {
            "_dom_classes": [],
            "_model_module": "@jupyter-widgets/controls",
            "_model_module_version": "1.5.0",
            "_model_name": "HBoxModel",
            "_view_count": null,
            "_view_module": "@jupyter-widgets/controls",
            "_view_module_version": "1.5.0",
            "_view_name": "HBoxView",
            "box_style": "",
            "children": [
              "IPY_MODEL_8637a2d68cfb454abb656accd096ad6b",
              "IPY_MODEL_c681fc67f074492fa6c08df43da9a4bd",
              "IPY_MODEL_137c9e8041f04d7482ab3c5d04505f1b"
            ],
            "layout": "IPY_MODEL_c9e8d791436b412caf923edcffbae98f"
          }
        },
        "8637a2d68cfb454abb656accd096ad6b": {
          "model_module": "@jupyter-widgets/controls",
          "model_name": "HTMLModel",
          "model_module_version": "1.5.0",
          "state": {
            "_dom_classes": [],
            "_model_module": "@jupyter-widgets/controls",
            "_model_module_version": "1.5.0",
            "_model_name": "HTMLModel",
            "_view_count": null,
            "_view_module": "@jupyter-widgets/controls",
            "_view_module_version": "1.5.0",
            "_view_name": "HTMLView",
            "description": "",
            "description_tooltip": null,
            "layout": "IPY_MODEL_8875b8092257453697fc19a6b2bc28d2",
            "placeholder": "​",
            "style": "IPY_MODEL_da1b9577e1a44e16b62e5000fbb0e59f",
            "value": "100%"
          }
        },
        "c681fc67f074492fa6c08df43da9a4bd": {
          "model_module": "@jupyter-widgets/controls",
          "model_name": "FloatProgressModel",
          "model_module_version": "1.5.0",
          "state": {
            "_dom_classes": [],
            "_model_module": "@jupyter-widgets/controls",
            "_model_module_version": "1.5.0",
            "_model_name": "FloatProgressModel",
            "_view_count": null,
            "_view_module": "@jupyter-widgets/controls",
            "_view_module_version": "1.5.0",
            "_view_name": "ProgressView",
            "bar_style": "success",
            "description": "",
            "description_tooltip": null,
            "layout": "IPY_MODEL_40770809b8c54764aa3598b7e4f1d2ec",
            "max": 1875,
            "min": 0,
            "orientation": "horizontal",
            "style": "IPY_MODEL_71e69cc887cb4eeca2d91f4f3017fddb",
            "value": 1875
          }
        },
        "137c9e8041f04d7482ab3c5d04505f1b": {
          "model_module": "@jupyter-widgets/controls",
          "model_name": "HTMLModel",
          "model_module_version": "1.5.0",
          "state": {
            "_dom_classes": [],
            "_model_module": "@jupyter-widgets/controls",
            "_model_module_version": "1.5.0",
            "_model_name": "HTMLModel",
            "_view_count": null,
            "_view_module": "@jupyter-widgets/controls",
            "_view_module_version": "1.5.0",
            "_view_name": "HTMLView",
            "description": "",
            "description_tooltip": null,
            "layout": "IPY_MODEL_f8c2119557744fef8f2bbb877581f5b2",
            "placeholder": "​",
            "style": "IPY_MODEL_632e51203a8e4ff2a3d8ba191009d247",
            "value": " 1875/1875 [00:13&lt;00:00, 123.63it/s]"
          }
        },
        "c9e8d791436b412caf923edcffbae98f": {
          "model_module": "@jupyter-widgets/base",
          "model_name": "LayoutModel",
          "model_module_version": "1.2.0",
          "state": {
            "_model_module": "@jupyter-widgets/base",
            "_model_module_version": "1.2.0",
            "_model_name": "LayoutModel",
            "_view_count": null,
            "_view_module": "@jupyter-widgets/base",
            "_view_module_version": "1.2.0",
            "_view_name": "LayoutView",
            "align_content": null,
            "align_items": null,
            "align_self": null,
            "border": null,
            "bottom": null,
            "display": null,
            "flex": null,
            "flex_flow": null,
            "grid_area": null,
            "grid_auto_columns": null,
            "grid_auto_flow": null,
            "grid_auto_rows": null,
            "grid_column": null,
            "grid_gap": null,
            "grid_row": null,
            "grid_template_areas": null,
            "grid_template_columns": null,
            "grid_template_rows": null,
            "height": null,
            "justify_content": null,
            "justify_items": null,
            "left": null,
            "margin": null,
            "max_height": null,
            "max_width": null,
            "min_height": null,
            "min_width": null,
            "object_fit": null,
            "object_position": null,
            "order": null,
            "overflow": null,
            "overflow_x": null,
            "overflow_y": null,
            "padding": null,
            "right": null,
            "top": null,
            "visibility": null,
            "width": null
          }
        },
        "8875b8092257453697fc19a6b2bc28d2": {
          "model_module": "@jupyter-widgets/base",
          "model_name": "LayoutModel",
          "model_module_version": "1.2.0",
          "state": {
            "_model_module": "@jupyter-widgets/base",
            "_model_module_version": "1.2.0",
            "_model_name": "LayoutModel",
            "_view_count": null,
            "_view_module": "@jupyter-widgets/base",
            "_view_module_version": "1.2.0",
            "_view_name": "LayoutView",
            "align_content": null,
            "align_items": null,
            "align_self": null,
            "border": null,
            "bottom": null,
            "display": null,
            "flex": null,
            "flex_flow": null,
            "grid_area": null,
            "grid_auto_columns": null,
            "grid_auto_flow": null,
            "grid_auto_rows": null,
            "grid_column": null,
            "grid_gap": null,
            "grid_row": null,
            "grid_template_areas": null,
            "grid_template_columns": null,
            "grid_template_rows": null,
            "height": null,
            "justify_content": null,
            "justify_items": null,
            "left": null,
            "margin": null,
            "max_height": null,
            "max_width": null,
            "min_height": null,
            "min_width": null,
            "object_fit": null,
            "object_position": null,
            "order": null,
            "overflow": null,
            "overflow_x": null,
            "overflow_y": null,
            "padding": null,
            "right": null,
            "top": null,
            "visibility": null,
            "width": null
          }
        },
        "da1b9577e1a44e16b62e5000fbb0e59f": {
          "model_module": "@jupyter-widgets/controls",
          "model_name": "DescriptionStyleModel",
          "model_module_version": "1.5.0",
          "state": {
            "_model_module": "@jupyter-widgets/controls",
            "_model_module_version": "1.5.0",
            "_model_name": "DescriptionStyleModel",
            "_view_count": null,
            "_view_module": "@jupyter-widgets/base",
            "_view_module_version": "1.2.0",
            "_view_name": "StyleView",
            "description_width": ""
          }
        },
        "40770809b8c54764aa3598b7e4f1d2ec": {
          "model_module": "@jupyter-widgets/base",
          "model_name": "LayoutModel",
          "model_module_version": "1.2.0",
          "state": {
            "_model_module": "@jupyter-widgets/base",
            "_model_module_version": "1.2.0",
            "_model_name": "LayoutModel",
            "_view_count": null,
            "_view_module": "@jupyter-widgets/base",
            "_view_module_version": "1.2.0",
            "_view_name": "LayoutView",
            "align_content": null,
            "align_items": null,
            "align_self": null,
            "border": null,
            "bottom": null,
            "display": null,
            "flex": null,
            "flex_flow": null,
            "grid_area": null,
            "grid_auto_columns": null,
            "grid_auto_flow": null,
            "grid_auto_rows": null,
            "grid_column": null,
            "grid_gap": null,
            "grid_row": null,
            "grid_template_areas": null,
            "grid_template_columns": null,
            "grid_template_rows": null,
            "height": null,
            "justify_content": null,
            "justify_items": null,
            "left": null,
            "margin": null,
            "max_height": null,
            "max_width": null,
            "min_height": null,
            "min_width": null,
            "object_fit": null,
            "object_position": null,
            "order": null,
            "overflow": null,
            "overflow_x": null,
            "overflow_y": null,
            "padding": null,
            "right": null,
            "top": null,
            "visibility": null,
            "width": null
          }
        },
        "71e69cc887cb4eeca2d91f4f3017fddb": {
          "model_module": "@jupyter-widgets/controls",
          "model_name": "ProgressStyleModel",
          "model_module_version": "1.5.0",
          "state": {
            "_model_module": "@jupyter-widgets/controls",
            "_model_module_version": "1.5.0",
            "_model_name": "ProgressStyleModel",
            "_view_count": null,
            "_view_module": "@jupyter-widgets/base",
            "_view_module_version": "1.2.0",
            "_view_name": "StyleView",
            "bar_color": null,
            "description_width": ""
          }
        },
        "f8c2119557744fef8f2bbb877581f5b2": {
          "model_module": "@jupyter-widgets/base",
          "model_name": "LayoutModel",
          "model_module_version": "1.2.0",
          "state": {
            "_model_module": "@jupyter-widgets/base",
            "_model_module_version": "1.2.0",
            "_model_name": "LayoutModel",
            "_view_count": null,
            "_view_module": "@jupyter-widgets/base",
            "_view_module_version": "1.2.0",
            "_view_name": "LayoutView",
            "align_content": null,
            "align_items": null,
            "align_self": null,
            "border": null,
            "bottom": null,
            "display": null,
            "flex": null,
            "flex_flow": null,
            "grid_area": null,
            "grid_auto_columns": null,
            "grid_auto_flow": null,
            "grid_auto_rows": null,
            "grid_column": null,
            "grid_gap": null,
            "grid_row": null,
            "grid_template_areas": null,
            "grid_template_columns": null,
            "grid_template_rows": null,
            "height": null,
            "justify_content": null,
            "justify_items": null,
            "left": null,
            "margin": null,
            "max_height": null,
            "max_width": null,
            "min_height": null,
            "min_width": null,
            "object_fit": null,
            "object_position": null,
            "order": null,
            "overflow": null,
            "overflow_x": null,
            "overflow_y": null,
            "padding": null,
            "right": null,
            "top": null,
            "visibility": null,
            "width": null
          }
        },
        "632e51203a8e4ff2a3d8ba191009d247": {
          "model_module": "@jupyter-widgets/controls",
          "model_name": "DescriptionStyleModel",
          "model_module_version": "1.5.0",
          "state": {
            "_model_module": "@jupyter-widgets/controls",
            "_model_module_version": "1.5.0",
            "_model_name": "DescriptionStyleModel",
            "_view_count": null,
            "_view_module": "@jupyter-widgets/base",
            "_view_module_version": "1.2.0",
            "_view_name": "StyleView",
            "description_width": ""
          }
        },
        "97ffe793fc1e4692b6fc7581373a40a2": {
          "model_module": "@jupyter-widgets/controls",
          "model_name": "HBoxModel",
          "model_module_version": "1.5.0",
          "state": {
            "_dom_classes": [],
            "_model_module": "@jupyter-widgets/controls",
            "_model_module_version": "1.5.0",
            "_model_name": "HBoxModel",
            "_view_count": null,
            "_view_module": "@jupyter-widgets/controls",
            "_view_module_version": "1.5.0",
            "_view_name": "HBoxView",
            "box_style": "",
            "children": [
              "IPY_MODEL_b726ad94f31b4aa8a35b33b0faf4ae13",
              "IPY_MODEL_383a1b1efd244d73a327b9f6d9fbb907",
              "IPY_MODEL_2c5fd969e40b454bbc17d7b7a9fe68c0"
            ],
            "layout": "IPY_MODEL_917f22e6fdd64e8486c5e75d115a70ad"
          }
        },
        "b726ad94f31b4aa8a35b33b0faf4ae13": {
          "model_module": "@jupyter-widgets/controls",
          "model_name": "HTMLModel",
          "model_module_version": "1.5.0",
          "state": {
            "_dom_classes": [],
            "_model_module": "@jupyter-widgets/controls",
            "_model_module_version": "1.5.0",
            "_model_name": "HTMLModel",
            "_view_count": null,
            "_view_module": "@jupyter-widgets/controls",
            "_view_module_version": "1.5.0",
            "_view_name": "HTMLView",
            "description": "",
            "description_tooltip": null,
            "layout": "IPY_MODEL_2088b07b67bd4c43b773b184b154ac24",
            "placeholder": "​",
            "style": "IPY_MODEL_99af9929515540b48eb4a57f5133a05a",
            "value": "100%"
          }
        },
        "383a1b1efd244d73a327b9f6d9fbb907": {
          "model_module": "@jupyter-widgets/controls",
          "model_name": "FloatProgressModel",
          "model_module_version": "1.5.0",
          "state": {
            "_dom_classes": [],
            "_model_module": "@jupyter-widgets/controls",
            "_model_module_version": "1.5.0",
            "_model_name": "FloatProgressModel",
            "_view_count": null,
            "_view_module": "@jupyter-widgets/controls",
            "_view_module_version": "1.5.0",
            "_view_name": "ProgressView",
            "bar_style": "success",
            "description": "",
            "description_tooltip": null,
            "layout": "IPY_MODEL_cf28708d55a9444e82bb80ab1064eb21",
            "max": 1875,
            "min": 0,
            "orientation": "horizontal",
            "style": "IPY_MODEL_dac8eaca943b43edaa99f98cb9bed36f",
            "value": 1875
          }
        },
        "2c5fd969e40b454bbc17d7b7a9fe68c0": {
          "model_module": "@jupyter-widgets/controls",
          "model_name": "HTMLModel",
          "model_module_version": "1.5.0",
          "state": {
            "_dom_classes": [],
            "_model_module": "@jupyter-widgets/controls",
            "_model_module_version": "1.5.0",
            "_model_name": "HTMLModel",
            "_view_count": null,
            "_view_module": "@jupyter-widgets/controls",
            "_view_module_version": "1.5.0",
            "_view_name": "HTMLView",
            "description": "",
            "description_tooltip": null,
            "layout": "IPY_MODEL_93a4c2b127dd4fefa6f5f1c9096daab9",
            "placeholder": "​",
            "style": "IPY_MODEL_ead84c5b15bb43fd876ca6a7e130f2a1",
            "value": " 1875/1875 [00:13&lt;00:00, 141.97it/s]"
          }
        },
        "917f22e6fdd64e8486c5e75d115a70ad": {
          "model_module": "@jupyter-widgets/base",
          "model_name": "LayoutModel",
          "model_module_version": "1.2.0",
          "state": {
            "_model_module": "@jupyter-widgets/base",
            "_model_module_version": "1.2.0",
            "_model_name": "LayoutModel",
            "_view_count": null,
            "_view_module": "@jupyter-widgets/base",
            "_view_module_version": "1.2.0",
            "_view_name": "LayoutView",
            "align_content": null,
            "align_items": null,
            "align_self": null,
            "border": null,
            "bottom": null,
            "display": null,
            "flex": null,
            "flex_flow": null,
            "grid_area": null,
            "grid_auto_columns": null,
            "grid_auto_flow": null,
            "grid_auto_rows": null,
            "grid_column": null,
            "grid_gap": null,
            "grid_row": null,
            "grid_template_areas": null,
            "grid_template_columns": null,
            "grid_template_rows": null,
            "height": null,
            "justify_content": null,
            "justify_items": null,
            "left": null,
            "margin": null,
            "max_height": null,
            "max_width": null,
            "min_height": null,
            "min_width": null,
            "object_fit": null,
            "object_position": null,
            "order": null,
            "overflow": null,
            "overflow_x": null,
            "overflow_y": null,
            "padding": null,
            "right": null,
            "top": null,
            "visibility": null,
            "width": null
          }
        },
        "2088b07b67bd4c43b773b184b154ac24": {
          "model_module": "@jupyter-widgets/base",
          "model_name": "LayoutModel",
          "model_module_version": "1.2.0",
          "state": {
            "_model_module": "@jupyter-widgets/base",
            "_model_module_version": "1.2.0",
            "_model_name": "LayoutModel",
            "_view_count": null,
            "_view_module": "@jupyter-widgets/base",
            "_view_module_version": "1.2.0",
            "_view_name": "LayoutView",
            "align_content": null,
            "align_items": null,
            "align_self": null,
            "border": null,
            "bottom": null,
            "display": null,
            "flex": null,
            "flex_flow": null,
            "grid_area": null,
            "grid_auto_columns": null,
            "grid_auto_flow": null,
            "grid_auto_rows": null,
            "grid_column": null,
            "grid_gap": null,
            "grid_row": null,
            "grid_template_areas": null,
            "grid_template_columns": null,
            "grid_template_rows": null,
            "height": null,
            "justify_content": null,
            "justify_items": null,
            "left": null,
            "margin": null,
            "max_height": null,
            "max_width": null,
            "min_height": null,
            "min_width": null,
            "object_fit": null,
            "object_position": null,
            "order": null,
            "overflow": null,
            "overflow_x": null,
            "overflow_y": null,
            "padding": null,
            "right": null,
            "top": null,
            "visibility": null,
            "width": null
          }
        },
        "99af9929515540b48eb4a57f5133a05a": {
          "model_module": "@jupyter-widgets/controls",
          "model_name": "DescriptionStyleModel",
          "model_module_version": "1.5.0",
          "state": {
            "_model_module": "@jupyter-widgets/controls",
            "_model_module_version": "1.5.0",
            "_model_name": "DescriptionStyleModel",
            "_view_count": null,
            "_view_module": "@jupyter-widgets/base",
            "_view_module_version": "1.2.0",
            "_view_name": "StyleView",
            "description_width": ""
          }
        },
        "cf28708d55a9444e82bb80ab1064eb21": {
          "model_module": "@jupyter-widgets/base",
          "model_name": "LayoutModel",
          "model_module_version": "1.2.0",
          "state": {
            "_model_module": "@jupyter-widgets/base",
            "_model_module_version": "1.2.0",
            "_model_name": "LayoutModel",
            "_view_count": null,
            "_view_module": "@jupyter-widgets/base",
            "_view_module_version": "1.2.0",
            "_view_name": "LayoutView",
            "align_content": null,
            "align_items": null,
            "align_self": null,
            "border": null,
            "bottom": null,
            "display": null,
            "flex": null,
            "flex_flow": null,
            "grid_area": null,
            "grid_auto_columns": null,
            "grid_auto_flow": null,
            "grid_auto_rows": null,
            "grid_column": null,
            "grid_gap": null,
            "grid_row": null,
            "grid_template_areas": null,
            "grid_template_columns": null,
            "grid_template_rows": null,
            "height": null,
            "justify_content": null,
            "justify_items": null,
            "left": null,
            "margin": null,
            "max_height": null,
            "max_width": null,
            "min_height": null,
            "min_width": null,
            "object_fit": null,
            "object_position": null,
            "order": null,
            "overflow": null,
            "overflow_x": null,
            "overflow_y": null,
            "padding": null,
            "right": null,
            "top": null,
            "visibility": null,
            "width": null
          }
        },
        "dac8eaca943b43edaa99f98cb9bed36f": {
          "model_module": "@jupyter-widgets/controls",
          "model_name": "ProgressStyleModel",
          "model_module_version": "1.5.0",
          "state": {
            "_model_module": "@jupyter-widgets/controls",
            "_model_module_version": "1.5.0",
            "_model_name": "ProgressStyleModel",
            "_view_count": null,
            "_view_module": "@jupyter-widgets/base",
            "_view_module_version": "1.2.0",
            "_view_name": "StyleView",
            "bar_color": null,
            "description_width": ""
          }
        },
        "93a4c2b127dd4fefa6f5f1c9096daab9": {
          "model_module": "@jupyter-widgets/base",
          "model_name": "LayoutModel",
          "model_module_version": "1.2.0",
          "state": {
            "_model_module": "@jupyter-widgets/base",
            "_model_module_version": "1.2.0",
            "_model_name": "LayoutModel",
            "_view_count": null,
            "_view_module": "@jupyter-widgets/base",
            "_view_module_version": "1.2.0",
            "_view_name": "LayoutView",
            "align_content": null,
            "align_items": null,
            "align_self": null,
            "border": null,
            "bottom": null,
            "display": null,
            "flex": null,
            "flex_flow": null,
            "grid_area": null,
            "grid_auto_columns": null,
            "grid_auto_flow": null,
            "grid_auto_rows": null,
            "grid_column": null,
            "grid_gap": null,
            "grid_row": null,
            "grid_template_areas": null,
            "grid_template_columns": null,
            "grid_template_rows": null,
            "height": null,
            "justify_content": null,
            "justify_items": null,
            "left": null,
            "margin": null,
            "max_height": null,
            "max_width": null,
            "min_height": null,
            "min_width": null,
            "object_fit": null,
            "object_position": null,
            "order": null,
            "overflow": null,
            "overflow_x": null,
            "overflow_y": null,
            "padding": null,
            "right": null,
            "top": null,
            "visibility": null,
            "width": null
          }
        },
        "ead84c5b15bb43fd876ca6a7e130f2a1": {
          "model_module": "@jupyter-widgets/controls",
          "model_name": "DescriptionStyleModel",
          "model_module_version": "1.5.0",
          "state": {
            "_model_module": "@jupyter-widgets/controls",
            "_model_module_version": "1.5.0",
            "_model_name": "DescriptionStyleModel",
            "_view_count": null,
            "_view_module": "@jupyter-widgets/base",
            "_view_module_version": "1.2.0",
            "_view_name": "StyleView",
            "description_width": ""
          }
        },
        "801a89ec3fa2476f88f3f41f337c4a10": {
          "model_module": "@jupyter-widgets/controls",
          "model_name": "HBoxModel",
          "model_module_version": "1.5.0",
          "state": {
            "_dom_classes": [],
            "_model_module": "@jupyter-widgets/controls",
            "_model_module_version": "1.5.0",
            "_model_name": "HBoxModel",
            "_view_count": null,
            "_view_module": "@jupyter-widgets/controls",
            "_view_module_version": "1.5.0",
            "_view_name": "HBoxView",
            "box_style": "",
            "children": [
              "IPY_MODEL_891fc7aa416848be8fae8f4f2ae5a81a",
              "IPY_MODEL_aaab406a299e4d3aa58a9fe761119157",
              "IPY_MODEL_ed4015409ae54e7cb133645d5c3780cb"
            ],
            "layout": "IPY_MODEL_569a82eaef534899b9ec9d5ca61b15d4"
          }
        },
        "891fc7aa416848be8fae8f4f2ae5a81a": {
          "model_module": "@jupyter-widgets/controls",
          "model_name": "HTMLModel",
          "model_module_version": "1.5.0",
          "state": {
            "_dom_classes": [],
            "_model_module": "@jupyter-widgets/controls",
            "_model_module_version": "1.5.0",
            "_model_name": "HTMLModel",
            "_view_count": null,
            "_view_module": "@jupyter-widgets/controls",
            "_view_module_version": "1.5.0",
            "_view_name": "HTMLView",
            "description": "",
            "description_tooltip": null,
            "layout": "IPY_MODEL_d8a1966c772d47faba8c2f77a4725875",
            "placeholder": "​",
            "style": "IPY_MODEL_cd20b2faff0c4cba8820ab1c3235247a",
            "value": "100%"
          }
        },
        "aaab406a299e4d3aa58a9fe761119157": {
          "model_module": "@jupyter-widgets/controls",
          "model_name": "FloatProgressModel",
          "model_module_version": "1.5.0",
          "state": {
            "_dom_classes": [],
            "_model_module": "@jupyter-widgets/controls",
            "_model_module_version": "1.5.0",
            "_model_name": "FloatProgressModel",
            "_view_count": null,
            "_view_module": "@jupyter-widgets/controls",
            "_view_module_version": "1.5.0",
            "_view_name": "ProgressView",
            "bar_style": "success",
            "description": "",
            "description_tooltip": null,
            "layout": "IPY_MODEL_9c6da6f95ee9403c89e32500636907c1",
            "max": 1875,
            "min": 0,
            "orientation": "horizontal",
            "style": "IPY_MODEL_54516cd81b194422923f81528049c71f",
            "value": 1875
          }
        },
        "ed4015409ae54e7cb133645d5c3780cb": {
          "model_module": "@jupyter-widgets/controls",
          "model_name": "HTMLModel",
          "model_module_version": "1.5.0",
          "state": {
            "_dom_classes": [],
            "_model_module": "@jupyter-widgets/controls",
            "_model_module_version": "1.5.0",
            "_model_name": "HTMLModel",
            "_view_count": null,
            "_view_module": "@jupyter-widgets/controls",
            "_view_module_version": "1.5.0",
            "_view_name": "HTMLView",
            "description": "",
            "description_tooltip": null,
            "layout": "IPY_MODEL_c62bcc3e72f54989831dcf8f83aa1c3b",
            "placeholder": "​",
            "style": "IPY_MODEL_786ba224a16e4891a2ce704da8bd314b",
            "value": " 1875/1875 [00:13&lt;00:00, 139.22it/s]"
          }
        },
        "569a82eaef534899b9ec9d5ca61b15d4": {
          "model_module": "@jupyter-widgets/base",
          "model_name": "LayoutModel",
          "model_module_version": "1.2.0",
          "state": {
            "_model_module": "@jupyter-widgets/base",
            "_model_module_version": "1.2.0",
            "_model_name": "LayoutModel",
            "_view_count": null,
            "_view_module": "@jupyter-widgets/base",
            "_view_module_version": "1.2.0",
            "_view_name": "LayoutView",
            "align_content": null,
            "align_items": null,
            "align_self": null,
            "border": null,
            "bottom": null,
            "display": null,
            "flex": null,
            "flex_flow": null,
            "grid_area": null,
            "grid_auto_columns": null,
            "grid_auto_flow": null,
            "grid_auto_rows": null,
            "grid_column": null,
            "grid_gap": null,
            "grid_row": null,
            "grid_template_areas": null,
            "grid_template_columns": null,
            "grid_template_rows": null,
            "height": null,
            "justify_content": null,
            "justify_items": null,
            "left": null,
            "margin": null,
            "max_height": null,
            "max_width": null,
            "min_height": null,
            "min_width": null,
            "object_fit": null,
            "object_position": null,
            "order": null,
            "overflow": null,
            "overflow_x": null,
            "overflow_y": null,
            "padding": null,
            "right": null,
            "top": null,
            "visibility": null,
            "width": null
          }
        },
        "d8a1966c772d47faba8c2f77a4725875": {
          "model_module": "@jupyter-widgets/base",
          "model_name": "LayoutModel",
          "model_module_version": "1.2.0",
          "state": {
            "_model_module": "@jupyter-widgets/base",
            "_model_module_version": "1.2.0",
            "_model_name": "LayoutModel",
            "_view_count": null,
            "_view_module": "@jupyter-widgets/base",
            "_view_module_version": "1.2.0",
            "_view_name": "LayoutView",
            "align_content": null,
            "align_items": null,
            "align_self": null,
            "border": null,
            "bottom": null,
            "display": null,
            "flex": null,
            "flex_flow": null,
            "grid_area": null,
            "grid_auto_columns": null,
            "grid_auto_flow": null,
            "grid_auto_rows": null,
            "grid_column": null,
            "grid_gap": null,
            "grid_row": null,
            "grid_template_areas": null,
            "grid_template_columns": null,
            "grid_template_rows": null,
            "height": null,
            "justify_content": null,
            "justify_items": null,
            "left": null,
            "margin": null,
            "max_height": null,
            "max_width": null,
            "min_height": null,
            "min_width": null,
            "object_fit": null,
            "object_position": null,
            "order": null,
            "overflow": null,
            "overflow_x": null,
            "overflow_y": null,
            "padding": null,
            "right": null,
            "top": null,
            "visibility": null,
            "width": null
          }
        },
        "cd20b2faff0c4cba8820ab1c3235247a": {
          "model_module": "@jupyter-widgets/controls",
          "model_name": "DescriptionStyleModel",
          "model_module_version": "1.5.0",
          "state": {
            "_model_module": "@jupyter-widgets/controls",
            "_model_module_version": "1.5.0",
            "_model_name": "DescriptionStyleModel",
            "_view_count": null,
            "_view_module": "@jupyter-widgets/base",
            "_view_module_version": "1.2.0",
            "_view_name": "StyleView",
            "description_width": ""
          }
        },
        "9c6da6f95ee9403c89e32500636907c1": {
          "model_module": "@jupyter-widgets/base",
          "model_name": "LayoutModel",
          "model_module_version": "1.2.0",
          "state": {
            "_model_module": "@jupyter-widgets/base",
            "_model_module_version": "1.2.0",
            "_model_name": "LayoutModel",
            "_view_count": null,
            "_view_module": "@jupyter-widgets/base",
            "_view_module_version": "1.2.0",
            "_view_name": "LayoutView",
            "align_content": null,
            "align_items": null,
            "align_self": null,
            "border": null,
            "bottom": null,
            "display": null,
            "flex": null,
            "flex_flow": null,
            "grid_area": null,
            "grid_auto_columns": null,
            "grid_auto_flow": null,
            "grid_auto_rows": null,
            "grid_column": null,
            "grid_gap": null,
            "grid_row": null,
            "grid_template_areas": null,
            "grid_template_columns": null,
            "grid_template_rows": null,
            "height": null,
            "justify_content": null,
            "justify_items": null,
            "left": null,
            "margin": null,
            "max_height": null,
            "max_width": null,
            "min_height": null,
            "min_width": null,
            "object_fit": null,
            "object_position": null,
            "order": null,
            "overflow": null,
            "overflow_x": null,
            "overflow_y": null,
            "padding": null,
            "right": null,
            "top": null,
            "visibility": null,
            "width": null
          }
        },
        "54516cd81b194422923f81528049c71f": {
          "model_module": "@jupyter-widgets/controls",
          "model_name": "ProgressStyleModel",
          "model_module_version": "1.5.0",
          "state": {
            "_model_module": "@jupyter-widgets/controls",
            "_model_module_version": "1.5.0",
            "_model_name": "ProgressStyleModel",
            "_view_count": null,
            "_view_module": "@jupyter-widgets/base",
            "_view_module_version": "1.2.0",
            "_view_name": "StyleView",
            "bar_color": null,
            "description_width": ""
          }
        },
        "c62bcc3e72f54989831dcf8f83aa1c3b": {
          "model_module": "@jupyter-widgets/base",
          "model_name": "LayoutModel",
          "model_module_version": "1.2.0",
          "state": {
            "_model_module": "@jupyter-widgets/base",
            "_model_module_version": "1.2.0",
            "_model_name": "LayoutModel",
            "_view_count": null,
            "_view_module": "@jupyter-widgets/base",
            "_view_module_version": "1.2.0",
            "_view_name": "LayoutView",
            "align_content": null,
            "align_items": null,
            "align_self": null,
            "border": null,
            "bottom": null,
            "display": null,
            "flex": null,
            "flex_flow": null,
            "grid_area": null,
            "grid_auto_columns": null,
            "grid_auto_flow": null,
            "grid_auto_rows": null,
            "grid_column": null,
            "grid_gap": null,
            "grid_row": null,
            "grid_template_areas": null,
            "grid_template_columns": null,
            "grid_template_rows": null,
            "height": null,
            "justify_content": null,
            "justify_items": null,
            "left": null,
            "margin": null,
            "max_height": null,
            "max_width": null,
            "min_height": null,
            "min_width": null,
            "object_fit": null,
            "object_position": null,
            "order": null,
            "overflow": null,
            "overflow_x": null,
            "overflow_y": null,
            "padding": null,
            "right": null,
            "top": null,
            "visibility": null,
            "width": null
          }
        },
        "786ba224a16e4891a2ce704da8bd314b": {
          "model_module": "@jupyter-widgets/controls",
          "model_name": "DescriptionStyleModel",
          "model_module_version": "1.5.0",
          "state": {
            "_model_module": "@jupyter-widgets/controls",
            "_model_module_version": "1.5.0",
            "_model_name": "DescriptionStyleModel",
            "_view_count": null,
            "_view_module": "@jupyter-widgets/base",
            "_view_module_version": "1.2.0",
            "_view_name": "StyleView",
            "description_width": ""
          }
        },
        "131540bf4de7460e98eda3d3432720b2": {
          "model_module": "@jupyter-widgets/controls",
          "model_name": "HBoxModel",
          "model_module_version": "1.5.0",
          "state": {
            "_dom_classes": [],
            "_model_module": "@jupyter-widgets/controls",
            "_model_module_version": "1.5.0",
            "_model_name": "HBoxModel",
            "_view_count": null,
            "_view_module": "@jupyter-widgets/controls",
            "_view_module_version": "1.5.0",
            "_view_name": "HBoxView",
            "box_style": "",
            "children": [
              "IPY_MODEL_bc214d0672a04993a216f00609fc5c1a",
              "IPY_MODEL_eeabbf83e94a4e29a94588187b6656e3",
              "IPY_MODEL_fb7940d795e84dd7be756afd79eaf23a"
            ],
            "layout": "IPY_MODEL_2c129b32f85a47d782f5f47176d687c6"
          }
        },
        "bc214d0672a04993a216f00609fc5c1a": {
          "model_module": "@jupyter-widgets/controls",
          "model_name": "HTMLModel",
          "model_module_version": "1.5.0",
          "state": {
            "_dom_classes": [],
            "_model_module": "@jupyter-widgets/controls",
            "_model_module_version": "1.5.0",
            "_model_name": "HTMLModel",
            "_view_count": null,
            "_view_module": "@jupyter-widgets/controls",
            "_view_module_version": "1.5.0",
            "_view_name": "HTMLView",
            "description": "",
            "description_tooltip": null,
            "layout": "IPY_MODEL_eaba319923964826a88299b3b1f0a519",
            "placeholder": "​",
            "style": "IPY_MODEL_03b006701f254467b0a8b8ca020c9153",
            "value": "100%"
          }
        },
        "eeabbf83e94a4e29a94588187b6656e3": {
          "model_module": "@jupyter-widgets/controls",
          "model_name": "FloatProgressModel",
          "model_module_version": "1.5.0",
          "state": {
            "_dom_classes": [],
            "_model_module": "@jupyter-widgets/controls",
            "_model_module_version": "1.5.0",
            "_model_name": "FloatProgressModel",
            "_view_count": null,
            "_view_module": "@jupyter-widgets/controls",
            "_view_module_version": "1.5.0",
            "_view_name": "ProgressView",
            "bar_style": "success",
            "description": "",
            "description_tooltip": null,
            "layout": "IPY_MODEL_470ff9d136ed45d5aedb5ca709b0680b",
            "max": 1875,
            "min": 0,
            "orientation": "horizontal",
            "style": "IPY_MODEL_ed2d4eae8c9d432398541bac85efc4db",
            "value": 1875
          }
        },
        "fb7940d795e84dd7be756afd79eaf23a": {
          "model_module": "@jupyter-widgets/controls",
          "model_name": "HTMLModel",
          "model_module_version": "1.5.0",
          "state": {
            "_dom_classes": [],
            "_model_module": "@jupyter-widgets/controls",
            "_model_module_version": "1.5.0",
            "_model_name": "HTMLModel",
            "_view_count": null,
            "_view_module": "@jupyter-widgets/controls",
            "_view_module_version": "1.5.0",
            "_view_name": "HTMLView",
            "description": "",
            "description_tooltip": null,
            "layout": "IPY_MODEL_b88f099ddffb4c0ba65c20db7dc1f335",
            "placeholder": "​",
            "style": "IPY_MODEL_654fb639d4b84442b514ebbf14bd3d81",
            "value": " 1875/1875 [00:13&lt;00:00, 142.30it/s]"
          }
        },
        "2c129b32f85a47d782f5f47176d687c6": {
          "model_module": "@jupyter-widgets/base",
          "model_name": "LayoutModel",
          "model_module_version": "1.2.0",
          "state": {
            "_model_module": "@jupyter-widgets/base",
            "_model_module_version": "1.2.0",
            "_model_name": "LayoutModel",
            "_view_count": null,
            "_view_module": "@jupyter-widgets/base",
            "_view_module_version": "1.2.0",
            "_view_name": "LayoutView",
            "align_content": null,
            "align_items": null,
            "align_self": null,
            "border": null,
            "bottom": null,
            "display": null,
            "flex": null,
            "flex_flow": null,
            "grid_area": null,
            "grid_auto_columns": null,
            "grid_auto_flow": null,
            "grid_auto_rows": null,
            "grid_column": null,
            "grid_gap": null,
            "grid_row": null,
            "grid_template_areas": null,
            "grid_template_columns": null,
            "grid_template_rows": null,
            "height": null,
            "justify_content": null,
            "justify_items": null,
            "left": null,
            "margin": null,
            "max_height": null,
            "max_width": null,
            "min_height": null,
            "min_width": null,
            "object_fit": null,
            "object_position": null,
            "order": null,
            "overflow": null,
            "overflow_x": null,
            "overflow_y": null,
            "padding": null,
            "right": null,
            "top": null,
            "visibility": null,
            "width": null
          }
        },
        "eaba319923964826a88299b3b1f0a519": {
          "model_module": "@jupyter-widgets/base",
          "model_name": "LayoutModel",
          "model_module_version": "1.2.0",
          "state": {
            "_model_module": "@jupyter-widgets/base",
            "_model_module_version": "1.2.0",
            "_model_name": "LayoutModel",
            "_view_count": null,
            "_view_module": "@jupyter-widgets/base",
            "_view_module_version": "1.2.0",
            "_view_name": "LayoutView",
            "align_content": null,
            "align_items": null,
            "align_self": null,
            "border": null,
            "bottom": null,
            "display": null,
            "flex": null,
            "flex_flow": null,
            "grid_area": null,
            "grid_auto_columns": null,
            "grid_auto_flow": null,
            "grid_auto_rows": null,
            "grid_column": null,
            "grid_gap": null,
            "grid_row": null,
            "grid_template_areas": null,
            "grid_template_columns": null,
            "grid_template_rows": null,
            "height": null,
            "justify_content": null,
            "justify_items": null,
            "left": null,
            "margin": null,
            "max_height": null,
            "max_width": null,
            "min_height": null,
            "min_width": null,
            "object_fit": null,
            "object_position": null,
            "order": null,
            "overflow": null,
            "overflow_x": null,
            "overflow_y": null,
            "padding": null,
            "right": null,
            "top": null,
            "visibility": null,
            "width": null
          }
        },
        "03b006701f254467b0a8b8ca020c9153": {
          "model_module": "@jupyter-widgets/controls",
          "model_name": "DescriptionStyleModel",
          "model_module_version": "1.5.0",
          "state": {
            "_model_module": "@jupyter-widgets/controls",
            "_model_module_version": "1.5.0",
            "_model_name": "DescriptionStyleModel",
            "_view_count": null,
            "_view_module": "@jupyter-widgets/base",
            "_view_module_version": "1.2.0",
            "_view_name": "StyleView",
            "description_width": ""
          }
        },
        "470ff9d136ed45d5aedb5ca709b0680b": {
          "model_module": "@jupyter-widgets/base",
          "model_name": "LayoutModel",
          "model_module_version": "1.2.0",
          "state": {
            "_model_module": "@jupyter-widgets/base",
            "_model_module_version": "1.2.0",
            "_model_name": "LayoutModel",
            "_view_count": null,
            "_view_module": "@jupyter-widgets/base",
            "_view_module_version": "1.2.0",
            "_view_name": "LayoutView",
            "align_content": null,
            "align_items": null,
            "align_self": null,
            "border": null,
            "bottom": null,
            "display": null,
            "flex": null,
            "flex_flow": null,
            "grid_area": null,
            "grid_auto_columns": null,
            "grid_auto_flow": null,
            "grid_auto_rows": null,
            "grid_column": null,
            "grid_gap": null,
            "grid_row": null,
            "grid_template_areas": null,
            "grid_template_columns": null,
            "grid_template_rows": null,
            "height": null,
            "justify_content": null,
            "justify_items": null,
            "left": null,
            "margin": null,
            "max_height": null,
            "max_width": null,
            "min_height": null,
            "min_width": null,
            "object_fit": null,
            "object_position": null,
            "order": null,
            "overflow": null,
            "overflow_x": null,
            "overflow_y": null,
            "padding": null,
            "right": null,
            "top": null,
            "visibility": null,
            "width": null
          }
        },
        "ed2d4eae8c9d432398541bac85efc4db": {
          "model_module": "@jupyter-widgets/controls",
          "model_name": "ProgressStyleModel",
          "model_module_version": "1.5.0",
          "state": {
            "_model_module": "@jupyter-widgets/controls",
            "_model_module_version": "1.5.0",
            "_model_name": "ProgressStyleModel",
            "_view_count": null,
            "_view_module": "@jupyter-widgets/base",
            "_view_module_version": "1.2.0",
            "_view_name": "StyleView",
            "bar_color": null,
            "description_width": ""
          }
        },
        "b88f099ddffb4c0ba65c20db7dc1f335": {
          "model_module": "@jupyter-widgets/base",
          "model_name": "LayoutModel",
          "model_module_version": "1.2.0",
          "state": {
            "_model_module": "@jupyter-widgets/base",
            "_model_module_version": "1.2.0",
            "_model_name": "LayoutModel",
            "_view_count": null,
            "_view_module": "@jupyter-widgets/base",
            "_view_module_version": "1.2.0",
            "_view_name": "LayoutView",
            "align_content": null,
            "align_items": null,
            "align_self": null,
            "border": null,
            "bottom": null,
            "display": null,
            "flex": null,
            "flex_flow": null,
            "grid_area": null,
            "grid_auto_columns": null,
            "grid_auto_flow": null,
            "grid_auto_rows": null,
            "grid_column": null,
            "grid_gap": null,
            "grid_row": null,
            "grid_template_areas": null,
            "grid_template_columns": null,
            "grid_template_rows": null,
            "height": null,
            "justify_content": null,
            "justify_items": null,
            "left": null,
            "margin": null,
            "max_height": null,
            "max_width": null,
            "min_height": null,
            "min_width": null,
            "object_fit": null,
            "object_position": null,
            "order": null,
            "overflow": null,
            "overflow_x": null,
            "overflow_y": null,
            "padding": null,
            "right": null,
            "top": null,
            "visibility": null,
            "width": null
          }
        },
        "654fb639d4b84442b514ebbf14bd3d81": {
          "model_module": "@jupyter-widgets/controls",
          "model_name": "DescriptionStyleModel",
          "model_module_version": "1.5.0",
          "state": {
            "_model_module": "@jupyter-widgets/controls",
            "_model_module_version": "1.5.0",
            "_model_name": "DescriptionStyleModel",
            "_view_count": null,
            "_view_module": "@jupyter-widgets/base",
            "_view_module_version": "1.2.0",
            "_view_name": "StyleView",
            "description_width": ""
          }
        },
        "e139aed2330b44d488d42298f9e24a4c": {
          "model_module": "@jupyter-widgets/controls",
          "model_name": "HBoxModel",
          "model_module_version": "1.5.0",
          "state": {
            "_dom_classes": [],
            "_model_module": "@jupyter-widgets/controls",
            "_model_module_version": "1.5.0",
            "_model_name": "HBoxModel",
            "_view_count": null,
            "_view_module": "@jupyter-widgets/controls",
            "_view_module_version": "1.5.0",
            "_view_name": "HBoxView",
            "box_style": "",
            "children": [
              "IPY_MODEL_4d20cfaa83f74b6eb0f05a0467818a66",
              "IPY_MODEL_9adb6a5652f44132897f306725610b19",
              "IPY_MODEL_6f3aa1ca721245bd97c9398de71c4358"
            ],
            "layout": "IPY_MODEL_cb1102c62d85437697fef427d51e3e2b"
          }
        },
        "4d20cfaa83f74b6eb0f05a0467818a66": {
          "model_module": "@jupyter-widgets/controls",
          "model_name": "HTMLModel",
          "model_module_version": "1.5.0",
          "state": {
            "_dom_classes": [],
            "_model_module": "@jupyter-widgets/controls",
            "_model_module_version": "1.5.0",
            "_model_name": "HTMLModel",
            "_view_count": null,
            "_view_module": "@jupyter-widgets/controls",
            "_view_module_version": "1.5.0",
            "_view_name": "HTMLView",
            "description": "",
            "description_tooltip": null,
            "layout": "IPY_MODEL_fbe7586ffb2047cdb2dbea7e61b272b4",
            "placeholder": "​",
            "style": "IPY_MODEL_6de9740aaa8c4bcba31afbf73afb26eb",
            "value": "100%"
          }
        },
        "9adb6a5652f44132897f306725610b19": {
          "model_module": "@jupyter-widgets/controls",
          "model_name": "FloatProgressModel",
          "model_module_version": "1.5.0",
          "state": {
            "_dom_classes": [],
            "_model_module": "@jupyter-widgets/controls",
            "_model_module_version": "1.5.0",
            "_model_name": "FloatProgressModel",
            "_view_count": null,
            "_view_module": "@jupyter-widgets/controls",
            "_view_module_version": "1.5.0",
            "_view_name": "ProgressView",
            "bar_style": "success",
            "description": "",
            "description_tooltip": null,
            "layout": "IPY_MODEL_5fd0c8da1f2c4cad970039a214db22c9",
            "max": 1875,
            "min": 0,
            "orientation": "horizontal",
            "style": "IPY_MODEL_b33c7bc6f67646e8a507e047c1777cdf",
            "value": 1875
          }
        },
        "6f3aa1ca721245bd97c9398de71c4358": {
          "model_module": "@jupyter-widgets/controls",
          "model_name": "HTMLModel",
          "model_module_version": "1.5.0",
          "state": {
            "_dom_classes": [],
            "_model_module": "@jupyter-widgets/controls",
            "_model_module_version": "1.5.0",
            "_model_name": "HTMLModel",
            "_view_count": null,
            "_view_module": "@jupyter-widgets/controls",
            "_view_module_version": "1.5.0",
            "_view_name": "HTMLView",
            "description": "",
            "description_tooltip": null,
            "layout": "IPY_MODEL_650fdc4555dd404f9b51400dec47db19",
            "placeholder": "​",
            "style": "IPY_MODEL_156751d86ac14b75b7ac9c9551f5500f",
            "value": " 1875/1875 [00:13&lt;00:00, 149.43it/s]"
          }
        },
        "cb1102c62d85437697fef427d51e3e2b": {
          "model_module": "@jupyter-widgets/base",
          "model_name": "LayoutModel",
          "model_module_version": "1.2.0",
          "state": {
            "_model_module": "@jupyter-widgets/base",
            "_model_module_version": "1.2.0",
            "_model_name": "LayoutModel",
            "_view_count": null,
            "_view_module": "@jupyter-widgets/base",
            "_view_module_version": "1.2.0",
            "_view_name": "LayoutView",
            "align_content": null,
            "align_items": null,
            "align_self": null,
            "border": null,
            "bottom": null,
            "display": null,
            "flex": null,
            "flex_flow": null,
            "grid_area": null,
            "grid_auto_columns": null,
            "grid_auto_flow": null,
            "grid_auto_rows": null,
            "grid_column": null,
            "grid_gap": null,
            "grid_row": null,
            "grid_template_areas": null,
            "grid_template_columns": null,
            "grid_template_rows": null,
            "height": null,
            "justify_content": null,
            "justify_items": null,
            "left": null,
            "margin": null,
            "max_height": null,
            "max_width": null,
            "min_height": null,
            "min_width": null,
            "object_fit": null,
            "object_position": null,
            "order": null,
            "overflow": null,
            "overflow_x": null,
            "overflow_y": null,
            "padding": null,
            "right": null,
            "top": null,
            "visibility": null,
            "width": null
          }
        },
        "fbe7586ffb2047cdb2dbea7e61b272b4": {
          "model_module": "@jupyter-widgets/base",
          "model_name": "LayoutModel",
          "model_module_version": "1.2.0",
          "state": {
            "_model_module": "@jupyter-widgets/base",
            "_model_module_version": "1.2.0",
            "_model_name": "LayoutModel",
            "_view_count": null,
            "_view_module": "@jupyter-widgets/base",
            "_view_module_version": "1.2.0",
            "_view_name": "LayoutView",
            "align_content": null,
            "align_items": null,
            "align_self": null,
            "border": null,
            "bottom": null,
            "display": null,
            "flex": null,
            "flex_flow": null,
            "grid_area": null,
            "grid_auto_columns": null,
            "grid_auto_flow": null,
            "grid_auto_rows": null,
            "grid_column": null,
            "grid_gap": null,
            "grid_row": null,
            "grid_template_areas": null,
            "grid_template_columns": null,
            "grid_template_rows": null,
            "height": null,
            "justify_content": null,
            "justify_items": null,
            "left": null,
            "margin": null,
            "max_height": null,
            "max_width": null,
            "min_height": null,
            "min_width": null,
            "object_fit": null,
            "object_position": null,
            "order": null,
            "overflow": null,
            "overflow_x": null,
            "overflow_y": null,
            "padding": null,
            "right": null,
            "top": null,
            "visibility": null,
            "width": null
          }
        },
        "6de9740aaa8c4bcba31afbf73afb26eb": {
          "model_module": "@jupyter-widgets/controls",
          "model_name": "DescriptionStyleModel",
          "model_module_version": "1.5.0",
          "state": {
            "_model_module": "@jupyter-widgets/controls",
            "_model_module_version": "1.5.0",
            "_model_name": "DescriptionStyleModel",
            "_view_count": null,
            "_view_module": "@jupyter-widgets/base",
            "_view_module_version": "1.2.0",
            "_view_name": "StyleView",
            "description_width": ""
          }
        },
        "5fd0c8da1f2c4cad970039a214db22c9": {
          "model_module": "@jupyter-widgets/base",
          "model_name": "LayoutModel",
          "model_module_version": "1.2.0",
          "state": {
            "_model_module": "@jupyter-widgets/base",
            "_model_module_version": "1.2.0",
            "_model_name": "LayoutModel",
            "_view_count": null,
            "_view_module": "@jupyter-widgets/base",
            "_view_module_version": "1.2.0",
            "_view_name": "LayoutView",
            "align_content": null,
            "align_items": null,
            "align_self": null,
            "border": null,
            "bottom": null,
            "display": null,
            "flex": null,
            "flex_flow": null,
            "grid_area": null,
            "grid_auto_columns": null,
            "grid_auto_flow": null,
            "grid_auto_rows": null,
            "grid_column": null,
            "grid_gap": null,
            "grid_row": null,
            "grid_template_areas": null,
            "grid_template_columns": null,
            "grid_template_rows": null,
            "height": null,
            "justify_content": null,
            "justify_items": null,
            "left": null,
            "margin": null,
            "max_height": null,
            "max_width": null,
            "min_height": null,
            "min_width": null,
            "object_fit": null,
            "object_position": null,
            "order": null,
            "overflow": null,
            "overflow_x": null,
            "overflow_y": null,
            "padding": null,
            "right": null,
            "top": null,
            "visibility": null,
            "width": null
          }
        },
        "b33c7bc6f67646e8a507e047c1777cdf": {
          "model_module": "@jupyter-widgets/controls",
          "model_name": "ProgressStyleModel",
          "model_module_version": "1.5.0",
          "state": {
            "_model_module": "@jupyter-widgets/controls",
            "_model_module_version": "1.5.0",
            "_model_name": "ProgressStyleModel",
            "_view_count": null,
            "_view_module": "@jupyter-widgets/base",
            "_view_module_version": "1.2.0",
            "_view_name": "StyleView",
            "bar_color": null,
            "description_width": ""
          }
        },
        "650fdc4555dd404f9b51400dec47db19": {
          "model_module": "@jupyter-widgets/base",
          "model_name": "LayoutModel",
          "model_module_version": "1.2.0",
          "state": {
            "_model_module": "@jupyter-widgets/base",
            "_model_module_version": "1.2.0",
            "_model_name": "LayoutModel",
            "_view_count": null,
            "_view_module": "@jupyter-widgets/base",
            "_view_module_version": "1.2.0",
            "_view_name": "LayoutView",
            "align_content": null,
            "align_items": null,
            "align_self": null,
            "border": null,
            "bottom": null,
            "display": null,
            "flex": null,
            "flex_flow": null,
            "grid_area": null,
            "grid_auto_columns": null,
            "grid_auto_flow": null,
            "grid_auto_rows": null,
            "grid_column": null,
            "grid_gap": null,
            "grid_row": null,
            "grid_template_areas": null,
            "grid_template_columns": null,
            "grid_template_rows": null,
            "height": null,
            "justify_content": null,
            "justify_items": null,
            "left": null,
            "margin": null,
            "max_height": null,
            "max_width": null,
            "min_height": null,
            "min_width": null,
            "object_fit": null,
            "object_position": null,
            "order": null,
            "overflow": null,
            "overflow_x": null,
            "overflow_y": null,
            "padding": null,
            "right": null,
            "top": null,
            "visibility": null,
            "width": null
          }
        },
        "156751d86ac14b75b7ac9c9551f5500f": {
          "model_module": "@jupyter-widgets/controls",
          "model_name": "DescriptionStyleModel",
          "model_module_version": "1.5.0",
          "state": {
            "_model_module": "@jupyter-widgets/controls",
            "_model_module_version": "1.5.0",
            "_model_name": "DescriptionStyleModel",
            "_view_count": null,
            "_view_module": "@jupyter-widgets/base",
            "_view_module_version": "1.2.0",
            "_view_name": "StyleView",
            "description_width": ""
          }
        },
        "f4544804e4374e8f80011c80b3def725": {
          "model_module": "@jupyter-widgets/controls",
          "model_name": "HBoxModel",
          "model_module_version": "1.5.0",
          "state": {
            "_dom_classes": [],
            "_model_module": "@jupyter-widgets/controls",
            "_model_module_version": "1.5.0",
            "_model_name": "HBoxModel",
            "_view_count": null,
            "_view_module": "@jupyter-widgets/controls",
            "_view_module_version": "1.5.0",
            "_view_name": "HBoxView",
            "box_style": "",
            "children": [
              "IPY_MODEL_87fdd42df87d4ff8883e1ae8bcd52a29",
              "IPY_MODEL_af05a9f2aadc42b2b0bd7ae3dd814c6c",
              "IPY_MODEL_6fa829ad5666412c85cc0455198b7b8c"
            ],
            "layout": "IPY_MODEL_19345c06bfe84b36b78fcccb28e3718c"
          }
        },
        "87fdd42df87d4ff8883e1ae8bcd52a29": {
          "model_module": "@jupyter-widgets/controls",
          "model_name": "HTMLModel",
          "model_module_version": "1.5.0",
          "state": {
            "_dom_classes": [],
            "_model_module": "@jupyter-widgets/controls",
            "_model_module_version": "1.5.0",
            "_model_name": "HTMLModel",
            "_view_count": null,
            "_view_module": "@jupyter-widgets/controls",
            "_view_module_version": "1.5.0",
            "_view_name": "HTMLView",
            "description": "",
            "description_tooltip": null,
            "layout": "IPY_MODEL_0f8653a562924d65a86188abbe5e55ee",
            "placeholder": "​",
            "style": "IPY_MODEL_a6aa9e69b238403393bf5ef91dc349a3",
            "value": "100%"
          }
        },
        "af05a9f2aadc42b2b0bd7ae3dd814c6c": {
          "model_module": "@jupyter-widgets/controls",
          "model_name": "FloatProgressModel",
          "model_module_version": "1.5.0",
          "state": {
            "_dom_classes": [],
            "_model_module": "@jupyter-widgets/controls",
            "_model_module_version": "1.5.0",
            "_model_name": "FloatProgressModel",
            "_view_count": null,
            "_view_module": "@jupyter-widgets/controls",
            "_view_module_version": "1.5.0",
            "_view_name": "ProgressView",
            "bar_style": "success",
            "description": "",
            "description_tooltip": null,
            "layout": "IPY_MODEL_9dd6b1b801be4d85933b4aa381a7c01e",
            "max": 1875,
            "min": 0,
            "orientation": "horizontal",
            "style": "IPY_MODEL_1917fd7c99374ad497d92d018c434ee2",
            "value": 1875
          }
        },
        "6fa829ad5666412c85cc0455198b7b8c": {
          "model_module": "@jupyter-widgets/controls",
          "model_name": "HTMLModel",
          "model_module_version": "1.5.0",
          "state": {
            "_dom_classes": [],
            "_model_module": "@jupyter-widgets/controls",
            "_model_module_version": "1.5.0",
            "_model_name": "HTMLModel",
            "_view_count": null,
            "_view_module": "@jupyter-widgets/controls",
            "_view_module_version": "1.5.0",
            "_view_name": "HTMLView",
            "description": "",
            "description_tooltip": null,
            "layout": "IPY_MODEL_c43c0e32c88e429f835687c6ad93459b",
            "placeholder": "​",
            "style": "IPY_MODEL_83b3903a40f64777b59ade400c064d16",
            "value": " 1875/1875 [00:13&lt;00:00, 137.48it/s]"
          }
        },
        "19345c06bfe84b36b78fcccb28e3718c": {
          "model_module": "@jupyter-widgets/base",
          "model_name": "LayoutModel",
          "model_module_version": "1.2.0",
          "state": {
            "_model_module": "@jupyter-widgets/base",
            "_model_module_version": "1.2.0",
            "_model_name": "LayoutModel",
            "_view_count": null,
            "_view_module": "@jupyter-widgets/base",
            "_view_module_version": "1.2.0",
            "_view_name": "LayoutView",
            "align_content": null,
            "align_items": null,
            "align_self": null,
            "border": null,
            "bottom": null,
            "display": null,
            "flex": null,
            "flex_flow": null,
            "grid_area": null,
            "grid_auto_columns": null,
            "grid_auto_flow": null,
            "grid_auto_rows": null,
            "grid_column": null,
            "grid_gap": null,
            "grid_row": null,
            "grid_template_areas": null,
            "grid_template_columns": null,
            "grid_template_rows": null,
            "height": null,
            "justify_content": null,
            "justify_items": null,
            "left": null,
            "margin": null,
            "max_height": null,
            "max_width": null,
            "min_height": null,
            "min_width": null,
            "object_fit": null,
            "object_position": null,
            "order": null,
            "overflow": null,
            "overflow_x": null,
            "overflow_y": null,
            "padding": null,
            "right": null,
            "top": null,
            "visibility": null,
            "width": null
          }
        },
        "0f8653a562924d65a86188abbe5e55ee": {
          "model_module": "@jupyter-widgets/base",
          "model_name": "LayoutModel",
          "model_module_version": "1.2.0",
          "state": {
            "_model_module": "@jupyter-widgets/base",
            "_model_module_version": "1.2.0",
            "_model_name": "LayoutModel",
            "_view_count": null,
            "_view_module": "@jupyter-widgets/base",
            "_view_module_version": "1.2.0",
            "_view_name": "LayoutView",
            "align_content": null,
            "align_items": null,
            "align_self": null,
            "border": null,
            "bottom": null,
            "display": null,
            "flex": null,
            "flex_flow": null,
            "grid_area": null,
            "grid_auto_columns": null,
            "grid_auto_flow": null,
            "grid_auto_rows": null,
            "grid_column": null,
            "grid_gap": null,
            "grid_row": null,
            "grid_template_areas": null,
            "grid_template_columns": null,
            "grid_template_rows": null,
            "height": null,
            "justify_content": null,
            "justify_items": null,
            "left": null,
            "margin": null,
            "max_height": null,
            "max_width": null,
            "min_height": null,
            "min_width": null,
            "object_fit": null,
            "object_position": null,
            "order": null,
            "overflow": null,
            "overflow_x": null,
            "overflow_y": null,
            "padding": null,
            "right": null,
            "top": null,
            "visibility": null,
            "width": null
          }
        },
        "a6aa9e69b238403393bf5ef91dc349a3": {
          "model_module": "@jupyter-widgets/controls",
          "model_name": "DescriptionStyleModel",
          "model_module_version": "1.5.0",
          "state": {
            "_model_module": "@jupyter-widgets/controls",
            "_model_module_version": "1.5.0",
            "_model_name": "DescriptionStyleModel",
            "_view_count": null,
            "_view_module": "@jupyter-widgets/base",
            "_view_module_version": "1.2.0",
            "_view_name": "StyleView",
            "description_width": ""
          }
        },
        "9dd6b1b801be4d85933b4aa381a7c01e": {
          "model_module": "@jupyter-widgets/base",
          "model_name": "LayoutModel",
          "model_module_version": "1.2.0",
          "state": {
            "_model_module": "@jupyter-widgets/base",
            "_model_module_version": "1.2.0",
            "_model_name": "LayoutModel",
            "_view_count": null,
            "_view_module": "@jupyter-widgets/base",
            "_view_module_version": "1.2.0",
            "_view_name": "LayoutView",
            "align_content": null,
            "align_items": null,
            "align_self": null,
            "border": null,
            "bottom": null,
            "display": null,
            "flex": null,
            "flex_flow": null,
            "grid_area": null,
            "grid_auto_columns": null,
            "grid_auto_flow": null,
            "grid_auto_rows": null,
            "grid_column": null,
            "grid_gap": null,
            "grid_row": null,
            "grid_template_areas": null,
            "grid_template_columns": null,
            "grid_template_rows": null,
            "height": null,
            "justify_content": null,
            "justify_items": null,
            "left": null,
            "margin": null,
            "max_height": null,
            "max_width": null,
            "min_height": null,
            "min_width": null,
            "object_fit": null,
            "object_position": null,
            "order": null,
            "overflow": null,
            "overflow_x": null,
            "overflow_y": null,
            "padding": null,
            "right": null,
            "top": null,
            "visibility": null,
            "width": null
          }
        },
        "1917fd7c99374ad497d92d018c434ee2": {
          "model_module": "@jupyter-widgets/controls",
          "model_name": "ProgressStyleModel",
          "model_module_version": "1.5.0",
          "state": {
            "_model_module": "@jupyter-widgets/controls",
            "_model_module_version": "1.5.0",
            "_model_name": "ProgressStyleModel",
            "_view_count": null,
            "_view_module": "@jupyter-widgets/base",
            "_view_module_version": "1.2.0",
            "_view_name": "StyleView",
            "bar_color": null,
            "description_width": ""
          }
        },
        "c43c0e32c88e429f835687c6ad93459b": {
          "model_module": "@jupyter-widgets/base",
          "model_name": "LayoutModel",
          "model_module_version": "1.2.0",
          "state": {
            "_model_module": "@jupyter-widgets/base",
            "_model_module_version": "1.2.0",
            "_model_name": "LayoutModel",
            "_view_count": null,
            "_view_module": "@jupyter-widgets/base",
            "_view_module_version": "1.2.0",
            "_view_name": "LayoutView",
            "align_content": null,
            "align_items": null,
            "align_self": null,
            "border": null,
            "bottom": null,
            "display": null,
            "flex": null,
            "flex_flow": null,
            "grid_area": null,
            "grid_auto_columns": null,
            "grid_auto_flow": null,
            "grid_auto_rows": null,
            "grid_column": null,
            "grid_gap": null,
            "grid_row": null,
            "grid_template_areas": null,
            "grid_template_columns": null,
            "grid_template_rows": null,
            "height": null,
            "justify_content": null,
            "justify_items": null,
            "left": null,
            "margin": null,
            "max_height": null,
            "max_width": null,
            "min_height": null,
            "min_width": null,
            "object_fit": null,
            "object_position": null,
            "order": null,
            "overflow": null,
            "overflow_x": null,
            "overflow_y": null,
            "padding": null,
            "right": null,
            "top": null,
            "visibility": null,
            "width": null
          }
        },
        "83b3903a40f64777b59ade400c064d16": {
          "model_module": "@jupyter-widgets/controls",
          "model_name": "DescriptionStyleModel",
          "model_module_version": "1.5.0",
          "state": {
            "_model_module": "@jupyter-widgets/controls",
            "_model_module_version": "1.5.0",
            "_model_name": "DescriptionStyleModel",
            "_view_count": null,
            "_view_module": "@jupyter-widgets/base",
            "_view_module_version": "1.2.0",
            "_view_name": "StyleView",
            "description_width": ""
          }
        }
      }
    }
  },
  "nbformat": 4,
  "nbformat_minor": 0
}